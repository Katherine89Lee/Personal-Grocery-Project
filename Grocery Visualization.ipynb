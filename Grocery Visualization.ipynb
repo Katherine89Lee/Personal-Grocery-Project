{
 "cells": [
  {
   "cell_type": "code",
   "execution_count": 19,
   "id": "a14e200e",
   "metadata": {},
   "outputs": [
    {
     "data": {
      "text/html": [
       "<div>\n",
       "<style scoped>\n",
       "    .dataframe tbody tr th:only-of-type {\n",
       "        vertical-align: middle;\n",
       "    }\n",
       "\n",
       "    .dataframe tbody tr th {\n",
       "        vertical-align: top;\n",
       "    }\n",
       "\n",
       "    .dataframe thead th {\n",
       "        text-align: right;\n",
       "    }\n",
       "</style>\n",
       "<table border=\"1\" class=\"dataframe\">\n",
       "  <thead>\n",
       "    <tr style=\"text-align: right;\">\n",
       "      <th></th>\n",
       "      <th>Date</th>\n",
       "      <th>Item Total</th>\n",
       "      <th>Baked Goods qty</th>\n",
       "      <th>Alcohol qty</th>\n",
       "      <th>Grocery qty</th>\n",
       "      <th>Produce qty</th>\n",
       "      <th>Meat qty</th>\n",
       "      <th>Service deli qty</th>\n",
       "      <th>Dairy-Deli (frz/refrig) qty</th>\n",
       "      <th>Gen Merch qty</th>\n",
       "      <th>...</th>\n",
       "      <th>Dairy-Deli cost</th>\n",
       "      <th>Gen Merch cost</th>\n",
       "      <th>Coupon Cost</th>\n",
       "      <th>Cost (total)</th>\n",
       "      <th>Taxes</th>\n",
       "      <th>Checkout Time</th>\n",
       "      <th>Cashier</th>\n",
       "      <th>Day of the Week</th>\n",
       "      <th>Total Savings</th>\n",
       "      <th>Terminal</th>\n",
       "    </tr>\n",
       "  </thead>\n",
       "  <tbody>\n",
       "    <tr>\n",
       "      <th>0</th>\n",
       "      <td>5/7/1995</td>\n",
       "      <td>23</td>\n",
       "      <td>NaN</td>\n",
       "      <td>NaN</td>\n",
       "      <td>23.0</td>\n",
       "      <td>NaN</td>\n",
       "      <td>NaN</td>\n",
       "      <td>NaN</td>\n",
       "      <td>NaN</td>\n",
       "      <td>NaN</td>\n",
       "      <td>...</td>\n",
       "      <td>NaN</td>\n",
       "      <td>NaN</td>\n",
       "      <td>NaN</td>\n",
       "      <td>83.72</td>\n",
       "      <td>4.43</td>\n",
       "      <td>9:19:00 PM</td>\n",
       "      <td>NaN</td>\n",
       "      <td>Sunday</td>\n",
       "      <td>0.00</td>\n",
       "      <td>NaN</td>\n",
       "    </tr>\n",
       "    <tr>\n",
       "      <th>1</th>\n",
       "      <td>5/16/1995</td>\n",
       "      <td>22</td>\n",
       "      <td>NaN</td>\n",
       "      <td>NaN</td>\n",
       "      <td>22.0</td>\n",
       "      <td>NaN</td>\n",
       "      <td>NaN</td>\n",
       "      <td>NaN</td>\n",
       "      <td>NaN</td>\n",
       "      <td>NaN</td>\n",
       "      <td>...</td>\n",
       "      <td>NaN</td>\n",
       "      <td>NaN</td>\n",
       "      <td>1.57</td>\n",
       "      <td>50.51</td>\n",
       "      <td>1.63</td>\n",
       "      <td>11:50:07 PM</td>\n",
       "      <td>NaN</td>\n",
       "      <td>Tuesday</td>\n",
       "      <td>0.00</td>\n",
       "      <td>NaN</td>\n",
       "    </tr>\n",
       "    <tr>\n",
       "      <th>2</th>\n",
       "      <td>9/15/2019</td>\n",
       "      <td>19</td>\n",
       "      <td>NaN</td>\n",
       "      <td>NaN</td>\n",
       "      <td>3.0</td>\n",
       "      <td>4.0</td>\n",
       "      <td>2.0</td>\n",
       "      <td>1.0</td>\n",
       "      <td>9.0</td>\n",
       "      <td>NaN</td>\n",
       "      <td>...</td>\n",
       "      <td>30.47</td>\n",
       "      <td>NaN</td>\n",
       "      <td>NaN</td>\n",
       "      <td>82.36</td>\n",
       "      <td>0.00</td>\n",
       "      <td>2:05:20 PM</td>\n",
       "      <td>Martin</td>\n",
       "      <td>Sunday</td>\n",
       "      <td>9.94</td>\n",
       "      <td>3</td>\n",
       "    </tr>\n",
       "    <tr>\n",
       "      <th>3</th>\n",
       "      <td>12/22/2019</td>\n",
       "      <td>31</td>\n",
       "      <td>NaN</td>\n",
       "      <td>1.0</td>\n",
       "      <td>15.0</td>\n",
       "      <td>NaN</td>\n",
       "      <td>5.0</td>\n",
       "      <td>NaN</td>\n",
       "      <td>9.0</td>\n",
       "      <td>1.0</td>\n",
       "      <td>...</td>\n",
       "      <td>31.55</td>\n",
       "      <td>3.39</td>\n",
       "      <td>NaN</td>\n",
       "      <td>108.33</td>\n",
       "      <td>NaN</td>\n",
       "      <td>2:33:26 PM</td>\n",
       "      <td>jamie</td>\n",
       "      <td>Sunday</td>\n",
       "      <td>12.90</td>\n",
       "      <td>1</td>\n",
       "    </tr>\n",
       "    <tr>\n",
       "      <th>4</th>\n",
       "      <td>1/7/2020</td>\n",
       "      <td>5</td>\n",
       "      <td>NaN</td>\n",
       "      <td>NaN</td>\n",
       "      <td>4.0</td>\n",
       "      <td>NaN</td>\n",
       "      <td>NaN</td>\n",
       "      <td>1.0</td>\n",
       "      <td>NaN</td>\n",
       "      <td>NaN</td>\n",
       "      <td>...</td>\n",
       "      <td>NaN</td>\n",
       "      <td>NaN</td>\n",
       "      <td>NaN</td>\n",
       "      <td>14.80</td>\n",
       "      <td>0.19</td>\n",
       "      <td>11:51:45 AM</td>\n",
       "      <td>FastLane1</td>\n",
       "      <td>Tuesday</td>\n",
       "      <td>1.80</td>\n",
       "      <td>Self</td>\n",
       "    </tr>\n",
       "  </tbody>\n",
       "</table>\n",
       "<p>5 rows × 31 columns</p>\n",
       "</div>"
      ],
      "text/plain": [
       "         Date  Item Total  Baked Goods qty  Alcohol qty  Grocery qty  \\\n",
       "0    5/7/1995          23              NaN          NaN         23.0   \n",
       "1   5/16/1995          22              NaN          NaN         22.0   \n",
       "2   9/15/2019          19              NaN          NaN          3.0   \n",
       "3  12/22/2019          31              NaN          1.0         15.0   \n",
       "4    1/7/2020           5              NaN          NaN          4.0   \n",
       "\n",
       "   Produce qty  Meat qty  Service deli qty  Dairy-Deli (frz/refrig) qty  \\\n",
       "0          NaN       NaN               NaN                          NaN   \n",
       "1          NaN       NaN               NaN                          NaN   \n",
       "2          4.0       2.0               1.0                          9.0   \n",
       "3          NaN       5.0               NaN                          9.0   \n",
       "4          NaN       NaN               1.0                          NaN   \n",
       "\n",
       "   Gen Merch qty  ...  Dairy-Deli cost  Gen Merch cost  Coupon Cost  \\\n",
       "0            NaN  ...              NaN             NaN          NaN   \n",
       "1            NaN  ...              NaN             NaN         1.57   \n",
       "2            NaN  ...            30.47             NaN          NaN   \n",
       "3            1.0  ...            31.55            3.39          NaN   \n",
       "4            NaN  ...              NaN             NaN          NaN   \n",
       "\n",
       "  Cost (total)  Taxes  Checkout Time    Cashier  Day of the Week  \\\n",
       "0        83.72   4.43     9:19:00 PM        NaN           Sunday   \n",
       "1        50.51   1.63    11:50:07 PM        NaN          Tuesday   \n",
       "2        82.36   0.00     2:05:20 PM     Martin           Sunday   \n",
       "3       108.33    NaN     2:33:26 PM      jamie           Sunday   \n",
       "4        14.80   0.19    11:51:45 AM  FastLane1          Tuesday   \n",
       "\n",
       "   Total Savings  Terminal  \n",
       "0           0.00       NaN  \n",
       "1           0.00       NaN  \n",
       "2           9.94         3  \n",
       "3          12.90         1  \n",
       "4           1.80      Self  \n",
       "\n",
       "[5 rows x 31 columns]"
      ]
     },
     "execution_count": 19,
     "metadata": {},
     "output_type": "execute_result"
    }
   ],
   "source": [
    "import pandas as pd \n",
    "import matplotlib.pyplot as plt\n",
    "import seaborn as sns\n",
    "import numpy as np\n",
    "\n",
    "#Upload dataset and get feel for data\n",
    "groceries = pd.read_csv('Grocery Trends.csv')\n",
    "groceries.head()"
   ]
  },
  {
   "cell_type": "code",
   "execution_count": 20,
   "id": "a36b4d5e",
   "metadata": {},
   "outputs": [
    {
     "data": {
      "text/html": [
       "<div>\n",
       "<style scoped>\n",
       "    .dataframe tbody tr th:only-of-type {\n",
       "        vertical-align: middle;\n",
       "    }\n",
       "\n",
       "    .dataframe tbody tr th {\n",
       "        vertical-align: top;\n",
       "    }\n",
       "\n",
       "    .dataframe thead th {\n",
       "        text-align: right;\n",
       "    }\n",
       "</style>\n",
       "<table border=\"1\" class=\"dataframe\">\n",
       "  <thead>\n",
       "    <tr style=\"text-align: right;\">\n",
       "      <th></th>\n",
       "      <th>Date</th>\n",
       "      <th>Item Total</th>\n",
       "      <th>Baked Goods qty</th>\n",
       "      <th>Alcohol qty</th>\n",
       "      <th>Grocery qty</th>\n",
       "      <th>Produce qty</th>\n",
       "      <th>Meat qty</th>\n",
       "      <th>Service deli qty</th>\n",
       "      <th>Dairy-Deli (frz/refrig) qty</th>\n",
       "      <th>Gen Merch qty</th>\n",
       "      <th>...</th>\n",
       "      <th>Dairy-Deli cost</th>\n",
       "      <th>Gen Merch cost</th>\n",
       "      <th>Coupon Cost</th>\n",
       "      <th>Cost (total)</th>\n",
       "      <th>Taxes</th>\n",
       "      <th>Checkout Time</th>\n",
       "      <th>Cashier</th>\n",
       "      <th>Day of the Week</th>\n",
       "      <th>Total Savings</th>\n",
       "      <th>Terminal</th>\n",
       "    </tr>\n",
       "  </thead>\n",
       "  <tbody>\n",
       "    <tr>\n",
       "      <th>143</th>\n",
       "      <td>6/5/2022</td>\n",
       "      <td>30</td>\n",
       "      <td>NaN</td>\n",
       "      <td>NaN</td>\n",
       "      <td>14.0</td>\n",
       "      <td>5.0</td>\n",
       "      <td>3.0</td>\n",
       "      <td>NaN</td>\n",
       "      <td>8.0</td>\n",
       "      <td>NaN</td>\n",
       "      <td>...</td>\n",
       "      <td>30.45</td>\n",
       "      <td>NaN</td>\n",
       "      <td>NaN</td>\n",
       "      <td>156.24</td>\n",
       "      <td>1.10</td>\n",
       "      <td>7:22:07 AM</td>\n",
       "      <td>Olivia</td>\n",
       "      <td>Sunday</td>\n",
       "      <td>9.88</td>\n",
       "      <td>7</td>\n",
       "    </tr>\n",
       "    <tr>\n",
       "      <th>144</th>\n",
       "      <td>6/12/2022</td>\n",
       "      <td>31</td>\n",
       "      <td>NaN</td>\n",
       "      <td>NaN</td>\n",
       "      <td>10.0</td>\n",
       "      <td>4.0</td>\n",
       "      <td>5.0</td>\n",
       "      <td>NaN</td>\n",
       "      <td>11.0</td>\n",
       "      <td>1.0</td>\n",
       "      <td>...</td>\n",
       "      <td>24.21</td>\n",
       "      <td>9.99</td>\n",
       "      <td>3.0</td>\n",
       "      <td>108.13</td>\n",
       "      <td>1.02</td>\n",
       "      <td>7:40:24 AM</td>\n",
       "      <td>Andrew</td>\n",
       "      <td>Sunday</td>\n",
       "      <td>21.82</td>\n",
       "      <td>7</td>\n",
       "    </tr>\n",
       "    <tr>\n",
       "      <th>145</th>\n",
       "      <td>6/19/2022</td>\n",
       "      <td>41</td>\n",
       "      <td>1.0</td>\n",
       "      <td>NaN</td>\n",
       "      <td>17.0</td>\n",
       "      <td>8.0</td>\n",
       "      <td>6.0</td>\n",
       "      <td>1.0</td>\n",
       "      <td>8.0</td>\n",
       "      <td>NaN</td>\n",
       "      <td>...</td>\n",
       "      <td>27.12</td>\n",
       "      <td>NaN</td>\n",
       "      <td>1.0</td>\n",
       "      <td>146.80</td>\n",
       "      <td>0.00</td>\n",
       "      <td>8:03:16 AM</td>\n",
       "      <td>Jacqui</td>\n",
       "      <td>Sunday</td>\n",
       "      <td>18.40</td>\n",
       "      <td>7</td>\n",
       "    </tr>\n",
       "    <tr>\n",
       "      <th>146</th>\n",
       "      <td>6/26/2022</td>\n",
       "      <td>45</td>\n",
       "      <td>NaN</td>\n",
       "      <td>NaN</td>\n",
       "      <td>20.0</td>\n",
       "      <td>7.0</td>\n",
       "      <td>3.0</td>\n",
       "      <td>1.0</td>\n",
       "      <td>12.0</td>\n",
       "      <td>2.0</td>\n",
       "      <td>...</td>\n",
       "      <td>39.73</td>\n",
       "      <td>14.88</td>\n",
       "      <td>NaN</td>\n",
       "      <td>170.64</td>\n",
       "      <td>1.53</td>\n",
       "      <td>7:53:18 AM</td>\n",
       "      <td>Olivia</td>\n",
       "      <td>Sunday</td>\n",
       "      <td>24.68</td>\n",
       "      <td>7</td>\n",
       "    </tr>\n",
       "    <tr>\n",
       "      <th>147</th>\n",
       "      <td>7/3/2022</td>\n",
       "      <td>44</td>\n",
       "      <td>NaN</td>\n",
       "      <td>NaN</td>\n",
       "      <td>15.0</td>\n",
       "      <td>11.0</td>\n",
       "      <td>7.0</td>\n",
       "      <td>NaN</td>\n",
       "      <td>7.0</td>\n",
       "      <td>4.0</td>\n",
       "      <td>...</td>\n",
       "      <td>14.59</td>\n",
       "      <td>8.27</td>\n",
       "      <td>NaN</td>\n",
       "      <td>147.01</td>\n",
       "      <td>1.08</td>\n",
       "      <td>7:53:38 AM</td>\n",
       "      <td>Frank M</td>\n",
       "      <td>Sunday</td>\n",
       "      <td>23.34</td>\n",
       "      <td>7</td>\n",
       "    </tr>\n",
       "  </tbody>\n",
       "</table>\n",
       "<p>5 rows × 31 columns</p>\n",
       "</div>"
      ],
      "text/plain": [
       "          Date  Item Total  Baked Goods qty  Alcohol qty  Grocery qty  \\\n",
       "143   6/5/2022          30              NaN          NaN         14.0   \n",
       "144  6/12/2022          31              NaN          NaN         10.0   \n",
       "145  6/19/2022          41              1.0          NaN         17.0   \n",
       "146  6/26/2022          45              NaN          NaN         20.0   \n",
       "147   7/3/2022          44              NaN          NaN         15.0   \n",
       "\n",
       "     Produce qty  Meat qty  Service deli qty  Dairy-Deli (frz/refrig) qty  \\\n",
       "143          5.0       3.0               NaN                          8.0   \n",
       "144          4.0       5.0               NaN                         11.0   \n",
       "145          8.0       6.0               1.0                          8.0   \n",
       "146          7.0       3.0               1.0                         12.0   \n",
       "147         11.0       7.0               NaN                          7.0   \n",
       "\n",
       "     Gen Merch qty  ...  Dairy-Deli cost  Gen Merch cost  Coupon Cost  \\\n",
       "143            NaN  ...            30.45             NaN          NaN   \n",
       "144            1.0  ...            24.21            9.99          3.0   \n",
       "145            NaN  ...            27.12             NaN          1.0   \n",
       "146            2.0  ...            39.73           14.88          NaN   \n",
       "147            4.0  ...            14.59            8.27          NaN   \n",
       "\n",
       "    Cost (total)  Taxes  Checkout Time  Cashier  Day of the Week  \\\n",
       "143       156.24   1.10     7:22:07 AM   Olivia           Sunday   \n",
       "144       108.13   1.02     7:40:24 AM   Andrew           Sunday   \n",
       "145       146.80   0.00     8:03:16 AM   Jacqui           Sunday   \n",
       "146       170.64   1.53     7:53:18 AM   Olivia           Sunday   \n",
       "147       147.01   1.08     7:53:38 AM  Frank M           Sunday   \n",
       "\n",
       "     Total Savings  Terminal  \n",
       "143           9.88         7  \n",
       "144          21.82         7  \n",
       "145          18.40         7  \n",
       "146          24.68         7  \n",
       "147          23.34         7  \n",
       "\n",
       "[5 rows x 31 columns]"
      ]
     },
     "execution_count": 20,
     "metadata": {},
     "output_type": "execute_result"
    }
   ],
   "source": [
    "groceries.tail()"
   ]
  },
  {
   "cell_type": "code",
   "execution_count": 21,
   "id": "00e35d76",
   "metadata": {},
   "outputs": [
    {
     "data": {
      "text/html": [
       "<div>\n",
       "<style scoped>\n",
       "    .dataframe tbody tr th:only-of-type {\n",
       "        vertical-align: middle;\n",
       "    }\n",
       "\n",
       "    .dataframe tbody tr th {\n",
       "        vertical-align: top;\n",
       "    }\n",
       "\n",
       "    .dataframe thead th {\n",
       "        text-align: right;\n",
       "    }\n",
       "</style>\n",
       "<table border=\"1\" class=\"dataframe\">\n",
       "  <thead>\n",
       "    <tr style=\"text-align: right;\">\n",
       "      <th></th>\n",
       "      <th>Item Total</th>\n",
       "      <th>Baked Goods qty</th>\n",
       "      <th>Alcohol qty</th>\n",
       "      <th>Grocery qty</th>\n",
       "      <th>Produce qty</th>\n",
       "      <th>Meat qty</th>\n",
       "      <th>Service deli qty</th>\n",
       "      <th>Dairy-Deli (frz/refrig) qty</th>\n",
       "      <th>Gen Merch qty</th>\n",
       "      <th>Seafood qty</th>\n",
       "      <th>...</th>\n",
       "      <th>Meat cost</th>\n",
       "      <th>Grocery cost</th>\n",
       "      <th>Produce cost</th>\n",
       "      <th>Service Deli cost</th>\n",
       "      <th>Dairy-Deli cost</th>\n",
       "      <th>Gen Merch cost</th>\n",
       "      <th>Coupon Cost</th>\n",
       "      <th>Cost (total)</th>\n",
       "      <th>Taxes</th>\n",
       "      <th>Total Savings</th>\n",
       "    </tr>\n",
       "  </thead>\n",
       "  <tbody>\n",
       "    <tr>\n",
       "      <th>count</th>\n",
       "      <td>148.000000</td>\n",
       "      <td>53.000000</td>\n",
       "      <td>4.0</td>\n",
       "      <td>135.000000</td>\n",
       "      <td>115.000000</td>\n",
       "      <td>116.000000</td>\n",
       "      <td>24.000000</td>\n",
       "      <td>121.000000</td>\n",
       "      <td>79.000000</td>\n",
       "      <td>1.0</td>\n",
       "      <td>...</td>\n",
       "      <td>117.000000</td>\n",
       "      <td>135.000000</td>\n",
       "      <td>114.000000</td>\n",
       "      <td>24.000000</td>\n",
       "      <td>120.000000</td>\n",
       "      <td>79.000000</td>\n",
       "      <td>27.000000</td>\n",
       "      <td>148.000000</td>\n",
       "      <td>121.000000</td>\n",
       "      <td>147.000000</td>\n",
       "    </tr>\n",
       "    <tr>\n",
       "      <th>mean</th>\n",
       "      <td>27.581081</td>\n",
       "      <td>1.150943</td>\n",
       "      <td>1.0</td>\n",
       "      <td>11.200000</td>\n",
       "      <td>6.582609</td>\n",
       "      <td>5.232759</td>\n",
       "      <td>1.333333</td>\n",
       "      <td>7.545455</td>\n",
       "      <td>2.037975</td>\n",
       "      <td>1.0</td>\n",
       "      <td>...</td>\n",
       "      <td>39.280256</td>\n",
       "      <td>31.651037</td>\n",
       "      <td>19.264123</td>\n",
       "      <td>9.453333</td>\n",
       "      <td>25.561417</td>\n",
       "      <td>9.216456</td>\n",
       "      <td>8.832222</td>\n",
       "      <td>103.211959</td>\n",
       "      <td>0.863140</td>\n",
       "      <td>13.196871</td>\n",
       "    </tr>\n",
       "    <tr>\n",
       "      <th>std</th>\n",
       "      <td>14.622699</td>\n",
       "      <td>0.361420</td>\n",
       "      <td>0.0</td>\n",
       "      <td>6.010935</td>\n",
       "      <td>3.060738</td>\n",
       "      <td>1.992847</td>\n",
       "      <td>0.637022</td>\n",
       "      <td>3.164912</td>\n",
       "      <td>1.244918</td>\n",
       "      <td>NaN</td>\n",
       "      <td>...</td>\n",
       "      <td>14.906823</td>\n",
       "      <td>18.674094</td>\n",
       "      <td>8.414786</td>\n",
       "      <td>4.771138</td>\n",
       "      <td>10.880120</td>\n",
       "      <td>8.312193</td>\n",
       "      <td>7.503658</td>\n",
       "      <td>52.371033</td>\n",
       "      <td>0.970981</td>\n",
       "      <td>10.933299</td>\n",
       "    </tr>\n",
       "    <tr>\n",
       "      <th>min</th>\n",
       "      <td>1.000000</td>\n",
       "      <td>1.000000</td>\n",
       "      <td>1.0</td>\n",
       "      <td>1.000000</td>\n",
       "      <td>1.000000</td>\n",
       "      <td>1.000000</td>\n",
       "      <td>1.000000</td>\n",
       "      <td>1.000000</td>\n",
       "      <td>1.000000</td>\n",
       "      <td>1.0</td>\n",
       "      <td>...</td>\n",
       "      <td>3.990000</td>\n",
       "      <td>0.670000</td>\n",
       "      <td>1.990000</td>\n",
       "      <td>4.370000</td>\n",
       "      <td>3.290000</td>\n",
       "      <td>0.100000</td>\n",
       "      <td>0.500000</td>\n",
       "      <td>2.390000</td>\n",
       "      <td>0.000000</td>\n",
       "      <td>0.000000</td>\n",
       "    </tr>\n",
       "    <tr>\n",
       "      <th>25%</th>\n",
       "      <td>12.750000</td>\n",
       "      <td>1.000000</td>\n",
       "      <td>1.0</td>\n",
       "      <td>6.500000</td>\n",
       "      <td>4.000000</td>\n",
       "      <td>4.000000</td>\n",
       "      <td>1.000000</td>\n",
       "      <td>6.000000</td>\n",
       "      <td>1.000000</td>\n",
       "      <td>1.0</td>\n",
       "      <td>...</td>\n",
       "      <td>30.700000</td>\n",
       "      <td>17.895000</td>\n",
       "      <td>13.262500</td>\n",
       "      <td>5.990000</td>\n",
       "      <td>17.990000</td>\n",
       "      <td>4.420000</td>\n",
       "      <td>1.730000</td>\n",
       "      <td>58.050000</td>\n",
       "      <td>0.000000</td>\n",
       "      <td>3.355000</td>\n",
       "    </tr>\n",
       "    <tr>\n",
       "      <th>50%</th>\n",
       "      <td>32.000000</td>\n",
       "      <td>1.000000</td>\n",
       "      <td>1.0</td>\n",
       "      <td>11.000000</td>\n",
       "      <td>6.000000</td>\n",
       "      <td>5.000000</td>\n",
       "      <td>1.000000</td>\n",
       "      <td>8.000000</td>\n",
       "      <td>2.000000</td>\n",
       "      <td>1.0</td>\n",
       "      <td>...</td>\n",
       "      <td>39.140000</td>\n",
       "      <td>31.550000</td>\n",
       "      <td>17.225000</td>\n",
       "      <td>8.720000</td>\n",
       "      <td>25.730000</td>\n",
       "      <td>6.990000</td>\n",
       "      <td>6.000000</td>\n",
       "      <td>123.800000</td>\n",
       "      <td>0.650000</td>\n",
       "      <td>11.770000</td>\n",
       "    </tr>\n",
       "    <tr>\n",
       "      <th>75%</th>\n",
       "      <td>38.000000</td>\n",
       "      <td>1.000000</td>\n",
       "      <td>1.0</td>\n",
       "      <td>15.000000</td>\n",
       "      <td>8.500000</td>\n",
       "      <td>7.000000</td>\n",
       "      <td>1.250000</td>\n",
       "      <td>9.000000</td>\n",
       "      <td>3.000000</td>\n",
       "      <td>1.0</td>\n",
       "      <td>...</td>\n",
       "      <td>49.710000</td>\n",
       "      <td>44.170000</td>\n",
       "      <td>25.220000</td>\n",
       "      <td>11.037500</td>\n",
       "      <td>31.220000</td>\n",
       "      <td>11.625000</td>\n",
       "      <td>14.920000</td>\n",
       "      <td>138.420000</td>\n",
       "      <td>1.200000</td>\n",
       "      <td>20.455000</td>\n",
       "    </tr>\n",
       "    <tr>\n",
       "      <th>max</th>\n",
       "      <td>54.000000</td>\n",
       "      <td>2.000000</td>\n",
       "      <td>1.0</td>\n",
       "      <td>25.000000</td>\n",
       "      <td>14.000000</td>\n",
       "      <td>10.000000</td>\n",
       "      <td>3.000000</td>\n",
       "      <td>16.000000</td>\n",
       "      <td>6.000000</td>\n",
       "      <td>1.0</td>\n",
       "      <td>...</td>\n",
       "      <td>77.990000</td>\n",
       "      <td>83.510000</td>\n",
       "      <td>40.920000</td>\n",
       "      <td>22.970000</td>\n",
       "      <td>61.450000</td>\n",
       "      <td>53.770000</td>\n",
       "      <td>21.000000</td>\n",
       "      <td>192.830000</td>\n",
       "      <td>4.810000</td>\n",
       "      <td>55.210000</td>\n",
       "    </tr>\n",
       "  </tbody>\n",
       "</table>\n",
       "<p>8 rows × 25 columns</p>\n",
       "</div>"
      ],
      "text/plain": [
       "       Item Total  Baked Goods qty  Alcohol qty  Grocery qty  Produce qty  \\\n",
       "count  148.000000        53.000000          4.0   135.000000   115.000000   \n",
       "mean    27.581081         1.150943          1.0    11.200000     6.582609   \n",
       "std     14.622699         0.361420          0.0     6.010935     3.060738   \n",
       "min      1.000000         1.000000          1.0     1.000000     1.000000   \n",
       "25%     12.750000         1.000000          1.0     6.500000     4.000000   \n",
       "50%     32.000000         1.000000          1.0    11.000000     6.000000   \n",
       "75%     38.000000         1.000000          1.0    15.000000     8.500000   \n",
       "max     54.000000         2.000000          1.0    25.000000    14.000000   \n",
       "\n",
       "         Meat qty  Service deli qty  Dairy-Deli (frz/refrig) qty  \\\n",
       "count  116.000000         24.000000                   121.000000   \n",
       "mean     5.232759          1.333333                     7.545455   \n",
       "std      1.992847          0.637022                     3.164912   \n",
       "min      1.000000          1.000000                     1.000000   \n",
       "25%      4.000000          1.000000                     6.000000   \n",
       "50%      5.000000          1.000000                     8.000000   \n",
       "75%      7.000000          1.250000                     9.000000   \n",
       "max     10.000000          3.000000                    16.000000   \n",
       "\n",
       "       Gen Merch qty  Seafood qty  ...   Meat cost  Grocery cost  \\\n",
       "count      79.000000          1.0  ...  117.000000    135.000000   \n",
       "mean        2.037975          1.0  ...   39.280256     31.651037   \n",
       "std         1.244918          NaN  ...   14.906823     18.674094   \n",
       "min         1.000000          1.0  ...    3.990000      0.670000   \n",
       "25%         1.000000          1.0  ...   30.700000     17.895000   \n",
       "50%         2.000000          1.0  ...   39.140000     31.550000   \n",
       "75%         3.000000          1.0  ...   49.710000     44.170000   \n",
       "max         6.000000          1.0  ...   77.990000     83.510000   \n",
       "\n",
       "       Produce cost  Service Deli cost  Dairy-Deli cost  Gen Merch cost  \\\n",
       "count    114.000000          24.000000       120.000000       79.000000   \n",
       "mean      19.264123           9.453333        25.561417        9.216456   \n",
       "std        8.414786           4.771138        10.880120        8.312193   \n",
       "min        1.990000           4.370000         3.290000        0.100000   \n",
       "25%       13.262500           5.990000        17.990000        4.420000   \n",
       "50%       17.225000           8.720000        25.730000        6.990000   \n",
       "75%       25.220000          11.037500        31.220000       11.625000   \n",
       "max       40.920000          22.970000        61.450000       53.770000   \n",
       "\n",
       "       Coupon Cost  Cost (total)       Taxes  Total Savings  \n",
       "count    27.000000    148.000000  121.000000     147.000000  \n",
       "mean      8.832222    103.211959    0.863140      13.196871  \n",
       "std       7.503658     52.371033    0.970981      10.933299  \n",
       "min       0.500000      2.390000    0.000000       0.000000  \n",
       "25%       1.730000     58.050000    0.000000       3.355000  \n",
       "50%       6.000000    123.800000    0.650000      11.770000  \n",
       "75%      14.920000    138.420000    1.200000      20.455000  \n",
       "max      21.000000    192.830000    4.810000      55.210000  \n",
       "\n",
       "[8 rows x 25 columns]"
      ]
     },
     "execution_count": 21,
     "metadata": {},
     "output_type": "execute_result"
    }
   ],
   "source": [
    "groceries.describe()"
   ]
  },
  {
   "cell_type": "code",
   "execution_count": 22,
   "id": "32fbfc4e",
   "metadata": {},
   "outputs": [
    {
     "name": "stdout",
     "output_type": "stream",
     "text": [
      "<class 'pandas.core.frame.DataFrame'>\n",
      "RangeIndex: 148 entries, 0 to 147\n",
      "Data columns (total 31 columns):\n",
      " #   Column                       Non-Null Count  Dtype  \n",
      "---  ------                       --------------  -----  \n",
      " 0   Date                         148 non-null    object \n",
      " 1   Item Total                   148 non-null    int64  \n",
      " 2   Baked Goods qty              53 non-null     float64\n",
      " 3   Alcohol qty                  4 non-null      float64\n",
      " 4   Grocery qty                  135 non-null    float64\n",
      " 5   Produce qty                  115 non-null    float64\n",
      " 6   Meat qty                     116 non-null    float64\n",
      " 7   Service deli qty             24 non-null     float64\n",
      " 8   Dairy-Deli (frz/refrig) qty  121 non-null    float64\n",
      " 9   Gen Merch qty                79 non-null     float64\n",
      " 10  Seafood qty                  1 non-null      float64\n",
      " 11  Misc qty                     6 non-null      float64\n",
      " 12  Coupon qty                   13 non-null     float64\n",
      " 13  Misc cost                    5 non-null      object \n",
      " 14  Alcohol Cost                 3 non-null      float64\n",
      " 15  Baked Goods cost             52 non-null     float64\n",
      " 16  Seafood cost                 1 non-null      float64\n",
      " 17  Meat cost                    117 non-null    float64\n",
      " 18  Grocery cost                 135 non-null    float64\n",
      " 19  Produce cost                 114 non-null    float64\n",
      " 20  Service Deli cost            24 non-null     float64\n",
      " 21  Dairy-Deli cost              120 non-null    float64\n",
      " 22  Gen Merch cost               79 non-null     float64\n",
      " 23  Coupon Cost                  27 non-null     float64\n",
      " 24  Cost (total)                 148 non-null    float64\n",
      " 25  Taxes                        121 non-null    float64\n",
      " 26  Checkout Time                148 non-null    object \n",
      " 27  Cashier                      146 non-null    object \n",
      " 28  Day of the Week              148 non-null    object \n",
      " 29  Total Savings                147 non-null    float64\n",
      " 30  Terminal                     132 non-null    object \n",
      "dtypes: float64(24), int64(1), object(6)\n",
      "memory usage: 36.0+ KB\n"
     ]
    }
   ],
   "source": [
    "groceries.info()"
   ]
  },
  {
   "cell_type": "markdown",
   "id": "63391988",
   "metadata": {},
   "source": [
    "# Time to clean"
   ]
  },
  {
   "cell_type": "code",
   "execution_count": 23,
   "id": "122c9baa",
   "metadata": {
    "scrolled": true
   },
   "outputs": [
    {
     "data": {
      "text/html": [
       "<div>\n",
       "<style scoped>\n",
       "    .dataframe tbody tr th:only-of-type {\n",
       "        vertical-align: middle;\n",
       "    }\n",
       "\n",
       "    .dataframe tbody tr th {\n",
       "        vertical-align: top;\n",
       "    }\n",
       "\n",
       "    .dataframe thead th {\n",
       "        text-align: right;\n",
       "    }\n",
       "</style>\n",
       "<table border=\"1\" class=\"dataframe\">\n",
       "  <thead>\n",
       "    <tr style=\"text-align: right;\">\n",
       "      <th></th>\n",
       "      <th>Date</th>\n",
       "      <th>Item Total</th>\n",
       "      <th>Baked Goods qty</th>\n",
       "      <th>Alcohol qty</th>\n",
       "      <th>Grocery qty</th>\n",
       "      <th>Produce qty</th>\n",
       "      <th>Meat qty</th>\n",
       "      <th>Service deli qty</th>\n",
       "      <th>Dairy-Deli (frz/refrig) qty</th>\n",
       "      <th>Gen Merch qty</th>\n",
       "      <th>...</th>\n",
       "      <th>Dairy-Deli cost</th>\n",
       "      <th>Gen Merch cost</th>\n",
       "      <th>Coupon Cost</th>\n",
       "      <th>Cost (total)</th>\n",
       "      <th>Taxes</th>\n",
       "      <th>Checkout Time</th>\n",
       "      <th>Cashier</th>\n",
       "      <th>Day of the Week</th>\n",
       "      <th>Total Savings</th>\n",
       "      <th>Terminal</th>\n",
       "    </tr>\n",
       "  </thead>\n",
       "  <tbody>\n",
       "    <tr>\n",
       "      <th>0</th>\n",
       "      <td>5/7/1995</td>\n",
       "      <td>23</td>\n",
       "      <td>0.0</td>\n",
       "      <td>0.0</td>\n",
       "      <td>23.0</td>\n",
       "      <td>0.0</td>\n",
       "      <td>0.0</td>\n",
       "      <td>0.0</td>\n",
       "      <td>0.0</td>\n",
       "      <td>0.0</td>\n",
       "      <td>...</td>\n",
       "      <td>0.00</td>\n",
       "      <td>0.00</td>\n",
       "      <td>0.00</td>\n",
       "      <td>83.72</td>\n",
       "      <td>4.43</td>\n",
       "      <td>9:19:00 PM</td>\n",
       "      <td>0</td>\n",
       "      <td>Sunday</td>\n",
       "      <td>0.00</td>\n",
       "      <td>0</td>\n",
       "    </tr>\n",
       "    <tr>\n",
       "      <th>1</th>\n",
       "      <td>5/16/1995</td>\n",
       "      <td>22</td>\n",
       "      <td>0.0</td>\n",
       "      <td>0.0</td>\n",
       "      <td>22.0</td>\n",
       "      <td>0.0</td>\n",
       "      <td>0.0</td>\n",
       "      <td>0.0</td>\n",
       "      <td>0.0</td>\n",
       "      <td>0.0</td>\n",
       "      <td>...</td>\n",
       "      <td>0.00</td>\n",
       "      <td>0.00</td>\n",
       "      <td>1.57</td>\n",
       "      <td>50.51</td>\n",
       "      <td>1.63</td>\n",
       "      <td>11:50:07 PM</td>\n",
       "      <td>0</td>\n",
       "      <td>Tuesday</td>\n",
       "      <td>0.00</td>\n",
       "      <td>0</td>\n",
       "    </tr>\n",
       "    <tr>\n",
       "      <th>2</th>\n",
       "      <td>9/15/2019</td>\n",
       "      <td>19</td>\n",
       "      <td>0.0</td>\n",
       "      <td>0.0</td>\n",
       "      <td>3.0</td>\n",
       "      <td>4.0</td>\n",
       "      <td>2.0</td>\n",
       "      <td>1.0</td>\n",
       "      <td>9.0</td>\n",
       "      <td>0.0</td>\n",
       "      <td>...</td>\n",
       "      <td>30.47</td>\n",
       "      <td>0.00</td>\n",
       "      <td>0.00</td>\n",
       "      <td>82.36</td>\n",
       "      <td>0.00</td>\n",
       "      <td>2:05:20 PM</td>\n",
       "      <td>Martin</td>\n",
       "      <td>Sunday</td>\n",
       "      <td>9.94</td>\n",
       "      <td>3</td>\n",
       "    </tr>\n",
       "    <tr>\n",
       "      <th>3</th>\n",
       "      <td>12/22/2019</td>\n",
       "      <td>31</td>\n",
       "      <td>0.0</td>\n",
       "      <td>1.0</td>\n",
       "      <td>15.0</td>\n",
       "      <td>0.0</td>\n",
       "      <td>5.0</td>\n",
       "      <td>0.0</td>\n",
       "      <td>9.0</td>\n",
       "      <td>1.0</td>\n",
       "      <td>...</td>\n",
       "      <td>31.55</td>\n",
       "      <td>3.39</td>\n",
       "      <td>0.00</td>\n",
       "      <td>108.33</td>\n",
       "      <td>0.00</td>\n",
       "      <td>2:33:26 PM</td>\n",
       "      <td>jamie</td>\n",
       "      <td>Sunday</td>\n",
       "      <td>12.90</td>\n",
       "      <td>1</td>\n",
       "    </tr>\n",
       "    <tr>\n",
       "      <th>4</th>\n",
       "      <td>1/7/2020</td>\n",
       "      <td>5</td>\n",
       "      <td>0.0</td>\n",
       "      <td>0.0</td>\n",
       "      <td>4.0</td>\n",
       "      <td>0.0</td>\n",
       "      <td>0.0</td>\n",
       "      <td>1.0</td>\n",
       "      <td>0.0</td>\n",
       "      <td>0.0</td>\n",
       "      <td>...</td>\n",
       "      <td>0.00</td>\n",
       "      <td>0.00</td>\n",
       "      <td>0.00</td>\n",
       "      <td>14.80</td>\n",
       "      <td>0.19</td>\n",
       "      <td>11:51:45 AM</td>\n",
       "      <td>FastLane1</td>\n",
       "      <td>Tuesday</td>\n",
       "      <td>1.80</td>\n",
       "      <td>Self</td>\n",
       "    </tr>\n",
       "    <tr>\n",
       "      <th>...</th>\n",
       "      <td>...</td>\n",
       "      <td>...</td>\n",
       "      <td>...</td>\n",
       "      <td>...</td>\n",
       "      <td>...</td>\n",
       "      <td>...</td>\n",
       "      <td>...</td>\n",
       "      <td>...</td>\n",
       "      <td>...</td>\n",
       "      <td>...</td>\n",
       "      <td>...</td>\n",
       "      <td>...</td>\n",
       "      <td>...</td>\n",
       "      <td>...</td>\n",
       "      <td>...</td>\n",
       "      <td>...</td>\n",
       "      <td>...</td>\n",
       "      <td>...</td>\n",
       "      <td>...</td>\n",
       "      <td>...</td>\n",
       "      <td>...</td>\n",
       "    </tr>\n",
       "    <tr>\n",
       "      <th>143</th>\n",
       "      <td>6/5/2022</td>\n",
       "      <td>30</td>\n",
       "      <td>0.0</td>\n",
       "      <td>0.0</td>\n",
       "      <td>14.0</td>\n",
       "      <td>5.0</td>\n",
       "      <td>3.0</td>\n",
       "      <td>0.0</td>\n",
       "      <td>8.0</td>\n",
       "      <td>0.0</td>\n",
       "      <td>...</td>\n",
       "      <td>30.45</td>\n",
       "      <td>0.00</td>\n",
       "      <td>0.00</td>\n",
       "      <td>156.24</td>\n",
       "      <td>1.10</td>\n",
       "      <td>7:22:07 AM</td>\n",
       "      <td>Olivia</td>\n",
       "      <td>Sunday</td>\n",
       "      <td>9.88</td>\n",
       "      <td>7</td>\n",
       "    </tr>\n",
       "    <tr>\n",
       "      <th>144</th>\n",
       "      <td>6/12/2022</td>\n",
       "      <td>31</td>\n",
       "      <td>0.0</td>\n",
       "      <td>0.0</td>\n",
       "      <td>10.0</td>\n",
       "      <td>4.0</td>\n",
       "      <td>5.0</td>\n",
       "      <td>0.0</td>\n",
       "      <td>11.0</td>\n",
       "      <td>1.0</td>\n",
       "      <td>...</td>\n",
       "      <td>24.21</td>\n",
       "      <td>9.99</td>\n",
       "      <td>3.00</td>\n",
       "      <td>108.13</td>\n",
       "      <td>1.02</td>\n",
       "      <td>7:40:24 AM</td>\n",
       "      <td>Andrew</td>\n",
       "      <td>Sunday</td>\n",
       "      <td>21.82</td>\n",
       "      <td>7</td>\n",
       "    </tr>\n",
       "    <tr>\n",
       "      <th>145</th>\n",
       "      <td>6/19/2022</td>\n",
       "      <td>41</td>\n",
       "      <td>1.0</td>\n",
       "      <td>0.0</td>\n",
       "      <td>17.0</td>\n",
       "      <td>8.0</td>\n",
       "      <td>6.0</td>\n",
       "      <td>1.0</td>\n",
       "      <td>8.0</td>\n",
       "      <td>0.0</td>\n",
       "      <td>...</td>\n",
       "      <td>27.12</td>\n",
       "      <td>0.00</td>\n",
       "      <td>1.00</td>\n",
       "      <td>146.80</td>\n",
       "      <td>0.00</td>\n",
       "      <td>8:03:16 AM</td>\n",
       "      <td>Jacqui</td>\n",
       "      <td>Sunday</td>\n",
       "      <td>18.40</td>\n",
       "      <td>7</td>\n",
       "    </tr>\n",
       "    <tr>\n",
       "      <th>146</th>\n",
       "      <td>6/26/2022</td>\n",
       "      <td>45</td>\n",
       "      <td>0.0</td>\n",
       "      <td>0.0</td>\n",
       "      <td>20.0</td>\n",
       "      <td>7.0</td>\n",
       "      <td>3.0</td>\n",
       "      <td>1.0</td>\n",
       "      <td>12.0</td>\n",
       "      <td>2.0</td>\n",
       "      <td>...</td>\n",
       "      <td>39.73</td>\n",
       "      <td>14.88</td>\n",
       "      <td>0.00</td>\n",
       "      <td>170.64</td>\n",
       "      <td>1.53</td>\n",
       "      <td>7:53:18 AM</td>\n",
       "      <td>Olivia</td>\n",
       "      <td>Sunday</td>\n",
       "      <td>24.68</td>\n",
       "      <td>7</td>\n",
       "    </tr>\n",
       "    <tr>\n",
       "      <th>147</th>\n",
       "      <td>7/3/2022</td>\n",
       "      <td>44</td>\n",
       "      <td>0.0</td>\n",
       "      <td>0.0</td>\n",
       "      <td>15.0</td>\n",
       "      <td>11.0</td>\n",
       "      <td>7.0</td>\n",
       "      <td>0.0</td>\n",
       "      <td>7.0</td>\n",
       "      <td>4.0</td>\n",
       "      <td>...</td>\n",
       "      <td>14.59</td>\n",
       "      <td>8.27</td>\n",
       "      <td>0.00</td>\n",
       "      <td>147.01</td>\n",
       "      <td>1.08</td>\n",
       "      <td>7:53:38 AM</td>\n",
       "      <td>Frank M</td>\n",
       "      <td>Sunday</td>\n",
       "      <td>23.34</td>\n",
       "      <td>7</td>\n",
       "    </tr>\n",
       "  </tbody>\n",
       "</table>\n",
       "<p>148 rows × 31 columns</p>\n",
       "</div>"
      ],
      "text/plain": [
       "           Date  Item Total  Baked Goods qty  Alcohol qty  Grocery qty  \\\n",
       "0      5/7/1995          23              0.0          0.0         23.0   \n",
       "1     5/16/1995          22              0.0          0.0         22.0   \n",
       "2     9/15/2019          19              0.0          0.0          3.0   \n",
       "3    12/22/2019          31              0.0          1.0         15.0   \n",
       "4      1/7/2020           5              0.0          0.0          4.0   \n",
       "..          ...         ...              ...          ...          ...   \n",
       "143    6/5/2022          30              0.0          0.0         14.0   \n",
       "144   6/12/2022          31              0.0          0.0         10.0   \n",
       "145   6/19/2022          41              1.0          0.0         17.0   \n",
       "146   6/26/2022          45              0.0          0.0         20.0   \n",
       "147    7/3/2022          44              0.0          0.0         15.0   \n",
       "\n",
       "     Produce qty  Meat qty  Service deli qty  Dairy-Deli (frz/refrig) qty  \\\n",
       "0            0.0       0.0               0.0                          0.0   \n",
       "1            0.0       0.0               0.0                          0.0   \n",
       "2            4.0       2.0               1.0                          9.0   \n",
       "3            0.0       5.0               0.0                          9.0   \n",
       "4            0.0       0.0               1.0                          0.0   \n",
       "..           ...       ...               ...                          ...   \n",
       "143          5.0       3.0               0.0                          8.0   \n",
       "144          4.0       5.0               0.0                         11.0   \n",
       "145          8.0       6.0               1.0                          8.0   \n",
       "146          7.0       3.0               1.0                         12.0   \n",
       "147         11.0       7.0               0.0                          7.0   \n",
       "\n",
       "     Gen Merch qty  ...  Dairy-Deli cost  Gen Merch cost  Coupon Cost  \\\n",
       "0              0.0  ...             0.00            0.00         0.00   \n",
       "1              0.0  ...             0.00            0.00         1.57   \n",
       "2              0.0  ...            30.47            0.00         0.00   \n",
       "3              1.0  ...            31.55            3.39         0.00   \n",
       "4              0.0  ...             0.00            0.00         0.00   \n",
       "..             ...  ...              ...             ...          ...   \n",
       "143            0.0  ...            30.45            0.00         0.00   \n",
       "144            1.0  ...            24.21            9.99         3.00   \n",
       "145            0.0  ...            27.12            0.00         1.00   \n",
       "146            2.0  ...            39.73           14.88         0.00   \n",
       "147            4.0  ...            14.59            8.27         0.00   \n",
       "\n",
       "    Cost (total)  Taxes  Checkout Time    Cashier  Day of the Week  \\\n",
       "0          83.72   4.43     9:19:00 PM          0           Sunday   \n",
       "1          50.51   1.63    11:50:07 PM          0          Tuesday   \n",
       "2          82.36   0.00     2:05:20 PM     Martin           Sunday   \n",
       "3         108.33   0.00     2:33:26 PM      jamie           Sunday   \n",
       "4          14.80   0.19    11:51:45 AM  FastLane1          Tuesday   \n",
       "..           ...    ...            ...        ...              ...   \n",
       "143       156.24   1.10     7:22:07 AM     Olivia           Sunday   \n",
       "144       108.13   1.02     7:40:24 AM     Andrew           Sunday   \n",
       "145       146.80   0.00     8:03:16 AM     Jacqui           Sunday   \n",
       "146       170.64   1.53     7:53:18 AM     Olivia           Sunday   \n",
       "147       147.01   1.08     7:53:38 AM    Frank M           Sunday   \n",
       "\n",
       "     Total Savings  Terminal  \n",
       "0             0.00         0  \n",
       "1             0.00         0  \n",
       "2             9.94         3  \n",
       "3            12.90         1  \n",
       "4             1.80      Self  \n",
       "..             ...       ...  \n",
       "143           9.88         7  \n",
       "144          21.82         7  \n",
       "145          18.40         7  \n",
       "146          24.68         7  \n",
       "147          23.34         7  \n",
       "\n",
       "[148 rows x 31 columns]"
      ]
     },
     "execution_count": 23,
     "metadata": {},
     "output_type": "execute_result"
    }
   ],
   "source": [
    "groceries_clean = groceries.fillna(0)\n",
    "groceries_clean"
   ]
  },
  {
   "cell_type": "markdown",
   "id": "7a7299f2",
   "metadata": {},
   "source": [
    "# Viz time"
   ]
  },
  {
   "cell_type": "code",
   "execution_count": 24,
   "id": "19661cf9",
   "metadata": {},
   "outputs": [],
   "source": [
    "import plotly.express as px"
   ]
  },
  {
   "cell_type": "code",
   "execution_count": 25,
   "id": "3ae9d2e6",
   "metadata": {},
   "outputs": [
    {
     "data": {
      "application/vnd.plotly.v1+json": {
       "config": {
        "plotlyServerURL": "https://plot.ly"
       },
       "data": [
        {
         "hovertemplate": "Date=%{x}<br>Cost (total)=%{y}<extra></extra>",
         "legendgroup": "",
         "line": {
          "color": "#636efa",
          "dash": "solid"
         },
         "marker": {
          "symbol": "circle"
         },
         "mode": "lines",
         "name": "",
         "orientation": "v",
         "showlegend": false,
         "type": "scatter",
         "x": [
          "5/7/1995",
          "5/16/1995",
          "9/15/2019",
          "12/22/2019",
          "1/7/2020",
          "1/12/2020",
          "1/19/2020",
          "1/26/2020",
          "2/2/2020",
          "2/9/2020",
          "3/14/2020",
          "3/22/2020",
          "4/19/2020",
          "4/22/2020",
          "4/29/2020",
          "5/3/2020",
          "5/4/2020",
          "5/10/2020",
          "5/17/2020",
          "5/31/2020",
          "6/2/2020",
          "6/7/2020",
          "6/21/2020",
          "6/28/2020",
          "7/3/2020",
          "7/4/2020",
          "7/4/2020",
          "7/12/2020",
          "7/19/2020",
          "7/25/2020",
          "7/25/2020",
          "7/26/2020",
          "7/29/2020",
          "8/2/2020",
          "8/2/2020",
          "8/4/2020",
          "8/9/2020",
          "8/14/2020",
          "8/16/2020",
          "8/21/2020",
          "8/23/2020",
          "8/23/2020",
          "8/30/2020",
          "9/6/2020",
          "9/7/2020",
          "9/13/2020",
          "9/20/2020",
          "10/4/2020",
          "10/11/2020",
          "10/14/2020",
          "10/18/2020",
          "10/21/2020",
          "10/21/2020",
          "10/25/2020",
          "10/31/2020",
          "11/8/2020",
          "11/15/2020",
          "11/20/2020",
          "11/21/2020",
          "11/22/2020",
          "11/29/2020",
          "12/6/2020",
          "12/13/2020",
          "12/18/2020",
          "12/20/2020",
          "12/21/2020",
          "12/27/2020",
          "1/2/2021",
          "1/3/2021",
          "1/10/2021",
          "1/24/2021",
          "1/26/2021",
          "1/29/2021",
          "1/31/2021",
          "1/31/2021",
          "1/31/2021",
          "2/2/2021",
          "2/7/2021",
          "2/14/2021",
          "2/16/2021",
          "2/21/2021",
          "2/28/2021",
          "3/7/2021",
          "3/14/2021",
          "3/21/2021",
          "3/28/2021",
          "4/18/2021",
          "4/26/2021",
          "5/2/2021",
          "5/9/2021",
          "5/16/2021",
          "5/23/2021",
          "5/27/2021",
          "5/30/2021",
          "6/20/2021",
          "6/23/2021",
          "7/4/2021",
          "7/11/2021",
          "7/18/2021",
          "8/1/2021",
          "8/8/2021",
          "8/12/2021",
          "8/15/2021",
          "8/22/2021",
          "8/29/2021",
          "9/5/2021",
          "9/19/2021",
          "9/30/2021",
          "10/10/2021",
          "10/17/2021",
          "10/31/2021",
          "11/7/2021",
          "11/14/2021",
          "11/14/2021",
          "11/21/2021",
          "11/23/2021",
          "11/28/2021",
          "12/5/2021",
          "12/12/2021",
          "12/15/2021",
          "12/19/2021",
          "12/21/2021",
          "12/26/2021",
          "1/2/2022",
          "1/16/2022",
          "1/23/2022",
          "1/30/2022",
          "2/6/2022",
          "2/13/2022",
          "2/27/2022",
          "3/6/2022",
          "3/13/2022",
          "3/20/2022",
          "3/27/2022",
          "4/3/2022",
          "4/10/2022",
          "4/17/2022",
          "4/24/2022",
          "5/1/2022",
          "5/8/2022",
          "5/15/2022",
          "5/22/2022",
          "5/29/2022",
          "6/5/2022",
          "6/12/2022",
          "6/19/2022",
          "6/26/2022",
          "7/3/2022"
         ],
         "xaxis": "x",
         "y": [
          83.72,
          50.51,
          82.36,
          108.33,
          14.8,
          80.66,
          114.61,
          109.54,
          76.05,
          130.34,
          182.19,
          122.06,
          133.12,
          27.81,
          21.28,
          186.38,
          114,
          128.04,
          130.94,
          144.97,
          55.2,
          123.95,
          116.32,
          122,
          18.26,
          14.18,
          74.14,
          133.72,
          135.08,
          21.39,
          47.66,
          131.47,
          24.13,
          138.4,
          4.98,
          59,
          129.8,
          12.46,
          114.27,
          22.92,
          15.36,
          125.3,
          134.24,
          150.22,
          149.59,
          138.48,
          153.41,
          144.17,
          133.61,
          35.16,
          126.75,
          37.01,
          29.06,
          125.1,
          114.33,
          152.48,
          135.3,
          10.78,
          9.99,
          125.67,
          140.3,
          99.68,
          162.39,
          87.12,
          192.83,
          3.29,
          100.89,
          3.78,
          96.79,
          130.66,
          140.63,
          44.15,
          11.52,
          8.99,
          97.45,
          2.39,
          23.58,
          126.2,
          138.22,
          27.5,
          111.14,
          143.89,
          152.5,
          124.01,
          146.29,
          126.66,
          172.56,
          13.98,
          99.42,
          100.96,
          8.69,
          109.74,
          23.02,
          138.14,
          108.84,
          11.98,
          136.41,
          110.31,
          127.39,
          137.02,
          130.71,
          40.78,
          136.6,
          125.55,
          117.79,
          117.51,
          138.26,
          50.53,
          150.27,
          160.76,
          126.93,
          108.34,
          12.99,
          124.45,
          148.67,
          13.99,
          162.68,
          144.84,
          150.56,
          14.73,
          189.71,
          12.18,
          176.47,
          119.55,
          99.32,
          88.08,
          158.7,
          134.03,
          150.41,
          122.03,
          153.96,
          156.41,
          123.65,
          129.66,
          109.92,
          122.16,
          134.72,
          149.4,
          162.3,
          145.84,
          125.98,
          146.77,
          130,
          156.24,
          108.13,
          146.8,
          170.64,
          147.01
         ],
         "yaxis": "y"
        }
       ],
       "layout": {
        "legend": {
         "tracegroupgap": 0
        },
        "template": {
         "data": {
          "bar": [
           {
            "error_x": {
             "color": "#2a3f5f"
            },
            "error_y": {
             "color": "#2a3f5f"
            },
            "marker": {
             "line": {
              "color": "#E5ECF6",
              "width": 0.5
             },
             "pattern": {
              "fillmode": "overlay",
              "size": 10,
              "solidity": 0.2
             }
            },
            "type": "bar"
           }
          ],
          "barpolar": [
           {
            "marker": {
             "line": {
              "color": "#E5ECF6",
              "width": 0.5
             },
             "pattern": {
              "fillmode": "overlay",
              "size": 10,
              "solidity": 0.2
             }
            },
            "type": "barpolar"
           }
          ],
          "carpet": [
           {
            "aaxis": {
             "endlinecolor": "#2a3f5f",
             "gridcolor": "white",
             "linecolor": "white",
             "minorgridcolor": "white",
             "startlinecolor": "#2a3f5f"
            },
            "baxis": {
             "endlinecolor": "#2a3f5f",
             "gridcolor": "white",
             "linecolor": "white",
             "minorgridcolor": "white",
             "startlinecolor": "#2a3f5f"
            },
            "type": "carpet"
           }
          ],
          "choropleth": [
           {
            "colorbar": {
             "outlinewidth": 0,
             "ticks": ""
            },
            "type": "choropleth"
           }
          ],
          "contour": [
           {
            "colorbar": {
             "outlinewidth": 0,
             "ticks": ""
            },
            "colorscale": [
             [
              0,
              "#0d0887"
             ],
             [
              0.1111111111111111,
              "#46039f"
             ],
             [
              0.2222222222222222,
              "#7201a8"
             ],
             [
              0.3333333333333333,
              "#9c179e"
             ],
             [
              0.4444444444444444,
              "#bd3786"
             ],
             [
              0.5555555555555556,
              "#d8576b"
             ],
             [
              0.6666666666666666,
              "#ed7953"
             ],
             [
              0.7777777777777778,
              "#fb9f3a"
             ],
             [
              0.8888888888888888,
              "#fdca26"
             ],
             [
              1,
              "#f0f921"
             ]
            ],
            "type": "contour"
           }
          ],
          "contourcarpet": [
           {
            "colorbar": {
             "outlinewidth": 0,
             "ticks": ""
            },
            "type": "contourcarpet"
           }
          ],
          "heatmap": [
           {
            "colorbar": {
             "outlinewidth": 0,
             "ticks": ""
            },
            "colorscale": [
             [
              0,
              "#0d0887"
             ],
             [
              0.1111111111111111,
              "#46039f"
             ],
             [
              0.2222222222222222,
              "#7201a8"
             ],
             [
              0.3333333333333333,
              "#9c179e"
             ],
             [
              0.4444444444444444,
              "#bd3786"
             ],
             [
              0.5555555555555556,
              "#d8576b"
             ],
             [
              0.6666666666666666,
              "#ed7953"
             ],
             [
              0.7777777777777778,
              "#fb9f3a"
             ],
             [
              0.8888888888888888,
              "#fdca26"
             ],
             [
              1,
              "#f0f921"
             ]
            ],
            "type": "heatmap"
           }
          ],
          "heatmapgl": [
           {
            "colorbar": {
             "outlinewidth": 0,
             "ticks": ""
            },
            "colorscale": [
             [
              0,
              "#0d0887"
             ],
             [
              0.1111111111111111,
              "#46039f"
             ],
             [
              0.2222222222222222,
              "#7201a8"
             ],
             [
              0.3333333333333333,
              "#9c179e"
             ],
             [
              0.4444444444444444,
              "#bd3786"
             ],
             [
              0.5555555555555556,
              "#d8576b"
             ],
             [
              0.6666666666666666,
              "#ed7953"
             ],
             [
              0.7777777777777778,
              "#fb9f3a"
             ],
             [
              0.8888888888888888,
              "#fdca26"
             ],
             [
              1,
              "#f0f921"
             ]
            ],
            "type": "heatmapgl"
           }
          ],
          "histogram": [
           {
            "marker": {
             "pattern": {
              "fillmode": "overlay",
              "size": 10,
              "solidity": 0.2
             }
            },
            "type": "histogram"
           }
          ],
          "histogram2d": [
           {
            "colorbar": {
             "outlinewidth": 0,
             "ticks": ""
            },
            "colorscale": [
             [
              0,
              "#0d0887"
             ],
             [
              0.1111111111111111,
              "#46039f"
             ],
             [
              0.2222222222222222,
              "#7201a8"
             ],
             [
              0.3333333333333333,
              "#9c179e"
             ],
             [
              0.4444444444444444,
              "#bd3786"
             ],
             [
              0.5555555555555556,
              "#d8576b"
             ],
             [
              0.6666666666666666,
              "#ed7953"
             ],
             [
              0.7777777777777778,
              "#fb9f3a"
             ],
             [
              0.8888888888888888,
              "#fdca26"
             ],
             [
              1,
              "#f0f921"
             ]
            ],
            "type": "histogram2d"
           }
          ],
          "histogram2dcontour": [
           {
            "colorbar": {
             "outlinewidth": 0,
             "ticks": ""
            },
            "colorscale": [
             [
              0,
              "#0d0887"
             ],
             [
              0.1111111111111111,
              "#46039f"
             ],
             [
              0.2222222222222222,
              "#7201a8"
             ],
             [
              0.3333333333333333,
              "#9c179e"
             ],
             [
              0.4444444444444444,
              "#bd3786"
             ],
             [
              0.5555555555555556,
              "#d8576b"
             ],
             [
              0.6666666666666666,
              "#ed7953"
             ],
             [
              0.7777777777777778,
              "#fb9f3a"
             ],
             [
              0.8888888888888888,
              "#fdca26"
             ],
             [
              1,
              "#f0f921"
             ]
            ],
            "type": "histogram2dcontour"
           }
          ],
          "mesh3d": [
           {
            "colorbar": {
             "outlinewidth": 0,
             "ticks": ""
            },
            "type": "mesh3d"
           }
          ],
          "parcoords": [
           {
            "line": {
             "colorbar": {
              "outlinewidth": 0,
              "ticks": ""
             }
            },
            "type": "parcoords"
           }
          ],
          "pie": [
           {
            "automargin": true,
            "type": "pie"
           }
          ],
          "scatter": [
           {
            "marker": {
             "colorbar": {
              "outlinewidth": 0,
              "ticks": ""
             }
            },
            "type": "scatter"
           }
          ],
          "scatter3d": [
           {
            "line": {
             "colorbar": {
              "outlinewidth": 0,
              "ticks": ""
             }
            },
            "marker": {
             "colorbar": {
              "outlinewidth": 0,
              "ticks": ""
             }
            },
            "type": "scatter3d"
           }
          ],
          "scattercarpet": [
           {
            "marker": {
             "colorbar": {
              "outlinewidth": 0,
              "ticks": ""
             }
            },
            "type": "scattercarpet"
           }
          ],
          "scattergeo": [
           {
            "marker": {
             "colorbar": {
              "outlinewidth": 0,
              "ticks": ""
             }
            },
            "type": "scattergeo"
           }
          ],
          "scattergl": [
           {
            "marker": {
             "colorbar": {
              "outlinewidth": 0,
              "ticks": ""
             }
            },
            "type": "scattergl"
           }
          ],
          "scattermapbox": [
           {
            "marker": {
             "colorbar": {
              "outlinewidth": 0,
              "ticks": ""
             }
            },
            "type": "scattermapbox"
           }
          ],
          "scatterpolar": [
           {
            "marker": {
             "colorbar": {
              "outlinewidth": 0,
              "ticks": ""
             }
            },
            "type": "scatterpolar"
           }
          ],
          "scatterpolargl": [
           {
            "marker": {
             "colorbar": {
              "outlinewidth": 0,
              "ticks": ""
             }
            },
            "type": "scatterpolargl"
           }
          ],
          "scatterternary": [
           {
            "marker": {
             "colorbar": {
              "outlinewidth": 0,
              "ticks": ""
             }
            },
            "type": "scatterternary"
           }
          ],
          "surface": [
           {
            "colorbar": {
             "outlinewidth": 0,
             "ticks": ""
            },
            "colorscale": [
             [
              0,
              "#0d0887"
             ],
             [
              0.1111111111111111,
              "#46039f"
             ],
             [
              0.2222222222222222,
              "#7201a8"
             ],
             [
              0.3333333333333333,
              "#9c179e"
             ],
             [
              0.4444444444444444,
              "#bd3786"
             ],
             [
              0.5555555555555556,
              "#d8576b"
             ],
             [
              0.6666666666666666,
              "#ed7953"
             ],
             [
              0.7777777777777778,
              "#fb9f3a"
             ],
             [
              0.8888888888888888,
              "#fdca26"
             ],
             [
              1,
              "#f0f921"
             ]
            ],
            "type": "surface"
           }
          ],
          "table": [
           {
            "cells": {
             "fill": {
              "color": "#EBF0F8"
             },
             "line": {
              "color": "white"
             }
            },
            "header": {
             "fill": {
              "color": "#C8D4E3"
             },
             "line": {
              "color": "white"
             }
            },
            "type": "table"
           }
          ]
         },
         "layout": {
          "annotationdefaults": {
           "arrowcolor": "#2a3f5f",
           "arrowhead": 0,
           "arrowwidth": 1
          },
          "autotypenumbers": "strict",
          "coloraxis": {
           "colorbar": {
            "outlinewidth": 0,
            "ticks": ""
           }
          },
          "colorscale": {
           "diverging": [
            [
             0,
             "#8e0152"
            ],
            [
             0.1,
             "#c51b7d"
            ],
            [
             0.2,
             "#de77ae"
            ],
            [
             0.3,
             "#f1b6da"
            ],
            [
             0.4,
             "#fde0ef"
            ],
            [
             0.5,
             "#f7f7f7"
            ],
            [
             0.6,
             "#e6f5d0"
            ],
            [
             0.7,
             "#b8e186"
            ],
            [
             0.8,
             "#7fbc41"
            ],
            [
             0.9,
             "#4d9221"
            ],
            [
             1,
             "#276419"
            ]
           ],
           "sequential": [
            [
             0,
             "#0d0887"
            ],
            [
             0.1111111111111111,
             "#46039f"
            ],
            [
             0.2222222222222222,
             "#7201a8"
            ],
            [
             0.3333333333333333,
             "#9c179e"
            ],
            [
             0.4444444444444444,
             "#bd3786"
            ],
            [
             0.5555555555555556,
             "#d8576b"
            ],
            [
             0.6666666666666666,
             "#ed7953"
            ],
            [
             0.7777777777777778,
             "#fb9f3a"
            ],
            [
             0.8888888888888888,
             "#fdca26"
            ],
            [
             1,
             "#f0f921"
            ]
           ],
           "sequentialminus": [
            [
             0,
             "#0d0887"
            ],
            [
             0.1111111111111111,
             "#46039f"
            ],
            [
             0.2222222222222222,
             "#7201a8"
            ],
            [
             0.3333333333333333,
             "#9c179e"
            ],
            [
             0.4444444444444444,
             "#bd3786"
            ],
            [
             0.5555555555555556,
             "#d8576b"
            ],
            [
             0.6666666666666666,
             "#ed7953"
            ],
            [
             0.7777777777777778,
             "#fb9f3a"
            ],
            [
             0.8888888888888888,
             "#fdca26"
            ],
            [
             1,
             "#f0f921"
            ]
           ]
          },
          "colorway": [
           "#636efa",
           "#EF553B",
           "#00cc96",
           "#ab63fa",
           "#FFA15A",
           "#19d3f3",
           "#FF6692",
           "#B6E880",
           "#FF97FF",
           "#FECB52"
          ],
          "font": {
           "color": "#2a3f5f"
          },
          "geo": {
           "bgcolor": "white",
           "lakecolor": "white",
           "landcolor": "#E5ECF6",
           "showlakes": true,
           "showland": true,
           "subunitcolor": "white"
          },
          "hoverlabel": {
           "align": "left"
          },
          "hovermode": "closest",
          "mapbox": {
           "style": "light"
          },
          "paper_bgcolor": "white",
          "plot_bgcolor": "#E5ECF6",
          "polar": {
           "angularaxis": {
            "gridcolor": "white",
            "linecolor": "white",
            "ticks": ""
           },
           "bgcolor": "#E5ECF6",
           "radialaxis": {
            "gridcolor": "white",
            "linecolor": "white",
            "ticks": ""
           }
          },
          "scene": {
           "xaxis": {
            "backgroundcolor": "#E5ECF6",
            "gridcolor": "white",
            "gridwidth": 2,
            "linecolor": "white",
            "showbackground": true,
            "ticks": "",
            "zerolinecolor": "white"
           },
           "yaxis": {
            "backgroundcolor": "#E5ECF6",
            "gridcolor": "white",
            "gridwidth": 2,
            "linecolor": "white",
            "showbackground": true,
            "ticks": "",
            "zerolinecolor": "white"
           },
           "zaxis": {
            "backgroundcolor": "#E5ECF6",
            "gridcolor": "white",
            "gridwidth": 2,
            "linecolor": "white",
            "showbackground": true,
            "ticks": "",
            "zerolinecolor": "white"
           }
          },
          "shapedefaults": {
           "line": {
            "color": "#2a3f5f"
           }
          },
          "ternary": {
           "aaxis": {
            "gridcolor": "white",
            "linecolor": "white",
            "ticks": ""
           },
           "baxis": {
            "gridcolor": "white",
            "linecolor": "white",
            "ticks": ""
           },
           "bgcolor": "#E5ECF6",
           "caxis": {
            "gridcolor": "white",
            "linecolor": "white",
            "ticks": ""
           }
          },
          "title": {
           "x": 0.05
          },
          "xaxis": {
           "automargin": true,
           "gridcolor": "white",
           "linecolor": "white",
           "ticks": "",
           "title": {
            "standoff": 15
           },
           "zerolinecolor": "white",
           "zerolinewidth": 2
          },
          "yaxis": {
           "automargin": true,
           "gridcolor": "white",
           "linecolor": "white",
           "ticks": "",
           "title": {
            "standoff": 15
           },
           "zerolinecolor": "white",
           "zerolinewidth": 2
          }
         }
        },
        "title": {
         "text": "Cost of Groceries Over Time"
        },
        "xaxis": {
         "anchor": "y",
         "domain": [
          0,
          1
         ],
         "title": {
          "text": "Date"
         }
        },
        "yaxis": {
         "anchor": "x",
         "domain": [
          0,
          1
         ],
         "title": {
          "text": "Cost (total)"
         }
        }
       }
      },
      "text/html": [
       "<div>                            <div id=\"7a263322-e1bf-4708-9eee-a71950c24552\" class=\"plotly-graph-div\" style=\"height:525px; width:100%;\"></div>            <script type=\"text/javascript\">                require([\"plotly\"], function(Plotly) {                    window.PLOTLYENV=window.PLOTLYENV || {};                                    if (document.getElementById(\"7a263322-e1bf-4708-9eee-a71950c24552\")) {                    Plotly.newPlot(                        \"7a263322-e1bf-4708-9eee-a71950c24552\",                        [{\"hovertemplate\":\"Date=%{x}<br>Cost (total)=%{y}<extra></extra>\",\"legendgroup\":\"\",\"line\":{\"color\":\"#636efa\",\"dash\":\"solid\"},\"marker\":{\"symbol\":\"circle\"},\"mode\":\"lines\",\"name\":\"\",\"orientation\":\"v\",\"showlegend\":false,\"x\":[\"5/7/1995\",\"5/16/1995\",\"9/15/2019\",\"12/22/2019\",\"1/7/2020\",\"1/12/2020\",\"1/19/2020\",\"1/26/2020\",\"2/2/2020\",\"2/9/2020\",\"3/14/2020\",\"3/22/2020\",\"4/19/2020\",\"4/22/2020\",\"4/29/2020\",\"5/3/2020\",\"5/4/2020\",\"5/10/2020\",\"5/17/2020\",\"5/31/2020\",\"6/2/2020\",\"6/7/2020\",\"6/21/2020\",\"6/28/2020\",\"7/3/2020\",\"7/4/2020\",\"7/4/2020\",\"7/12/2020\",\"7/19/2020\",\"7/25/2020\",\"7/25/2020\",\"7/26/2020\",\"7/29/2020\",\"8/2/2020\",\"8/2/2020\",\"8/4/2020\",\"8/9/2020\",\"8/14/2020\",\"8/16/2020\",\"8/21/2020\",\"8/23/2020\",\"8/23/2020\",\"8/30/2020\",\"9/6/2020\",\"9/7/2020\",\"9/13/2020\",\"9/20/2020\",\"10/4/2020\",\"10/11/2020\",\"10/14/2020\",\"10/18/2020\",\"10/21/2020\",\"10/21/2020\",\"10/25/2020\",\"10/31/2020\",\"11/8/2020\",\"11/15/2020\",\"11/20/2020\",\"11/21/2020\",\"11/22/2020\",\"11/29/2020\",\"12/6/2020\",\"12/13/2020\",\"12/18/2020\",\"12/20/2020\",\"12/21/2020\",\"12/27/2020\",\"1/2/2021\",\"1/3/2021\",\"1/10/2021\",\"1/24/2021\",\"1/26/2021\",\"1/29/2021\",\"1/31/2021\",\"1/31/2021\",\"1/31/2021\",\"2/2/2021\",\"2/7/2021\",\"2/14/2021\",\"2/16/2021\",\"2/21/2021\",\"2/28/2021\",\"3/7/2021\",\"3/14/2021\",\"3/21/2021\",\"3/28/2021\",\"4/18/2021\",\"4/26/2021\",\"5/2/2021\",\"5/9/2021\",\"5/16/2021\",\"5/23/2021\",\"5/27/2021\",\"5/30/2021\",\"6/20/2021\",\"6/23/2021\",\"7/4/2021\",\"7/11/2021\",\"7/18/2021\",\"8/1/2021\",\"8/8/2021\",\"8/12/2021\",\"8/15/2021\",\"8/22/2021\",\"8/29/2021\",\"9/5/2021\",\"9/19/2021\",\"9/30/2021\",\"10/10/2021\",\"10/17/2021\",\"10/31/2021\",\"11/7/2021\",\"11/14/2021\",\"11/14/2021\",\"11/21/2021\",\"11/23/2021\",\"11/28/2021\",\"12/5/2021\",\"12/12/2021\",\"12/15/2021\",\"12/19/2021\",\"12/21/2021\",\"12/26/2021\",\"1/2/2022\",\"1/16/2022\",\"1/23/2022\",\"1/30/2022\",\"2/6/2022\",\"2/13/2022\",\"2/27/2022\",\"3/6/2022\",\"3/13/2022\",\"3/20/2022\",\"3/27/2022\",\"4/3/2022\",\"4/10/2022\",\"4/17/2022\",\"4/24/2022\",\"5/1/2022\",\"5/8/2022\",\"5/15/2022\",\"5/22/2022\",\"5/29/2022\",\"6/5/2022\",\"6/12/2022\",\"6/19/2022\",\"6/26/2022\",\"7/3/2022\"],\"xaxis\":\"x\",\"y\":[83.72,50.51,82.36,108.33,14.8,80.66,114.61,109.54,76.05,130.34,182.19,122.06,133.12,27.81,21.28,186.38,114.0,128.04,130.94,144.97,55.2,123.95,116.32,122.0,18.26,14.18,74.14,133.72,135.08,21.39,47.66,131.47,24.13,138.4,4.98,59.0,129.8,12.46,114.27,22.92,15.36,125.3,134.24,150.22,149.59,138.48,153.41,144.17,133.61,35.16,126.75,37.01,29.06,125.1,114.33,152.48,135.3,10.78,9.99,125.67,140.3,99.68,162.39,87.12,192.83,3.29,100.89,3.78,96.79,130.66,140.63,44.15,11.52,8.99,97.45,2.39,23.58,126.2,138.22,27.5,111.14,143.89,152.5,124.01,146.29,126.66,172.56,13.98,99.42,100.96,8.69,109.74,23.02,138.14,108.84,11.98,136.41,110.31,127.39,137.02,130.71,40.78,136.6,125.55,117.79,117.51,138.26,50.53,150.27,160.76,126.93,108.34,12.99,124.45,148.67,13.99,162.68,144.84,150.56,14.73,189.71,12.18,176.47,119.55,99.32,88.08,158.7,134.03,150.41,122.03,153.96,156.41,123.65,129.66,109.92,122.16,134.72,149.4,162.3,145.84,125.98,146.77,130.0,156.24,108.13,146.8,170.64,147.01],\"yaxis\":\"y\",\"type\":\"scatter\"}],                        {\"template\":{\"data\":{\"bar\":[{\"error_x\":{\"color\":\"#2a3f5f\"},\"error_y\":{\"color\":\"#2a3f5f\"},\"marker\":{\"line\":{\"color\":\"#E5ECF6\",\"width\":0.5},\"pattern\":{\"fillmode\":\"overlay\",\"size\":10,\"solidity\":0.2}},\"type\":\"bar\"}],\"barpolar\":[{\"marker\":{\"line\":{\"color\":\"#E5ECF6\",\"width\":0.5},\"pattern\":{\"fillmode\":\"overlay\",\"size\":10,\"solidity\":0.2}},\"type\":\"barpolar\"}],\"carpet\":[{\"aaxis\":{\"endlinecolor\":\"#2a3f5f\",\"gridcolor\":\"white\",\"linecolor\":\"white\",\"minorgridcolor\":\"white\",\"startlinecolor\":\"#2a3f5f\"},\"baxis\":{\"endlinecolor\":\"#2a3f5f\",\"gridcolor\":\"white\",\"linecolor\":\"white\",\"minorgridcolor\":\"white\",\"startlinecolor\":\"#2a3f5f\"},\"type\":\"carpet\"}],\"choropleth\":[{\"colorbar\":{\"outlinewidth\":0,\"ticks\":\"\"},\"type\":\"choropleth\"}],\"contour\":[{\"colorbar\":{\"outlinewidth\":0,\"ticks\":\"\"},\"colorscale\":[[0.0,\"#0d0887\"],[0.1111111111111111,\"#46039f\"],[0.2222222222222222,\"#7201a8\"],[0.3333333333333333,\"#9c179e\"],[0.4444444444444444,\"#bd3786\"],[0.5555555555555556,\"#d8576b\"],[0.6666666666666666,\"#ed7953\"],[0.7777777777777778,\"#fb9f3a\"],[0.8888888888888888,\"#fdca26\"],[1.0,\"#f0f921\"]],\"type\":\"contour\"}],\"contourcarpet\":[{\"colorbar\":{\"outlinewidth\":0,\"ticks\":\"\"},\"type\":\"contourcarpet\"}],\"heatmap\":[{\"colorbar\":{\"outlinewidth\":0,\"ticks\":\"\"},\"colorscale\":[[0.0,\"#0d0887\"],[0.1111111111111111,\"#46039f\"],[0.2222222222222222,\"#7201a8\"],[0.3333333333333333,\"#9c179e\"],[0.4444444444444444,\"#bd3786\"],[0.5555555555555556,\"#d8576b\"],[0.6666666666666666,\"#ed7953\"],[0.7777777777777778,\"#fb9f3a\"],[0.8888888888888888,\"#fdca26\"],[1.0,\"#f0f921\"]],\"type\":\"heatmap\"}],\"heatmapgl\":[{\"colorbar\":{\"outlinewidth\":0,\"ticks\":\"\"},\"colorscale\":[[0.0,\"#0d0887\"],[0.1111111111111111,\"#46039f\"],[0.2222222222222222,\"#7201a8\"],[0.3333333333333333,\"#9c179e\"],[0.4444444444444444,\"#bd3786\"],[0.5555555555555556,\"#d8576b\"],[0.6666666666666666,\"#ed7953\"],[0.7777777777777778,\"#fb9f3a\"],[0.8888888888888888,\"#fdca26\"],[1.0,\"#f0f921\"]],\"type\":\"heatmapgl\"}],\"histogram\":[{\"marker\":{\"pattern\":{\"fillmode\":\"overlay\",\"size\":10,\"solidity\":0.2}},\"type\":\"histogram\"}],\"histogram2d\":[{\"colorbar\":{\"outlinewidth\":0,\"ticks\":\"\"},\"colorscale\":[[0.0,\"#0d0887\"],[0.1111111111111111,\"#46039f\"],[0.2222222222222222,\"#7201a8\"],[0.3333333333333333,\"#9c179e\"],[0.4444444444444444,\"#bd3786\"],[0.5555555555555556,\"#d8576b\"],[0.6666666666666666,\"#ed7953\"],[0.7777777777777778,\"#fb9f3a\"],[0.8888888888888888,\"#fdca26\"],[1.0,\"#f0f921\"]],\"type\":\"histogram2d\"}],\"histogram2dcontour\":[{\"colorbar\":{\"outlinewidth\":0,\"ticks\":\"\"},\"colorscale\":[[0.0,\"#0d0887\"],[0.1111111111111111,\"#46039f\"],[0.2222222222222222,\"#7201a8\"],[0.3333333333333333,\"#9c179e\"],[0.4444444444444444,\"#bd3786\"],[0.5555555555555556,\"#d8576b\"],[0.6666666666666666,\"#ed7953\"],[0.7777777777777778,\"#fb9f3a\"],[0.8888888888888888,\"#fdca26\"],[1.0,\"#f0f921\"]],\"type\":\"histogram2dcontour\"}],\"mesh3d\":[{\"colorbar\":{\"outlinewidth\":0,\"ticks\":\"\"},\"type\":\"mesh3d\"}],\"parcoords\":[{\"line\":{\"colorbar\":{\"outlinewidth\":0,\"ticks\":\"\"}},\"type\":\"parcoords\"}],\"pie\":[{\"automargin\":true,\"type\":\"pie\"}],\"scatter\":[{\"marker\":{\"colorbar\":{\"outlinewidth\":0,\"ticks\":\"\"}},\"type\":\"scatter\"}],\"scatter3d\":[{\"line\":{\"colorbar\":{\"outlinewidth\":0,\"ticks\":\"\"}},\"marker\":{\"colorbar\":{\"outlinewidth\":0,\"ticks\":\"\"}},\"type\":\"scatter3d\"}],\"scattercarpet\":[{\"marker\":{\"colorbar\":{\"outlinewidth\":0,\"ticks\":\"\"}},\"type\":\"scattercarpet\"}],\"scattergeo\":[{\"marker\":{\"colorbar\":{\"outlinewidth\":0,\"ticks\":\"\"}},\"type\":\"scattergeo\"}],\"scattergl\":[{\"marker\":{\"colorbar\":{\"outlinewidth\":0,\"ticks\":\"\"}},\"type\":\"scattergl\"}],\"scattermapbox\":[{\"marker\":{\"colorbar\":{\"outlinewidth\":0,\"ticks\":\"\"}},\"type\":\"scattermapbox\"}],\"scatterpolar\":[{\"marker\":{\"colorbar\":{\"outlinewidth\":0,\"ticks\":\"\"}},\"type\":\"scatterpolar\"}],\"scatterpolargl\":[{\"marker\":{\"colorbar\":{\"outlinewidth\":0,\"ticks\":\"\"}},\"type\":\"scatterpolargl\"}],\"scatterternary\":[{\"marker\":{\"colorbar\":{\"outlinewidth\":0,\"ticks\":\"\"}},\"type\":\"scatterternary\"}],\"surface\":[{\"colorbar\":{\"outlinewidth\":0,\"ticks\":\"\"},\"colorscale\":[[0.0,\"#0d0887\"],[0.1111111111111111,\"#46039f\"],[0.2222222222222222,\"#7201a8\"],[0.3333333333333333,\"#9c179e\"],[0.4444444444444444,\"#bd3786\"],[0.5555555555555556,\"#d8576b\"],[0.6666666666666666,\"#ed7953\"],[0.7777777777777778,\"#fb9f3a\"],[0.8888888888888888,\"#fdca26\"],[1.0,\"#f0f921\"]],\"type\":\"surface\"}],\"table\":[{\"cells\":{\"fill\":{\"color\":\"#EBF0F8\"},\"line\":{\"color\":\"white\"}},\"header\":{\"fill\":{\"color\":\"#C8D4E3\"},\"line\":{\"color\":\"white\"}},\"type\":\"table\"}]},\"layout\":{\"annotationdefaults\":{\"arrowcolor\":\"#2a3f5f\",\"arrowhead\":0,\"arrowwidth\":1},\"autotypenumbers\":\"strict\",\"coloraxis\":{\"colorbar\":{\"outlinewidth\":0,\"ticks\":\"\"}},\"colorscale\":{\"diverging\":[[0,\"#8e0152\"],[0.1,\"#c51b7d\"],[0.2,\"#de77ae\"],[0.3,\"#f1b6da\"],[0.4,\"#fde0ef\"],[0.5,\"#f7f7f7\"],[0.6,\"#e6f5d0\"],[0.7,\"#b8e186\"],[0.8,\"#7fbc41\"],[0.9,\"#4d9221\"],[1,\"#276419\"]],\"sequential\":[[0.0,\"#0d0887\"],[0.1111111111111111,\"#46039f\"],[0.2222222222222222,\"#7201a8\"],[0.3333333333333333,\"#9c179e\"],[0.4444444444444444,\"#bd3786\"],[0.5555555555555556,\"#d8576b\"],[0.6666666666666666,\"#ed7953\"],[0.7777777777777778,\"#fb9f3a\"],[0.8888888888888888,\"#fdca26\"],[1.0,\"#f0f921\"]],\"sequentialminus\":[[0.0,\"#0d0887\"],[0.1111111111111111,\"#46039f\"],[0.2222222222222222,\"#7201a8\"],[0.3333333333333333,\"#9c179e\"],[0.4444444444444444,\"#bd3786\"],[0.5555555555555556,\"#d8576b\"],[0.6666666666666666,\"#ed7953\"],[0.7777777777777778,\"#fb9f3a\"],[0.8888888888888888,\"#fdca26\"],[1.0,\"#f0f921\"]]},\"colorway\":[\"#636efa\",\"#EF553B\",\"#00cc96\",\"#ab63fa\",\"#FFA15A\",\"#19d3f3\",\"#FF6692\",\"#B6E880\",\"#FF97FF\",\"#FECB52\"],\"font\":{\"color\":\"#2a3f5f\"},\"geo\":{\"bgcolor\":\"white\",\"lakecolor\":\"white\",\"landcolor\":\"#E5ECF6\",\"showlakes\":true,\"showland\":true,\"subunitcolor\":\"white\"},\"hoverlabel\":{\"align\":\"left\"},\"hovermode\":\"closest\",\"mapbox\":{\"style\":\"light\"},\"paper_bgcolor\":\"white\",\"plot_bgcolor\":\"#E5ECF6\",\"polar\":{\"angularaxis\":{\"gridcolor\":\"white\",\"linecolor\":\"white\",\"ticks\":\"\"},\"bgcolor\":\"#E5ECF6\",\"radialaxis\":{\"gridcolor\":\"white\",\"linecolor\":\"white\",\"ticks\":\"\"}},\"scene\":{\"xaxis\":{\"backgroundcolor\":\"#E5ECF6\",\"gridcolor\":\"white\",\"gridwidth\":2,\"linecolor\":\"white\",\"showbackground\":true,\"ticks\":\"\",\"zerolinecolor\":\"white\"},\"yaxis\":{\"backgroundcolor\":\"#E5ECF6\",\"gridcolor\":\"white\",\"gridwidth\":2,\"linecolor\":\"white\",\"showbackground\":true,\"ticks\":\"\",\"zerolinecolor\":\"white\"},\"zaxis\":{\"backgroundcolor\":\"#E5ECF6\",\"gridcolor\":\"white\",\"gridwidth\":2,\"linecolor\":\"white\",\"showbackground\":true,\"ticks\":\"\",\"zerolinecolor\":\"white\"}},\"shapedefaults\":{\"line\":{\"color\":\"#2a3f5f\"}},\"ternary\":{\"aaxis\":{\"gridcolor\":\"white\",\"linecolor\":\"white\",\"ticks\":\"\"},\"baxis\":{\"gridcolor\":\"white\",\"linecolor\":\"white\",\"ticks\":\"\"},\"bgcolor\":\"#E5ECF6\",\"caxis\":{\"gridcolor\":\"white\",\"linecolor\":\"white\",\"ticks\":\"\"}},\"title\":{\"x\":0.05},\"xaxis\":{\"automargin\":true,\"gridcolor\":\"white\",\"linecolor\":\"white\",\"ticks\":\"\",\"title\":{\"standoff\":15},\"zerolinecolor\":\"white\",\"zerolinewidth\":2},\"yaxis\":{\"automargin\":true,\"gridcolor\":\"white\",\"linecolor\":\"white\",\"ticks\":\"\",\"title\":{\"standoff\":15},\"zerolinecolor\":\"white\",\"zerolinewidth\":2}}},\"xaxis\":{\"anchor\":\"y\",\"domain\":[0.0,1.0],\"title\":{\"text\":\"Date\"}},\"yaxis\":{\"anchor\":\"x\",\"domain\":[0.0,1.0],\"title\":{\"text\":\"Cost (total)\"}},\"legend\":{\"tracegroupgap\":0},\"title\":{\"text\":\"Cost of Groceries Over Time\"}},                        {\"responsive\": true}                    ).then(function(){\n",
       "                            \n",
       "var gd = document.getElementById('7a263322-e1bf-4708-9eee-a71950c24552');\n",
       "var x = new MutationObserver(function (mutations, observer) {{\n",
       "        var display = window.getComputedStyle(gd).display;\n",
       "        if (!display || display === 'none') {{\n",
       "            console.log([gd, 'removed!']);\n",
       "            Plotly.purge(gd);\n",
       "            observer.disconnect();\n",
       "        }}\n",
       "}});\n",
       "\n",
       "// Listen for the removal of the full notebook cells\n",
       "var notebookContainer = gd.closest('#notebook-container');\n",
       "if (notebookContainer) {{\n",
       "    x.observe(notebookContainer, {childList: true});\n",
       "}}\n",
       "\n",
       "// Listen for the clearing of the current output cell\n",
       "var outputEl = gd.closest('.output');\n",
       "if (outputEl) {{\n",
       "    x.observe(outputEl, {childList: true});\n",
       "}}\n",
       "\n",
       "                        })                };                });            </script>        </div>"
      ]
     },
     "metadata": {},
     "output_type": "display_data"
    }
   ],
   "source": [
    "fig = px.line(groceries_clean, x = 'Date', y = 'Cost (total)', title='Cost of Groceries Over Time')\n",
    "fig.show()"
   ]
  },
  {
   "cell_type": "markdown",
   "id": "99987c3f",
   "metadata": {},
   "source": [
    "# The biggest problem I see here is that it's not categorizing the cost the way I want it to. I was hoping it would do a sort of range from 0 to 200 or so and the line would reflect how much things fluctuate. I'm not sure how to change that. "
   ]
  },
  {
   "cell_type": "markdown",
   "id": "014f39db",
   "metadata": {},
   "source": [
    "# Ah. I know what's going on now. It's seeing it as an object and not an int/float. Time to fix that."
   ]
  },
  {
   "cell_type": "markdown",
   "id": "864625fe",
   "metadata": {},
   "source": [
    "# This is getting a little ridiculous. Two errors, one for changing obj to float because there's a space, then for the function I was trying to use to remove those excess spaces. \n",
    "\n",
    "I'll add the two new receipts to the csv, then I'll change things manually as much as I can. "
   ]
  },
  {
   "cell_type": "markdown",
   "id": "8bfb647b",
   "metadata": {},
   "source": [
    "# ?? It's working now."
   ]
  },
  {
   "cell_type": "code",
   "execution_count": 26,
   "id": "a96829a8",
   "metadata": {},
   "outputs": [
    {
     "data": {
      "text/html": [
       "<div>\n",
       "<style scoped>\n",
       "    .dataframe tbody tr th:only-of-type {\n",
       "        vertical-align: middle;\n",
       "    }\n",
       "\n",
       "    .dataframe tbody tr th {\n",
       "        vertical-align: top;\n",
       "    }\n",
       "\n",
       "    .dataframe thead th {\n",
       "        text-align: right;\n",
       "    }\n",
       "</style>\n",
       "<table border=\"1\" class=\"dataframe\">\n",
       "  <thead>\n",
       "    <tr style=\"text-align: right;\">\n",
       "      <th></th>\n",
       "      <th>Date</th>\n",
       "      <th>Item Total</th>\n",
       "      <th>Baked Goods qty</th>\n",
       "      <th>Alcohol qty</th>\n",
       "      <th>Grocery qty</th>\n",
       "      <th>Produce qty</th>\n",
       "      <th>Meat qty</th>\n",
       "      <th>Service deli qty</th>\n",
       "      <th>Dairy-Deli (frz/refrig) qty</th>\n",
       "      <th>Gen Merch qty</th>\n",
       "      <th>...</th>\n",
       "      <th>Dairy-Deli cost</th>\n",
       "      <th>Gen Merch cost</th>\n",
       "      <th>Coupon Cost</th>\n",
       "      <th>Cost (total)</th>\n",
       "      <th>Taxes</th>\n",
       "      <th>Checkout Time</th>\n",
       "      <th>Cashier</th>\n",
       "      <th>Day of the Week</th>\n",
       "      <th>Total Savings</th>\n",
       "      <th>Terminal</th>\n",
       "    </tr>\n",
       "  </thead>\n",
       "  <tbody>\n",
       "    <tr>\n",
       "      <th>0</th>\n",
       "      <td>5/7/1995</td>\n",
       "      <td>23</td>\n",
       "      <td>NaN</td>\n",
       "      <td>NaN</td>\n",
       "      <td>23.0</td>\n",
       "      <td>NaN</td>\n",
       "      <td>NaN</td>\n",
       "      <td>NaN</td>\n",
       "      <td>NaN</td>\n",
       "      <td>NaN</td>\n",
       "      <td>...</td>\n",
       "      <td>NaN</td>\n",
       "      <td>NaN</td>\n",
       "      <td>NaN</td>\n",
       "      <td>83.72</td>\n",
       "      <td>4.43</td>\n",
       "      <td>9:19:00 PM</td>\n",
       "      <td>NaN</td>\n",
       "      <td>Sunday</td>\n",
       "      <td>0.00</td>\n",
       "      <td>NaN</td>\n",
       "    </tr>\n",
       "    <tr>\n",
       "      <th>1</th>\n",
       "      <td>5/16/1995</td>\n",
       "      <td>22</td>\n",
       "      <td>NaN</td>\n",
       "      <td>NaN</td>\n",
       "      <td>22.0</td>\n",
       "      <td>NaN</td>\n",
       "      <td>NaN</td>\n",
       "      <td>NaN</td>\n",
       "      <td>NaN</td>\n",
       "      <td>NaN</td>\n",
       "      <td>...</td>\n",
       "      <td>NaN</td>\n",
       "      <td>NaN</td>\n",
       "      <td>1.57</td>\n",
       "      <td>50.51</td>\n",
       "      <td>1.63</td>\n",
       "      <td>11:50:07 PM</td>\n",
       "      <td>NaN</td>\n",
       "      <td>Tuesday</td>\n",
       "      <td>0.00</td>\n",
       "      <td>NaN</td>\n",
       "    </tr>\n",
       "    <tr>\n",
       "      <th>2</th>\n",
       "      <td>9/15/2019</td>\n",
       "      <td>19</td>\n",
       "      <td>NaN</td>\n",
       "      <td>NaN</td>\n",
       "      <td>3.0</td>\n",
       "      <td>4.0</td>\n",
       "      <td>2.0</td>\n",
       "      <td>1.0</td>\n",
       "      <td>9.0</td>\n",
       "      <td>NaN</td>\n",
       "      <td>...</td>\n",
       "      <td>30.47</td>\n",
       "      <td>NaN</td>\n",
       "      <td>NaN</td>\n",
       "      <td>82.36</td>\n",
       "      <td>0.00</td>\n",
       "      <td>2:05:20 PM</td>\n",
       "      <td>Martin</td>\n",
       "      <td>Sunday</td>\n",
       "      <td>9.94</td>\n",
       "      <td>3</td>\n",
       "    </tr>\n",
       "    <tr>\n",
       "      <th>3</th>\n",
       "      <td>12/22/2019</td>\n",
       "      <td>31</td>\n",
       "      <td>NaN</td>\n",
       "      <td>1.0</td>\n",
       "      <td>15.0</td>\n",
       "      <td>NaN</td>\n",
       "      <td>5.0</td>\n",
       "      <td>NaN</td>\n",
       "      <td>9.0</td>\n",
       "      <td>1.0</td>\n",
       "      <td>...</td>\n",
       "      <td>31.55</td>\n",
       "      <td>3.39</td>\n",
       "      <td>NaN</td>\n",
       "      <td>108.33</td>\n",
       "      <td>NaN</td>\n",
       "      <td>2:33:26 PM</td>\n",
       "      <td>jamie</td>\n",
       "      <td>Sunday</td>\n",
       "      <td>12.90</td>\n",
       "      <td>1</td>\n",
       "    </tr>\n",
       "    <tr>\n",
       "      <th>4</th>\n",
       "      <td>1/7/2020</td>\n",
       "      <td>5</td>\n",
       "      <td>NaN</td>\n",
       "      <td>NaN</td>\n",
       "      <td>4.0</td>\n",
       "      <td>NaN</td>\n",
       "      <td>NaN</td>\n",
       "      <td>1.0</td>\n",
       "      <td>NaN</td>\n",
       "      <td>NaN</td>\n",
       "      <td>...</td>\n",
       "      <td>NaN</td>\n",
       "      <td>NaN</td>\n",
       "      <td>NaN</td>\n",
       "      <td>14.80</td>\n",
       "      <td>0.19</td>\n",
       "      <td>11:51:45 AM</td>\n",
       "      <td>FastLane1</td>\n",
       "      <td>Tuesday</td>\n",
       "      <td>1.80</td>\n",
       "      <td>Self</td>\n",
       "    </tr>\n",
       "  </tbody>\n",
       "</table>\n",
       "<p>5 rows × 31 columns</p>\n",
       "</div>"
      ],
      "text/plain": [
       "         Date  Item Total  Baked Goods qty  Alcohol qty  Grocery qty  \\\n",
       "0    5/7/1995          23              NaN          NaN         23.0   \n",
       "1   5/16/1995          22              NaN          NaN         22.0   \n",
       "2   9/15/2019          19              NaN          NaN          3.0   \n",
       "3  12/22/2019          31              NaN          1.0         15.0   \n",
       "4    1/7/2020           5              NaN          NaN          4.0   \n",
       "\n",
       "   Produce qty  Meat qty  Service deli qty  Dairy-Deli (frz/refrig) qty  \\\n",
       "0          NaN       NaN               NaN                          NaN   \n",
       "1          NaN       NaN               NaN                          NaN   \n",
       "2          4.0       2.0               1.0                          9.0   \n",
       "3          NaN       5.0               NaN                          9.0   \n",
       "4          NaN       NaN               1.0                          NaN   \n",
       "\n",
       "   Gen Merch qty  ...  Dairy-Deli cost  Gen Merch cost  Coupon Cost  \\\n",
       "0            NaN  ...              NaN             NaN          NaN   \n",
       "1            NaN  ...              NaN             NaN         1.57   \n",
       "2            NaN  ...            30.47             NaN          NaN   \n",
       "3            1.0  ...            31.55            3.39          NaN   \n",
       "4            NaN  ...              NaN             NaN          NaN   \n",
       "\n",
       "  Cost (total)  Taxes  Checkout Time    Cashier  Day of the Week  \\\n",
       "0        83.72   4.43     9:19:00 PM        NaN           Sunday   \n",
       "1        50.51   1.63    11:50:07 PM        NaN          Tuesday   \n",
       "2        82.36   0.00     2:05:20 PM     Martin           Sunday   \n",
       "3       108.33    NaN     2:33:26 PM      jamie           Sunday   \n",
       "4        14.80   0.19    11:51:45 AM  FastLane1          Tuesday   \n",
       "\n",
       "   Total Savings  Terminal  \n",
       "0           0.00       NaN  \n",
       "1           0.00       NaN  \n",
       "2           9.94         3  \n",
       "3          12.90         1  \n",
       "4           1.80      Self  \n",
       "\n",
       "[5 rows x 31 columns]"
      ]
     },
     "execution_count": 26,
     "metadata": {},
     "output_type": "execute_result"
    }
   ],
   "source": [
    "groceries2 = pd.read_csv('Groceries2.csv')\n",
    "groceries2.head()"
   ]
  },
  {
   "cell_type": "code",
   "execution_count": 27,
   "id": "a18b5260",
   "metadata": {},
   "outputs": [
    {
     "data": {
      "text/html": [
       "<div>\n",
       "<style scoped>\n",
       "    .dataframe tbody tr th:only-of-type {\n",
       "        vertical-align: middle;\n",
       "    }\n",
       "\n",
       "    .dataframe tbody tr th {\n",
       "        vertical-align: top;\n",
       "    }\n",
       "\n",
       "    .dataframe thead th {\n",
       "        text-align: right;\n",
       "    }\n",
       "</style>\n",
       "<table border=\"1\" class=\"dataframe\">\n",
       "  <thead>\n",
       "    <tr style=\"text-align: right;\">\n",
       "      <th></th>\n",
       "      <th>Date</th>\n",
       "      <th>Item Total</th>\n",
       "      <th>Baked Goods qty</th>\n",
       "      <th>Alcohol qty</th>\n",
       "      <th>Grocery qty</th>\n",
       "      <th>Produce qty</th>\n",
       "      <th>Meat qty</th>\n",
       "      <th>Service deli qty</th>\n",
       "      <th>Dairy-Deli (frz/refrig) qty</th>\n",
       "      <th>Gen Merch qty</th>\n",
       "      <th>...</th>\n",
       "      <th>Dairy-Deli cost</th>\n",
       "      <th>Gen Merch cost</th>\n",
       "      <th>Coupon Cost</th>\n",
       "      <th>Cost (total)</th>\n",
       "      <th>Taxes</th>\n",
       "      <th>Checkout Time</th>\n",
       "      <th>Cashier</th>\n",
       "      <th>Day of the Week</th>\n",
       "      <th>Total Savings</th>\n",
       "      <th>Terminal</th>\n",
       "    </tr>\n",
       "  </thead>\n",
       "  <tbody>\n",
       "    <tr>\n",
       "      <th>0</th>\n",
       "      <td>5/7/1995</td>\n",
       "      <td>23</td>\n",
       "      <td>0.0</td>\n",
       "      <td>0.0</td>\n",
       "      <td>23.0</td>\n",
       "      <td>0.0</td>\n",
       "      <td>0.0</td>\n",
       "      <td>0.0</td>\n",
       "      <td>0.0</td>\n",
       "      <td>0.0</td>\n",
       "      <td>...</td>\n",
       "      <td>0.00</td>\n",
       "      <td>0.00</td>\n",
       "      <td>0.00</td>\n",
       "      <td>83.72</td>\n",
       "      <td>4.43</td>\n",
       "      <td>9:19:00 PM</td>\n",
       "      <td>0</td>\n",
       "      <td>Sunday</td>\n",
       "      <td>0.00</td>\n",
       "      <td>0</td>\n",
       "    </tr>\n",
       "    <tr>\n",
       "      <th>1</th>\n",
       "      <td>5/16/1995</td>\n",
       "      <td>22</td>\n",
       "      <td>0.0</td>\n",
       "      <td>0.0</td>\n",
       "      <td>22.0</td>\n",
       "      <td>0.0</td>\n",
       "      <td>0.0</td>\n",
       "      <td>0.0</td>\n",
       "      <td>0.0</td>\n",
       "      <td>0.0</td>\n",
       "      <td>...</td>\n",
       "      <td>0.00</td>\n",
       "      <td>0.00</td>\n",
       "      <td>1.57</td>\n",
       "      <td>50.51</td>\n",
       "      <td>1.63</td>\n",
       "      <td>11:50:07 PM</td>\n",
       "      <td>0</td>\n",
       "      <td>Tuesday</td>\n",
       "      <td>0.00</td>\n",
       "      <td>0</td>\n",
       "    </tr>\n",
       "    <tr>\n",
       "      <th>2</th>\n",
       "      <td>9/15/2019</td>\n",
       "      <td>19</td>\n",
       "      <td>0.0</td>\n",
       "      <td>0.0</td>\n",
       "      <td>3.0</td>\n",
       "      <td>4.0</td>\n",
       "      <td>2.0</td>\n",
       "      <td>1.0</td>\n",
       "      <td>9.0</td>\n",
       "      <td>0.0</td>\n",
       "      <td>...</td>\n",
       "      <td>30.47</td>\n",
       "      <td>0.00</td>\n",
       "      <td>0.00</td>\n",
       "      <td>82.36</td>\n",
       "      <td>0.00</td>\n",
       "      <td>2:05:20 PM</td>\n",
       "      <td>Martin</td>\n",
       "      <td>Sunday</td>\n",
       "      <td>9.94</td>\n",
       "      <td>3</td>\n",
       "    </tr>\n",
       "    <tr>\n",
       "      <th>3</th>\n",
       "      <td>12/22/2019</td>\n",
       "      <td>31</td>\n",
       "      <td>0.0</td>\n",
       "      <td>1.0</td>\n",
       "      <td>15.0</td>\n",
       "      <td>0.0</td>\n",
       "      <td>5.0</td>\n",
       "      <td>0.0</td>\n",
       "      <td>9.0</td>\n",
       "      <td>1.0</td>\n",
       "      <td>...</td>\n",
       "      <td>31.55</td>\n",
       "      <td>3.39</td>\n",
       "      <td>0.00</td>\n",
       "      <td>108.33</td>\n",
       "      <td>0.00</td>\n",
       "      <td>2:33:26 PM</td>\n",
       "      <td>jamie</td>\n",
       "      <td>Sunday</td>\n",
       "      <td>12.90</td>\n",
       "      <td>1</td>\n",
       "    </tr>\n",
       "    <tr>\n",
       "      <th>4</th>\n",
       "      <td>1/7/2020</td>\n",
       "      <td>5</td>\n",
       "      <td>0.0</td>\n",
       "      <td>0.0</td>\n",
       "      <td>4.0</td>\n",
       "      <td>0.0</td>\n",
       "      <td>0.0</td>\n",
       "      <td>1.0</td>\n",
       "      <td>0.0</td>\n",
       "      <td>0.0</td>\n",
       "      <td>...</td>\n",
       "      <td>0.00</td>\n",
       "      <td>0.00</td>\n",
       "      <td>0.00</td>\n",
       "      <td>14.80</td>\n",
       "      <td>0.19</td>\n",
       "      <td>11:51:45 AM</td>\n",
       "      <td>FastLane1</td>\n",
       "      <td>Tuesday</td>\n",
       "      <td>1.80</td>\n",
       "      <td>Self</td>\n",
       "    </tr>\n",
       "    <tr>\n",
       "      <th>...</th>\n",
       "      <td>...</td>\n",
       "      <td>...</td>\n",
       "      <td>...</td>\n",
       "      <td>...</td>\n",
       "      <td>...</td>\n",
       "      <td>...</td>\n",
       "      <td>...</td>\n",
       "      <td>...</td>\n",
       "      <td>...</td>\n",
       "      <td>...</td>\n",
       "      <td>...</td>\n",
       "      <td>...</td>\n",
       "      <td>...</td>\n",
       "      <td>...</td>\n",
       "      <td>...</td>\n",
       "      <td>...</td>\n",
       "      <td>...</td>\n",
       "      <td>...</td>\n",
       "      <td>...</td>\n",
       "      <td>...</td>\n",
       "      <td>...</td>\n",
       "    </tr>\n",
       "    <tr>\n",
       "      <th>143</th>\n",
       "      <td>6/5/2022</td>\n",
       "      <td>30</td>\n",
       "      <td>0.0</td>\n",
       "      <td>0.0</td>\n",
       "      <td>14.0</td>\n",
       "      <td>5.0</td>\n",
       "      <td>3.0</td>\n",
       "      <td>0.0</td>\n",
       "      <td>8.0</td>\n",
       "      <td>0.0</td>\n",
       "      <td>...</td>\n",
       "      <td>30.45</td>\n",
       "      <td>0.00</td>\n",
       "      <td>0.00</td>\n",
       "      <td>156.24</td>\n",
       "      <td>1.10</td>\n",
       "      <td>7:22:07 AM</td>\n",
       "      <td>Olivia</td>\n",
       "      <td>Sunday</td>\n",
       "      <td>9.88</td>\n",
       "      <td>7</td>\n",
       "    </tr>\n",
       "    <tr>\n",
       "      <th>144</th>\n",
       "      <td>6/12/2022</td>\n",
       "      <td>31</td>\n",
       "      <td>0.0</td>\n",
       "      <td>0.0</td>\n",
       "      <td>10.0</td>\n",
       "      <td>4.0</td>\n",
       "      <td>5.0</td>\n",
       "      <td>0.0</td>\n",
       "      <td>11.0</td>\n",
       "      <td>1.0</td>\n",
       "      <td>...</td>\n",
       "      <td>24.21</td>\n",
       "      <td>9.99</td>\n",
       "      <td>3.00</td>\n",
       "      <td>108.13</td>\n",
       "      <td>1.02</td>\n",
       "      <td>7:40:24 AM</td>\n",
       "      <td>Andrew</td>\n",
       "      <td>Sunday</td>\n",
       "      <td>21.82</td>\n",
       "      <td>7</td>\n",
       "    </tr>\n",
       "    <tr>\n",
       "      <th>145</th>\n",
       "      <td>6/19/2022</td>\n",
       "      <td>41</td>\n",
       "      <td>1.0</td>\n",
       "      <td>0.0</td>\n",
       "      <td>17.0</td>\n",
       "      <td>8.0</td>\n",
       "      <td>6.0</td>\n",
       "      <td>1.0</td>\n",
       "      <td>8.0</td>\n",
       "      <td>0.0</td>\n",
       "      <td>...</td>\n",
       "      <td>27.12</td>\n",
       "      <td>0.00</td>\n",
       "      <td>1.00</td>\n",
       "      <td>146.80</td>\n",
       "      <td>0.00</td>\n",
       "      <td>8:03:16 AM</td>\n",
       "      <td>Jacqui</td>\n",
       "      <td>Sunday</td>\n",
       "      <td>18.40</td>\n",
       "      <td>7</td>\n",
       "    </tr>\n",
       "    <tr>\n",
       "      <th>146</th>\n",
       "      <td>6/26/2022</td>\n",
       "      <td>45</td>\n",
       "      <td>0.0</td>\n",
       "      <td>0.0</td>\n",
       "      <td>20.0</td>\n",
       "      <td>7.0</td>\n",
       "      <td>3.0</td>\n",
       "      <td>1.0</td>\n",
       "      <td>12.0</td>\n",
       "      <td>2.0</td>\n",
       "      <td>...</td>\n",
       "      <td>39.73</td>\n",
       "      <td>14.88</td>\n",
       "      <td>0.00</td>\n",
       "      <td>170.64</td>\n",
       "      <td>1.53</td>\n",
       "      <td>7:53:18 AM</td>\n",
       "      <td>Olivia</td>\n",
       "      <td>Sunday</td>\n",
       "      <td>24.68</td>\n",
       "      <td>7</td>\n",
       "    </tr>\n",
       "    <tr>\n",
       "      <th>147</th>\n",
       "      <td>7/3/2022</td>\n",
       "      <td>44</td>\n",
       "      <td>0.0</td>\n",
       "      <td>0.0</td>\n",
       "      <td>15.0</td>\n",
       "      <td>11.0</td>\n",
       "      <td>7.0</td>\n",
       "      <td>0.0</td>\n",
       "      <td>7.0</td>\n",
       "      <td>4.0</td>\n",
       "      <td>...</td>\n",
       "      <td>14.59</td>\n",
       "      <td>8.27</td>\n",
       "      <td>0.00</td>\n",
       "      <td>147.01</td>\n",
       "      <td>1.08</td>\n",
       "      <td>7:53:38 AM</td>\n",
       "      <td>Frank M</td>\n",
       "      <td>Sunday</td>\n",
       "      <td>23.34</td>\n",
       "      <td>7</td>\n",
       "    </tr>\n",
       "  </tbody>\n",
       "</table>\n",
       "<p>148 rows × 31 columns</p>\n",
       "</div>"
      ],
      "text/plain": [
       "           Date  Item Total  Baked Goods qty  Alcohol qty  Grocery qty  \\\n",
       "0      5/7/1995          23              0.0          0.0         23.0   \n",
       "1     5/16/1995          22              0.0          0.0         22.0   \n",
       "2     9/15/2019          19              0.0          0.0          3.0   \n",
       "3    12/22/2019          31              0.0          1.0         15.0   \n",
       "4      1/7/2020           5              0.0          0.0          4.0   \n",
       "..          ...         ...              ...          ...          ...   \n",
       "143    6/5/2022          30              0.0          0.0         14.0   \n",
       "144   6/12/2022          31              0.0          0.0         10.0   \n",
       "145   6/19/2022          41              1.0          0.0         17.0   \n",
       "146   6/26/2022          45              0.0          0.0         20.0   \n",
       "147    7/3/2022          44              0.0          0.0         15.0   \n",
       "\n",
       "     Produce qty  Meat qty  Service deli qty  Dairy-Deli (frz/refrig) qty  \\\n",
       "0            0.0       0.0               0.0                          0.0   \n",
       "1            0.0       0.0               0.0                          0.0   \n",
       "2            4.0       2.0               1.0                          9.0   \n",
       "3            0.0       5.0               0.0                          9.0   \n",
       "4            0.0       0.0               1.0                          0.0   \n",
       "..           ...       ...               ...                          ...   \n",
       "143          5.0       3.0               0.0                          8.0   \n",
       "144          4.0       5.0               0.0                         11.0   \n",
       "145          8.0       6.0               1.0                          8.0   \n",
       "146          7.0       3.0               1.0                         12.0   \n",
       "147         11.0       7.0               0.0                          7.0   \n",
       "\n",
       "     Gen Merch qty  ...  Dairy-Deli cost  Gen Merch cost  Coupon Cost  \\\n",
       "0              0.0  ...             0.00            0.00         0.00   \n",
       "1              0.0  ...             0.00            0.00         1.57   \n",
       "2              0.0  ...            30.47            0.00         0.00   \n",
       "3              1.0  ...            31.55            3.39         0.00   \n",
       "4              0.0  ...             0.00            0.00         0.00   \n",
       "..             ...  ...              ...             ...          ...   \n",
       "143            0.0  ...            30.45            0.00         0.00   \n",
       "144            1.0  ...            24.21            9.99         3.00   \n",
       "145            0.0  ...            27.12            0.00         1.00   \n",
       "146            2.0  ...            39.73           14.88         0.00   \n",
       "147            4.0  ...            14.59            8.27         0.00   \n",
       "\n",
       "    Cost (total)  Taxes  Checkout Time    Cashier  Day of the Week  \\\n",
       "0          83.72   4.43     9:19:00 PM          0           Sunday   \n",
       "1          50.51   1.63    11:50:07 PM          0          Tuesday   \n",
       "2          82.36   0.00     2:05:20 PM     Martin           Sunday   \n",
       "3         108.33   0.00     2:33:26 PM      jamie           Sunday   \n",
       "4          14.80   0.19    11:51:45 AM  FastLane1          Tuesday   \n",
       "..           ...    ...            ...        ...              ...   \n",
       "143       156.24   1.10     7:22:07 AM     Olivia           Sunday   \n",
       "144       108.13   1.02     7:40:24 AM     Andrew           Sunday   \n",
       "145       146.80   0.00     8:03:16 AM     Jacqui           Sunday   \n",
       "146       170.64   1.53     7:53:18 AM     Olivia           Sunday   \n",
       "147       147.01   1.08     7:53:38 AM    Frank M           Sunday   \n",
       "\n",
       "     Total Savings  Terminal  \n",
       "0             0.00         0  \n",
       "1             0.00         0  \n",
       "2             9.94         3  \n",
       "3            12.90         1  \n",
       "4             1.80      Self  \n",
       "..             ...       ...  \n",
       "143           9.88         7  \n",
       "144          21.82         7  \n",
       "145          18.40         7  \n",
       "146          24.68         7  \n",
       "147          23.34         7  \n",
       "\n",
       "[148 rows x 31 columns]"
      ]
     },
     "execution_count": 27,
     "metadata": {},
     "output_type": "execute_result"
    }
   ],
   "source": [
    "groceries2_clean = groceries.fillna(0)\n",
    "groceries2_clean"
   ]
  },
  {
   "cell_type": "code",
   "execution_count": 28,
   "id": "7fde79f2",
   "metadata": {},
   "outputs": [
    {
     "data": {
      "application/vnd.plotly.v1+json": {
       "config": {
        "plotlyServerURL": "https://plot.ly"
       },
       "data": [
        {
         "hovertemplate": "Date=%{x}<br>Meat cost=%{y}<extra></extra>",
         "legendgroup": "",
         "line": {
          "color": "#636efa",
          "dash": "solid"
         },
         "marker": {
          "symbol": "circle"
         },
         "mode": "lines",
         "name": "",
         "orientation": "v",
         "showlegend": false,
         "type": "scatter",
         "x": [
          "5/7/1995",
          "5/16/1995",
          "9/15/2019",
          "12/22/2019",
          "1/7/2020",
          "1/12/2020",
          "1/19/2020",
          "1/26/2020",
          "2/2/2020",
          "2/9/2020",
          "3/14/2020",
          "3/22/2020",
          "4/19/2020",
          "4/22/2020",
          "4/29/2020",
          "5/3/2020",
          "5/4/2020",
          "5/10/2020",
          "5/17/2020",
          "5/31/2020",
          "6/2/2020",
          "6/7/2020",
          "6/21/2020",
          "6/28/2020",
          "7/3/2020",
          "7/4/2020",
          "7/4/2020",
          "7/12/2020",
          "7/19/2020",
          "7/25/2020",
          "7/25/2020",
          "7/26/2020",
          "7/29/2020",
          "8/2/2020",
          "8/2/2020",
          "8/4/2020",
          "8/9/2020",
          "8/14/2020",
          "8/16/2020",
          "8/21/2020",
          "8/23/2020",
          "8/23/2020",
          "8/30/2020",
          "9/6/2020",
          "9/7/2020",
          "9/13/2020",
          "9/20/2020",
          "10/4/2020",
          "10/11/2020",
          "10/14/2020",
          "10/18/2020",
          "10/21/2020",
          "10/21/2020",
          "10/25/2020",
          "10/31/2020",
          "11/8/2020",
          "11/15/2020",
          "11/20/2020",
          "11/21/2020",
          "11/22/2020",
          "11/29/2020",
          "12/6/2020",
          "12/13/2020",
          "12/18/2020",
          "12/20/2020",
          "12/21/2020",
          "12/27/2020",
          "1/2/2021",
          "1/3/2021",
          "1/10/2021",
          "1/24/2021",
          "1/26/2021",
          "1/29/2021",
          "1/31/2021",
          "1/31/2021",
          "1/31/2021",
          "2/2/2021",
          "2/7/2021",
          "2/14/2021",
          "2/16/2021",
          "2/21/2021",
          "2/28/2021",
          "3/7/2021",
          "3/14/2021",
          "3/21/2021",
          "3/28/2021",
          "4/18/2021",
          "4/26/2021",
          "5/2/2021",
          "5/9/2021",
          "5/16/2021",
          "5/23/2021",
          "5/27/2021",
          "5/30/2021",
          "6/20/2021",
          "6/23/2021",
          "7/4/2021",
          "7/11/2021",
          "7/18/2021",
          "8/1/2021",
          "8/8/2021",
          "8/12/2021",
          "8/15/2021",
          "8/22/2021",
          "8/29/2021",
          "9/5/2021",
          "9/19/2021",
          "9/30/2021",
          "10/10/2021",
          "10/17/2021",
          "10/31/2021",
          "11/7/2021",
          "11/14/2021",
          "11/14/2021",
          "11/21/2021",
          "11/23/2021",
          "11/28/2021",
          "12/5/2021",
          "12/12/2021",
          "12/15/2021",
          "12/19/2021",
          "12/21/2021",
          "12/26/2021",
          "1/2/2022",
          "1/16/2022",
          "1/23/2022",
          "1/30/2022",
          "2/6/2022",
          "2/13/2022",
          "2/27/2022",
          "3/6/2022",
          "3/13/2022",
          "3/20/2022",
          "3/27/2022",
          "4/3/2022",
          "4/10/2022",
          "4/17/2022",
          "4/24/2022",
          "5/1/2022",
          "5/8/2022",
          "5/15/2022",
          "5/22/2022",
          "5/29/2022",
          "6/5/2022",
          "6/12/2022",
          "6/19/2022",
          "6/26/2022",
          "7/3/2022"
         ],
         "xaxis": "x",
         "y": [
          0,
          0,
          16.98,
          32.82,
          0,
          26.39,
          36.89,
          45.83,
          35.29,
          21.62,
          39.34,
          43.02,
          39.79,
          0,
          0,
          57.03,
          41.04,
          39.99,
          35.52,
          43.99,
          4.09,
          46.18,
          30.13,
          38.21,
          0,
          0,
          22.02,
          43.99,
          21.72,
          16.54,
          0,
          39.27,
          0,
          39.07,
          0,
          0,
          32.57,
          0,
          62.33,
          0,
          0,
          33.9,
          22.45,
          43.44,
          42.21,
          77.99,
          62.05,
          38.22,
          33.65,
          0,
          40.48,
          0,
          0,
          32.77,
          48.31,
          48.29,
          46.85,
          6.49,
          9.99,
          49.36,
          39.14,
          28.86,
          61.87,
          0,
          49.71,
          0,
          32.94,
          0,
          29.75,
          57.46,
          46.65,
          0,
          0,
          3.99,
          36.22,
          0,
          8.11,
          40.8,
          51.17,
          0,
          52.21,
          61.1,
          19.99,
          50.74,
          66.5,
          54.6,
          60.67,
          0,
          36.22,
          30.89,
          8.69,
          34.92,
          0,
          33.4,
          40.67,
          0,
          27.56,
          30.7,
          30.6,
          52.17,
          29.22,
          0,
          71.7,
          49.47,
          43.92,
          28.36,
          70.35,
          5.56,
          52.53,
          31.6,
          61.08,
          33.78,
          12.99,
          51.18,
          29.03,
          0,
          36.13,
          51.69,
          48.17,
          0,
          51.89,
          0,
          47.05,
          53.94,
          31.23,
          25.65,
          54.16,
          54.46,
          52.3,
          44.9,
          47.39,
          52.3,
          26.3,
          45.98,
          38.55,
          38.52,
          54.62,
          27.16,
          36.18,
          35.94,
          54.13,
          27.96,
          33.34,
          36.6,
          15.16,
          44.48,
          38.37,
          54.06
         ],
         "yaxis": "y"
        }
       ],
       "layout": {
        "legend": {
         "tracegroupgap": 0
        },
        "template": {
         "data": {
          "bar": [
           {
            "error_x": {
             "color": "#2a3f5f"
            },
            "error_y": {
             "color": "#2a3f5f"
            },
            "marker": {
             "line": {
              "color": "#E5ECF6",
              "width": 0.5
             },
             "pattern": {
              "fillmode": "overlay",
              "size": 10,
              "solidity": 0.2
             }
            },
            "type": "bar"
           }
          ],
          "barpolar": [
           {
            "marker": {
             "line": {
              "color": "#E5ECF6",
              "width": 0.5
             },
             "pattern": {
              "fillmode": "overlay",
              "size": 10,
              "solidity": 0.2
             }
            },
            "type": "barpolar"
           }
          ],
          "carpet": [
           {
            "aaxis": {
             "endlinecolor": "#2a3f5f",
             "gridcolor": "white",
             "linecolor": "white",
             "minorgridcolor": "white",
             "startlinecolor": "#2a3f5f"
            },
            "baxis": {
             "endlinecolor": "#2a3f5f",
             "gridcolor": "white",
             "linecolor": "white",
             "minorgridcolor": "white",
             "startlinecolor": "#2a3f5f"
            },
            "type": "carpet"
           }
          ],
          "choropleth": [
           {
            "colorbar": {
             "outlinewidth": 0,
             "ticks": ""
            },
            "type": "choropleth"
           }
          ],
          "contour": [
           {
            "colorbar": {
             "outlinewidth": 0,
             "ticks": ""
            },
            "colorscale": [
             [
              0,
              "#0d0887"
             ],
             [
              0.1111111111111111,
              "#46039f"
             ],
             [
              0.2222222222222222,
              "#7201a8"
             ],
             [
              0.3333333333333333,
              "#9c179e"
             ],
             [
              0.4444444444444444,
              "#bd3786"
             ],
             [
              0.5555555555555556,
              "#d8576b"
             ],
             [
              0.6666666666666666,
              "#ed7953"
             ],
             [
              0.7777777777777778,
              "#fb9f3a"
             ],
             [
              0.8888888888888888,
              "#fdca26"
             ],
             [
              1,
              "#f0f921"
             ]
            ],
            "type": "contour"
           }
          ],
          "contourcarpet": [
           {
            "colorbar": {
             "outlinewidth": 0,
             "ticks": ""
            },
            "type": "contourcarpet"
           }
          ],
          "heatmap": [
           {
            "colorbar": {
             "outlinewidth": 0,
             "ticks": ""
            },
            "colorscale": [
             [
              0,
              "#0d0887"
             ],
             [
              0.1111111111111111,
              "#46039f"
             ],
             [
              0.2222222222222222,
              "#7201a8"
             ],
             [
              0.3333333333333333,
              "#9c179e"
             ],
             [
              0.4444444444444444,
              "#bd3786"
             ],
             [
              0.5555555555555556,
              "#d8576b"
             ],
             [
              0.6666666666666666,
              "#ed7953"
             ],
             [
              0.7777777777777778,
              "#fb9f3a"
             ],
             [
              0.8888888888888888,
              "#fdca26"
             ],
             [
              1,
              "#f0f921"
             ]
            ],
            "type": "heatmap"
           }
          ],
          "heatmapgl": [
           {
            "colorbar": {
             "outlinewidth": 0,
             "ticks": ""
            },
            "colorscale": [
             [
              0,
              "#0d0887"
             ],
             [
              0.1111111111111111,
              "#46039f"
             ],
             [
              0.2222222222222222,
              "#7201a8"
             ],
             [
              0.3333333333333333,
              "#9c179e"
             ],
             [
              0.4444444444444444,
              "#bd3786"
             ],
             [
              0.5555555555555556,
              "#d8576b"
             ],
             [
              0.6666666666666666,
              "#ed7953"
             ],
             [
              0.7777777777777778,
              "#fb9f3a"
             ],
             [
              0.8888888888888888,
              "#fdca26"
             ],
             [
              1,
              "#f0f921"
             ]
            ],
            "type": "heatmapgl"
           }
          ],
          "histogram": [
           {
            "marker": {
             "pattern": {
              "fillmode": "overlay",
              "size": 10,
              "solidity": 0.2
             }
            },
            "type": "histogram"
           }
          ],
          "histogram2d": [
           {
            "colorbar": {
             "outlinewidth": 0,
             "ticks": ""
            },
            "colorscale": [
             [
              0,
              "#0d0887"
             ],
             [
              0.1111111111111111,
              "#46039f"
             ],
             [
              0.2222222222222222,
              "#7201a8"
             ],
             [
              0.3333333333333333,
              "#9c179e"
             ],
             [
              0.4444444444444444,
              "#bd3786"
             ],
             [
              0.5555555555555556,
              "#d8576b"
             ],
             [
              0.6666666666666666,
              "#ed7953"
             ],
             [
              0.7777777777777778,
              "#fb9f3a"
             ],
             [
              0.8888888888888888,
              "#fdca26"
             ],
             [
              1,
              "#f0f921"
             ]
            ],
            "type": "histogram2d"
           }
          ],
          "histogram2dcontour": [
           {
            "colorbar": {
             "outlinewidth": 0,
             "ticks": ""
            },
            "colorscale": [
             [
              0,
              "#0d0887"
             ],
             [
              0.1111111111111111,
              "#46039f"
             ],
             [
              0.2222222222222222,
              "#7201a8"
             ],
             [
              0.3333333333333333,
              "#9c179e"
             ],
             [
              0.4444444444444444,
              "#bd3786"
             ],
             [
              0.5555555555555556,
              "#d8576b"
             ],
             [
              0.6666666666666666,
              "#ed7953"
             ],
             [
              0.7777777777777778,
              "#fb9f3a"
             ],
             [
              0.8888888888888888,
              "#fdca26"
             ],
             [
              1,
              "#f0f921"
             ]
            ],
            "type": "histogram2dcontour"
           }
          ],
          "mesh3d": [
           {
            "colorbar": {
             "outlinewidth": 0,
             "ticks": ""
            },
            "type": "mesh3d"
           }
          ],
          "parcoords": [
           {
            "line": {
             "colorbar": {
              "outlinewidth": 0,
              "ticks": ""
             }
            },
            "type": "parcoords"
           }
          ],
          "pie": [
           {
            "automargin": true,
            "type": "pie"
           }
          ],
          "scatter": [
           {
            "marker": {
             "colorbar": {
              "outlinewidth": 0,
              "ticks": ""
             }
            },
            "type": "scatter"
           }
          ],
          "scatter3d": [
           {
            "line": {
             "colorbar": {
              "outlinewidth": 0,
              "ticks": ""
             }
            },
            "marker": {
             "colorbar": {
              "outlinewidth": 0,
              "ticks": ""
             }
            },
            "type": "scatter3d"
           }
          ],
          "scattercarpet": [
           {
            "marker": {
             "colorbar": {
              "outlinewidth": 0,
              "ticks": ""
             }
            },
            "type": "scattercarpet"
           }
          ],
          "scattergeo": [
           {
            "marker": {
             "colorbar": {
              "outlinewidth": 0,
              "ticks": ""
             }
            },
            "type": "scattergeo"
           }
          ],
          "scattergl": [
           {
            "marker": {
             "colorbar": {
              "outlinewidth": 0,
              "ticks": ""
             }
            },
            "type": "scattergl"
           }
          ],
          "scattermapbox": [
           {
            "marker": {
             "colorbar": {
              "outlinewidth": 0,
              "ticks": ""
             }
            },
            "type": "scattermapbox"
           }
          ],
          "scatterpolar": [
           {
            "marker": {
             "colorbar": {
              "outlinewidth": 0,
              "ticks": ""
             }
            },
            "type": "scatterpolar"
           }
          ],
          "scatterpolargl": [
           {
            "marker": {
             "colorbar": {
              "outlinewidth": 0,
              "ticks": ""
             }
            },
            "type": "scatterpolargl"
           }
          ],
          "scatterternary": [
           {
            "marker": {
             "colorbar": {
              "outlinewidth": 0,
              "ticks": ""
             }
            },
            "type": "scatterternary"
           }
          ],
          "surface": [
           {
            "colorbar": {
             "outlinewidth": 0,
             "ticks": ""
            },
            "colorscale": [
             [
              0,
              "#0d0887"
             ],
             [
              0.1111111111111111,
              "#46039f"
             ],
             [
              0.2222222222222222,
              "#7201a8"
             ],
             [
              0.3333333333333333,
              "#9c179e"
             ],
             [
              0.4444444444444444,
              "#bd3786"
             ],
             [
              0.5555555555555556,
              "#d8576b"
             ],
             [
              0.6666666666666666,
              "#ed7953"
             ],
             [
              0.7777777777777778,
              "#fb9f3a"
             ],
             [
              0.8888888888888888,
              "#fdca26"
             ],
             [
              1,
              "#f0f921"
             ]
            ],
            "type": "surface"
           }
          ],
          "table": [
           {
            "cells": {
             "fill": {
              "color": "#EBF0F8"
             },
             "line": {
              "color": "white"
             }
            },
            "header": {
             "fill": {
              "color": "#C8D4E3"
             },
             "line": {
              "color": "white"
             }
            },
            "type": "table"
           }
          ]
         },
         "layout": {
          "annotationdefaults": {
           "arrowcolor": "#2a3f5f",
           "arrowhead": 0,
           "arrowwidth": 1
          },
          "autotypenumbers": "strict",
          "coloraxis": {
           "colorbar": {
            "outlinewidth": 0,
            "ticks": ""
           }
          },
          "colorscale": {
           "diverging": [
            [
             0,
             "#8e0152"
            ],
            [
             0.1,
             "#c51b7d"
            ],
            [
             0.2,
             "#de77ae"
            ],
            [
             0.3,
             "#f1b6da"
            ],
            [
             0.4,
             "#fde0ef"
            ],
            [
             0.5,
             "#f7f7f7"
            ],
            [
             0.6,
             "#e6f5d0"
            ],
            [
             0.7,
             "#b8e186"
            ],
            [
             0.8,
             "#7fbc41"
            ],
            [
             0.9,
             "#4d9221"
            ],
            [
             1,
             "#276419"
            ]
           ],
           "sequential": [
            [
             0,
             "#0d0887"
            ],
            [
             0.1111111111111111,
             "#46039f"
            ],
            [
             0.2222222222222222,
             "#7201a8"
            ],
            [
             0.3333333333333333,
             "#9c179e"
            ],
            [
             0.4444444444444444,
             "#bd3786"
            ],
            [
             0.5555555555555556,
             "#d8576b"
            ],
            [
             0.6666666666666666,
             "#ed7953"
            ],
            [
             0.7777777777777778,
             "#fb9f3a"
            ],
            [
             0.8888888888888888,
             "#fdca26"
            ],
            [
             1,
             "#f0f921"
            ]
           ],
           "sequentialminus": [
            [
             0,
             "#0d0887"
            ],
            [
             0.1111111111111111,
             "#46039f"
            ],
            [
             0.2222222222222222,
             "#7201a8"
            ],
            [
             0.3333333333333333,
             "#9c179e"
            ],
            [
             0.4444444444444444,
             "#bd3786"
            ],
            [
             0.5555555555555556,
             "#d8576b"
            ],
            [
             0.6666666666666666,
             "#ed7953"
            ],
            [
             0.7777777777777778,
             "#fb9f3a"
            ],
            [
             0.8888888888888888,
             "#fdca26"
            ],
            [
             1,
             "#f0f921"
            ]
           ]
          },
          "colorway": [
           "#636efa",
           "#EF553B",
           "#00cc96",
           "#ab63fa",
           "#FFA15A",
           "#19d3f3",
           "#FF6692",
           "#B6E880",
           "#FF97FF",
           "#FECB52"
          ],
          "font": {
           "color": "#2a3f5f"
          },
          "geo": {
           "bgcolor": "white",
           "lakecolor": "white",
           "landcolor": "#E5ECF6",
           "showlakes": true,
           "showland": true,
           "subunitcolor": "white"
          },
          "hoverlabel": {
           "align": "left"
          },
          "hovermode": "closest",
          "mapbox": {
           "style": "light"
          },
          "paper_bgcolor": "white",
          "plot_bgcolor": "#E5ECF6",
          "polar": {
           "angularaxis": {
            "gridcolor": "white",
            "linecolor": "white",
            "ticks": ""
           },
           "bgcolor": "#E5ECF6",
           "radialaxis": {
            "gridcolor": "white",
            "linecolor": "white",
            "ticks": ""
           }
          },
          "scene": {
           "xaxis": {
            "backgroundcolor": "#E5ECF6",
            "gridcolor": "white",
            "gridwidth": 2,
            "linecolor": "white",
            "showbackground": true,
            "ticks": "",
            "zerolinecolor": "white"
           },
           "yaxis": {
            "backgroundcolor": "#E5ECF6",
            "gridcolor": "white",
            "gridwidth": 2,
            "linecolor": "white",
            "showbackground": true,
            "ticks": "",
            "zerolinecolor": "white"
           },
           "zaxis": {
            "backgroundcolor": "#E5ECF6",
            "gridcolor": "white",
            "gridwidth": 2,
            "linecolor": "white",
            "showbackground": true,
            "ticks": "",
            "zerolinecolor": "white"
           }
          },
          "shapedefaults": {
           "line": {
            "color": "#2a3f5f"
           }
          },
          "ternary": {
           "aaxis": {
            "gridcolor": "white",
            "linecolor": "white",
            "ticks": ""
           },
           "baxis": {
            "gridcolor": "white",
            "linecolor": "white",
            "ticks": ""
           },
           "bgcolor": "#E5ECF6",
           "caxis": {
            "gridcolor": "white",
            "linecolor": "white",
            "ticks": ""
           }
          },
          "title": {
           "x": 0.05
          },
          "xaxis": {
           "automargin": true,
           "gridcolor": "white",
           "linecolor": "white",
           "ticks": "",
           "title": {
            "standoff": 15
           },
           "zerolinecolor": "white",
           "zerolinewidth": 2
          },
          "yaxis": {
           "automargin": true,
           "gridcolor": "white",
           "linecolor": "white",
           "ticks": "",
           "title": {
            "standoff": 15
           },
           "zerolinecolor": "white",
           "zerolinewidth": 2
          }
         }
        },
        "title": {
         "text": "Cost of Meat Over Time"
        },
        "xaxis": {
         "anchor": "y",
         "domain": [
          0,
          1
         ],
         "title": {
          "text": "Date"
         }
        },
        "yaxis": {
         "anchor": "x",
         "domain": [
          0,
          1
         ],
         "title": {
          "text": "Meat cost"
         }
        }
       }
      },
      "text/html": [
       "<div>                            <div id=\"7c62b1e3-5b87-4659-a739-b1cb029f512e\" class=\"plotly-graph-div\" style=\"height:525px; width:100%;\"></div>            <script type=\"text/javascript\">                require([\"plotly\"], function(Plotly) {                    window.PLOTLYENV=window.PLOTLYENV || {};                                    if (document.getElementById(\"7c62b1e3-5b87-4659-a739-b1cb029f512e\")) {                    Plotly.newPlot(                        \"7c62b1e3-5b87-4659-a739-b1cb029f512e\",                        [{\"hovertemplate\":\"Date=%{x}<br>Meat cost=%{y}<extra></extra>\",\"legendgroup\":\"\",\"line\":{\"color\":\"#636efa\",\"dash\":\"solid\"},\"marker\":{\"symbol\":\"circle\"},\"mode\":\"lines\",\"name\":\"\",\"orientation\":\"v\",\"showlegend\":false,\"x\":[\"5/7/1995\",\"5/16/1995\",\"9/15/2019\",\"12/22/2019\",\"1/7/2020\",\"1/12/2020\",\"1/19/2020\",\"1/26/2020\",\"2/2/2020\",\"2/9/2020\",\"3/14/2020\",\"3/22/2020\",\"4/19/2020\",\"4/22/2020\",\"4/29/2020\",\"5/3/2020\",\"5/4/2020\",\"5/10/2020\",\"5/17/2020\",\"5/31/2020\",\"6/2/2020\",\"6/7/2020\",\"6/21/2020\",\"6/28/2020\",\"7/3/2020\",\"7/4/2020\",\"7/4/2020\",\"7/12/2020\",\"7/19/2020\",\"7/25/2020\",\"7/25/2020\",\"7/26/2020\",\"7/29/2020\",\"8/2/2020\",\"8/2/2020\",\"8/4/2020\",\"8/9/2020\",\"8/14/2020\",\"8/16/2020\",\"8/21/2020\",\"8/23/2020\",\"8/23/2020\",\"8/30/2020\",\"9/6/2020\",\"9/7/2020\",\"9/13/2020\",\"9/20/2020\",\"10/4/2020\",\"10/11/2020\",\"10/14/2020\",\"10/18/2020\",\"10/21/2020\",\"10/21/2020\",\"10/25/2020\",\"10/31/2020\",\"11/8/2020\",\"11/15/2020\",\"11/20/2020\",\"11/21/2020\",\"11/22/2020\",\"11/29/2020\",\"12/6/2020\",\"12/13/2020\",\"12/18/2020\",\"12/20/2020\",\"12/21/2020\",\"12/27/2020\",\"1/2/2021\",\"1/3/2021\",\"1/10/2021\",\"1/24/2021\",\"1/26/2021\",\"1/29/2021\",\"1/31/2021\",\"1/31/2021\",\"1/31/2021\",\"2/2/2021\",\"2/7/2021\",\"2/14/2021\",\"2/16/2021\",\"2/21/2021\",\"2/28/2021\",\"3/7/2021\",\"3/14/2021\",\"3/21/2021\",\"3/28/2021\",\"4/18/2021\",\"4/26/2021\",\"5/2/2021\",\"5/9/2021\",\"5/16/2021\",\"5/23/2021\",\"5/27/2021\",\"5/30/2021\",\"6/20/2021\",\"6/23/2021\",\"7/4/2021\",\"7/11/2021\",\"7/18/2021\",\"8/1/2021\",\"8/8/2021\",\"8/12/2021\",\"8/15/2021\",\"8/22/2021\",\"8/29/2021\",\"9/5/2021\",\"9/19/2021\",\"9/30/2021\",\"10/10/2021\",\"10/17/2021\",\"10/31/2021\",\"11/7/2021\",\"11/14/2021\",\"11/14/2021\",\"11/21/2021\",\"11/23/2021\",\"11/28/2021\",\"12/5/2021\",\"12/12/2021\",\"12/15/2021\",\"12/19/2021\",\"12/21/2021\",\"12/26/2021\",\"1/2/2022\",\"1/16/2022\",\"1/23/2022\",\"1/30/2022\",\"2/6/2022\",\"2/13/2022\",\"2/27/2022\",\"3/6/2022\",\"3/13/2022\",\"3/20/2022\",\"3/27/2022\",\"4/3/2022\",\"4/10/2022\",\"4/17/2022\",\"4/24/2022\",\"5/1/2022\",\"5/8/2022\",\"5/15/2022\",\"5/22/2022\",\"5/29/2022\",\"6/5/2022\",\"6/12/2022\",\"6/19/2022\",\"6/26/2022\",\"7/3/2022\"],\"xaxis\":\"x\",\"y\":[0.0,0.0,16.98,32.82,0.0,26.39,36.89,45.83,35.29,21.62,39.34,43.02,39.79,0.0,0.0,57.03,41.04,39.99,35.52,43.99,4.09,46.18,30.13,38.21,0.0,0.0,22.02,43.99,21.72,16.54,0.0,39.27,0.0,39.07,0.0,0.0,32.57,0.0,62.33,0.0,0.0,33.9,22.45,43.44,42.21,77.99,62.05,38.22,33.65,0.0,40.48,0.0,0.0,32.77,48.31,48.29,46.85,6.49,9.99,49.36,39.14,28.86,61.87,0.0,49.71,0.0,32.94,0.0,29.75,57.46,46.65,0.0,0.0,3.99,36.22,0.0,8.11,40.8,51.17,0.0,52.21,61.1,19.99,50.74,66.5,54.6,60.67,0.0,36.22,30.89,8.69,34.92,0.0,33.4,40.67,0.0,27.56,30.7,30.6,52.17,29.22,0.0,71.7,49.47,43.92,28.36,70.35,5.56,52.53,31.6,61.08,33.78,12.99,51.18,29.03,0.0,36.13,51.69,48.17,0.0,51.89,0.0,47.05,53.94,31.23,25.65,54.16,54.46,52.3,44.9,47.39,52.3,26.3,45.98,38.55,38.52,54.62,27.16,36.18,35.94,54.13,27.96,33.34,36.6,15.16,44.48,38.37,54.06],\"yaxis\":\"y\",\"type\":\"scatter\"}],                        {\"template\":{\"data\":{\"bar\":[{\"error_x\":{\"color\":\"#2a3f5f\"},\"error_y\":{\"color\":\"#2a3f5f\"},\"marker\":{\"line\":{\"color\":\"#E5ECF6\",\"width\":0.5},\"pattern\":{\"fillmode\":\"overlay\",\"size\":10,\"solidity\":0.2}},\"type\":\"bar\"}],\"barpolar\":[{\"marker\":{\"line\":{\"color\":\"#E5ECF6\",\"width\":0.5},\"pattern\":{\"fillmode\":\"overlay\",\"size\":10,\"solidity\":0.2}},\"type\":\"barpolar\"}],\"carpet\":[{\"aaxis\":{\"endlinecolor\":\"#2a3f5f\",\"gridcolor\":\"white\",\"linecolor\":\"white\",\"minorgridcolor\":\"white\",\"startlinecolor\":\"#2a3f5f\"},\"baxis\":{\"endlinecolor\":\"#2a3f5f\",\"gridcolor\":\"white\",\"linecolor\":\"white\",\"minorgridcolor\":\"white\",\"startlinecolor\":\"#2a3f5f\"},\"type\":\"carpet\"}],\"choropleth\":[{\"colorbar\":{\"outlinewidth\":0,\"ticks\":\"\"},\"type\":\"choropleth\"}],\"contour\":[{\"colorbar\":{\"outlinewidth\":0,\"ticks\":\"\"},\"colorscale\":[[0.0,\"#0d0887\"],[0.1111111111111111,\"#46039f\"],[0.2222222222222222,\"#7201a8\"],[0.3333333333333333,\"#9c179e\"],[0.4444444444444444,\"#bd3786\"],[0.5555555555555556,\"#d8576b\"],[0.6666666666666666,\"#ed7953\"],[0.7777777777777778,\"#fb9f3a\"],[0.8888888888888888,\"#fdca26\"],[1.0,\"#f0f921\"]],\"type\":\"contour\"}],\"contourcarpet\":[{\"colorbar\":{\"outlinewidth\":0,\"ticks\":\"\"},\"type\":\"contourcarpet\"}],\"heatmap\":[{\"colorbar\":{\"outlinewidth\":0,\"ticks\":\"\"},\"colorscale\":[[0.0,\"#0d0887\"],[0.1111111111111111,\"#46039f\"],[0.2222222222222222,\"#7201a8\"],[0.3333333333333333,\"#9c179e\"],[0.4444444444444444,\"#bd3786\"],[0.5555555555555556,\"#d8576b\"],[0.6666666666666666,\"#ed7953\"],[0.7777777777777778,\"#fb9f3a\"],[0.8888888888888888,\"#fdca26\"],[1.0,\"#f0f921\"]],\"type\":\"heatmap\"}],\"heatmapgl\":[{\"colorbar\":{\"outlinewidth\":0,\"ticks\":\"\"},\"colorscale\":[[0.0,\"#0d0887\"],[0.1111111111111111,\"#46039f\"],[0.2222222222222222,\"#7201a8\"],[0.3333333333333333,\"#9c179e\"],[0.4444444444444444,\"#bd3786\"],[0.5555555555555556,\"#d8576b\"],[0.6666666666666666,\"#ed7953\"],[0.7777777777777778,\"#fb9f3a\"],[0.8888888888888888,\"#fdca26\"],[1.0,\"#f0f921\"]],\"type\":\"heatmapgl\"}],\"histogram\":[{\"marker\":{\"pattern\":{\"fillmode\":\"overlay\",\"size\":10,\"solidity\":0.2}},\"type\":\"histogram\"}],\"histogram2d\":[{\"colorbar\":{\"outlinewidth\":0,\"ticks\":\"\"},\"colorscale\":[[0.0,\"#0d0887\"],[0.1111111111111111,\"#46039f\"],[0.2222222222222222,\"#7201a8\"],[0.3333333333333333,\"#9c179e\"],[0.4444444444444444,\"#bd3786\"],[0.5555555555555556,\"#d8576b\"],[0.6666666666666666,\"#ed7953\"],[0.7777777777777778,\"#fb9f3a\"],[0.8888888888888888,\"#fdca26\"],[1.0,\"#f0f921\"]],\"type\":\"histogram2d\"}],\"histogram2dcontour\":[{\"colorbar\":{\"outlinewidth\":0,\"ticks\":\"\"},\"colorscale\":[[0.0,\"#0d0887\"],[0.1111111111111111,\"#46039f\"],[0.2222222222222222,\"#7201a8\"],[0.3333333333333333,\"#9c179e\"],[0.4444444444444444,\"#bd3786\"],[0.5555555555555556,\"#d8576b\"],[0.6666666666666666,\"#ed7953\"],[0.7777777777777778,\"#fb9f3a\"],[0.8888888888888888,\"#fdca26\"],[1.0,\"#f0f921\"]],\"type\":\"histogram2dcontour\"}],\"mesh3d\":[{\"colorbar\":{\"outlinewidth\":0,\"ticks\":\"\"},\"type\":\"mesh3d\"}],\"parcoords\":[{\"line\":{\"colorbar\":{\"outlinewidth\":0,\"ticks\":\"\"}},\"type\":\"parcoords\"}],\"pie\":[{\"automargin\":true,\"type\":\"pie\"}],\"scatter\":[{\"marker\":{\"colorbar\":{\"outlinewidth\":0,\"ticks\":\"\"}},\"type\":\"scatter\"}],\"scatter3d\":[{\"line\":{\"colorbar\":{\"outlinewidth\":0,\"ticks\":\"\"}},\"marker\":{\"colorbar\":{\"outlinewidth\":0,\"ticks\":\"\"}},\"type\":\"scatter3d\"}],\"scattercarpet\":[{\"marker\":{\"colorbar\":{\"outlinewidth\":0,\"ticks\":\"\"}},\"type\":\"scattercarpet\"}],\"scattergeo\":[{\"marker\":{\"colorbar\":{\"outlinewidth\":0,\"ticks\":\"\"}},\"type\":\"scattergeo\"}],\"scattergl\":[{\"marker\":{\"colorbar\":{\"outlinewidth\":0,\"ticks\":\"\"}},\"type\":\"scattergl\"}],\"scattermapbox\":[{\"marker\":{\"colorbar\":{\"outlinewidth\":0,\"ticks\":\"\"}},\"type\":\"scattermapbox\"}],\"scatterpolar\":[{\"marker\":{\"colorbar\":{\"outlinewidth\":0,\"ticks\":\"\"}},\"type\":\"scatterpolar\"}],\"scatterpolargl\":[{\"marker\":{\"colorbar\":{\"outlinewidth\":0,\"ticks\":\"\"}},\"type\":\"scatterpolargl\"}],\"scatterternary\":[{\"marker\":{\"colorbar\":{\"outlinewidth\":0,\"ticks\":\"\"}},\"type\":\"scatterternary\"}],\"surface\":[{\"colorbar\":{\"outlinewidth\":0,\"ticks\":\"\"},\"colorscale\":[[0.0,\"#0d0887\"],[0.1111111111111111,\"#46039f\"],[0.2222222222222222,\"#7201a8\"],[0.3333333333333333,\"#9c179e\"],[0.4444444444444444,\"#bd3786\"],[0.5555555555555556,\"#d8576b\"],[0.6666666666666666,\"#ed7953\"],[0.7777777777777778,\"#fb9f3a\"],[0.8888888888888888,\"#fdca26\"],[1.0,\"#f0f921\"]],\"type\":\"surface\"}],\"table\":[{\"cells\":{\"fill\":{\"color\":\"#EBF0F8\"},\"line\":{\"color\":\"white\"}},\"header\":{\"fill\":{\"color\":\"#C8D4E3\"},\"line\":{\"color\":\"white\"}},\"type\":\"table\"}]},\"layout\":{\"annotationdefaults\":{\"arrowcolor\":\"#2a3f5f\",\"arrowhead\":0,\"arrowwidth\":1},\"autotypenumbers\":\"strict\",\"coloraxis\":{\"colorbar\":{\"outlinewidth\":0,\"ticks\":\"\"}},\"colorscale\":{\"diverging\":[[0,\"#8e0152\"],[0.1,\"#c51b7d\"],[0.2,\"#de77ae\"],[0.3,\"#f1b6da\"],[0.4,\"#fde0ef\"],[0.5,\"#f7f7f7\"],[0.6,\"#e6f5d0\"],[0.7,\"#b8e186\"],[0.8,\"#7fbc41\"],[0.9,\"#4d9221\"],[1,\"#276419\"]],\"sequential\":[[0.0,\"#0d0887\"],[0.1111111111111111,\"#46039f\"],[0.2222222222222222,\"#7201a8\"],[0.3333333333333333,\"#9c179e\"],[0.4444444444444444,\"#bd3786\"],[0.5555555555555556,\"#d8576b\"],[0.6666666666666666,\"#ed7953\"],[0.7777777777777778,\"#fb9f3a\"],[0.8888888888888888,\"#fdca26\"],[1.0,\"#f0f921\"]],\"sequentialminus\":[[0.0,\"#0d0887\"],[0.1111111111111111,\"#46039f\"],[0.2222222222222222,\"#7201a8\"],[0.3333333333333333,\"#9c179e\"],[0.4444444444444444,\"#bd3786\"],[0.5555555555555556,\"#d8576b\"],[0.6666666666666666,\"#ed7953\"],[0.7777777777777778,\"#fb9f3a\"],[0.8888888888888888,\"#fdca26\"],[1.0,\"#f0f921\"]]},\"colorway\":[\"#636efa\",\"#EF553B\",\"#00cc96\",\"#ab63fa\",\"#FFA15A\",\"#19d3f3\",\"#FF6692\",\"#B6E880\",\"#FF97FF\",\"#FECB52\"],\"font\":{\"color\":\"#2a3f5f\"},\"geo\":{\"bgcolor\":\"white\",\"lakecolor\":\"white\",\"landcolor\":\"#E5ECF6\",\"showlakes\":true,\"showland\":true,\"subunitcolor\":\"white\"},\"hoverlabel\":{\"align\":\"left\"},\"hovermode\":\"closest\",\"mapbox\":{\"style\":\"light\"},\"paper_bgcolor\":\"white\",\"plot_bgcolor\":\"#E5ECF6\",\"polar\":{\"angularaxis\":{\"gridcolor\":\"white\",\"linecolor\":\"white\",\"ticks\":\"\"},\"bgcolor\":\"#E5ECF6\",\"radialaxis\":{\"gridcolor\":\"white\",\"linecolor\":\"white\",\"ticks\":\"\"}},\"scene\":{\"xaxis\":{\"backgroundcolor\":\"#E5ECF6\",\"gridcolor\":\"white\",\"gridwidth\":2,\"linecolor\":\"white\",\"showbackground\":true,\"ticks\":\"\",\"zerolinecolor\":\"white\"},\"yaxis\":{\"backgroundcolor\":\"#E5ECF6\",\"gridcolor\":\"white\",\"gridwidth\":2,\"linecolor\":\"white\",\"showbackground\":true,\"ticks\":\"\",\"zerolinecolor\":\"white\"},\"zaxis\":{\"backgroundcolor\":\"#E5ECF6\",\"gridcolor\":\"white\",\"gridwidth\":2,\"linecolor\":\"white\",\"showbackground\":true,\"ticks\":\"\",\"zerolinecolor\":\"white\"}},\"shapedefaults\":{\"line\":{\"color\":\"#2a3f5f\"}},\"ternary\":{\"aaxis\":{\"gridcolor\":\"white\",\"linecolor\":\"white\",\"ticks\":\"\"},\"baxis\":{\"gridcolor\":\"white\",\"linecolor\":\"white\",\"ticks\":\"\"},\"bgcolor\":\"#E5ECF6\",\"caxis\":{\"gridcolor\":\"white\",\"linecolor\":\"white\",\"ticks\":\"\"}},\"title\":{\"x\":0.05},\"xaxis\":{\"automargin\":true,\"gridcolor\":\"white\",\"linecolor\":\"white\",\"ticks\":\"\",\"title\":{\"standoff\":15},\"zerolinecolor\":\"white\",\"zerolinewidth\":2},\"yaxis\":{\"automargin\":true,\"gridcolor\":\"white\",\"linecolor\":\"white\",\"ticks\":\"\",\"title\":{\"standoff\":15},\"zerolinecolor\":\"white\",\"zerolinewidth\":2}}},\"xaxis\":{\"anchor\":\"y\",\"domain\":[0.0,1.0],\"title\":{\"text\":\"Date\"}},\"yaxis\":{\"anchor\":\"x\",\"domain\":[0.0,1.0],\"title\":{\"text\":\"Meat cost\"}},\"legend\":{\"tracegroupgap\":0},\"title\":{\"text\":\"Cost of Meat Over Time\"}},                        {\"responsive\": true}                    ).then(function(){\n",
       "                            \n",
       "var gd = document.getElementById('7c62b1e3-5b87-4659-a739-b1cb029f512e');\n",
       "var x = new MutationObserver(function (mutations, observer) {{\n",
       "        var display = window.getComputedStyle(gd).display;\n",
       "        if (!display || display === 'none') {{\n",
       "            console.log([gd, 'removed!']);\n",
       "            Plotly.purge(gd);\n",
       "            observer.disconnect();\n",
       "        }}\n",
       "}});\n",
       "\n",
       "// Listen for the removal of the full notebook cells\n",
       "var notebookContainer = gd.closest('#notebook-container');\n",
       "if (notebookContainer) {{\n",
       "    x.observe(notebookContainer, {childList: true});\n",
       "}}\n",
       "\n",
       "// Listen for the clearing of the current output cell\n",
       "var outputEl = gd.closest('.output');\n",
       "if (outputEl) {{\n",
       "    x.observe(outputEl, {childList: true});\n",
       "}}\n",
       "\n",
       "                        })                };                });            </script>        </div>"
      ]
     },
     "metadata": {},
     "output_type": "display_data"
    }
   ],
   "source": [
    "fig = px.line(groceries2_clean, x = 'Date', y = 'Meat cost', title='Cost of Meat Over Time')\n",
    "fig.show()"
   ]
  },
  {
   "cell_type": "code",
   "execution_count": 29,
   "id": "69aa043c",
   "metadata": {},
   "outputs": [
    {
     "data": {
      "application/vnd.plotly.v1+json": {
       "config": {
        "plotlyServerURL": "https://plot.ly"
       },
       "data": [
        {
         "hovertemplate": "Date=%{x}<br>Grocery cost=%{y}<extra></extra>",
         "legendgroup": "",
         "line": {
          "color": "#636efa",
          "dash": "solid"
         },
         "marker": {
          "symbol": "circle"
         },
         "mode": "lines",
         "name": "",
         "orientation": "v",
         "showlegend": false,
         "type": "scatter",
         "x": [
          "5/7/1995",
          "5/16/1995",
          "9/15/2019",
          "12/22/2019",
          "1/7/2020",
          "1/12/2020",
          "1/19/2020",
          "1/26/2020",
          "2/2/2020",
          "2/9/2020",
          "3/14/2020",
          "3/22/2020",
          "4/19/2020",
          "4/22/2020",
          "4/29/2020",
          "5/3/2020",
          "5/4/2020",
          "5/10/2020",
          "5/17/2020",
          "5/31/2020",
          "6/2/2020",
          "6/7/2020",
          "6/21/2020",
          "6/28/2020",
          "7/3/2020",
          "7/4/2020",
          "7/4/2020",
          "7/12/2020",
          "7/19/2020",
          "7/25/2020",
          "7/25/2020",
          "7/26/2020",
          "7/29/2020",
          "8/2/2020",
          "8/2/2020",
          "8/4/2020",
          "8/9/2020",
          "8/14/2020",
          "8/16/2020",
          "8/21/2020",
          "8/23/2020",
          "8/23/2020",
          "8/30/2020",
          "9/6/2020",
          "9/7/2020",
          "9/13/2020",
          "9/20/2020",
          "10/4/2020",
          "10/11/2020",
          "10/14/2020",
          "10/18/2020",
          "10/21/2020",
          "10/21/2020",
          "10/25/2020",
          "10/31/2020",
          "11/8/2020",
          "11/15/2020",
          "11/20/2020",
          "11/21/2020",
          "11/22/2020",
          "11/29/2020",
          "12/6/2020",
          "12/13/2020",
          "12/18/2020",
          "12/20/2020",
          "12/21/2020",
          "12/27/2020",
          "1/2/2021",
          "1/3/2021",
          "1/10/2021",
          "1/24/2021",
          "1/26/2021",
          "1/29/2021",
          "1/31/2021",
          "1/31/2021",
          "1/31/2021",
          "2/2/2021",
          "2/7/2021",
          "2/14/2021",
          "2/16/2021",
          "2/21/2021",
          "2/28/2021",
          "3/7/2021",
          "3/14/2021",
          "3/21/2021",
          "3/28/2021",
          "4/18/2021",
          "4/26/2021",
          "5/2/2021",
          "5/9/2021",
          "5/16/2021",
          "5/23/2021",
          "5/27/2021",
          "5/30/2021",
          "6/20/2021",
          "6/23/2021",
          "7/4/2021",
          "7/11/2021",
          "7/18/2021",
          "8/1/2021",
          "8/8/2021",
          "8/12/2021",
          "8/15/2021",
          "8/22/2021",
          "8/29/2021",
          "9/5/2021",
          "9/19/2021",
          "9/30/2021",
          "10/10/2021",
          "10/17/2021",
          "10/31/2021",
          "11/7/2021",
          "11/14/2021",
          "11/14/2021",
          "11/21/2021",
          "11/23/2021",
          "11/28/2021",
          "12/5/2021",
          "12/12/2021",
          "12/15/2021",
          "12/19/2021",
          "12/21/2021",
          "12/26/2021",
          "1/2/2022",
          "1/16/2022",
          "1/23/2022",
          "1/30/2022",
          "2/6/2022",
          "2/13/2022",
          "2/27/2022",
          "3/6/2022",
          "3/13/2022",
          "3/20/2022",
          "3/27/2022",
          "4/3/2022",
          "4/10/2022",
          "4/17/2022",
          "4/24/2022",
          "5/1/2022",
          "5/8/2022",
          "5/15/2022",
          "5/22/2022",
          "5/29/2022",
          "6/5/2022",
          "6/12/2022",
          "6/19/2022",
          "6/26/2022",
          "7/3/2022"
         ],
         "xaxis": "x",
         "y": [
          79.29,
          51.3,
          8.99,
          36.18,
          8.62,
          21.46,
          46.01,
          20.01,
          13.86,
          20.94,
          55.28,
          40.68,
          43.51,
          24.82,
          14,
          64.39,
          40.96,
          43.3,
          50.63,
          49.5,
          16.46,
          31.57,
          25.4,
          54.12,
          4.89,
          2.08,
          12.98,
          12.91,
          54.4,
          0,
          38.08,
          23.54,
          19.16,
          25.85,
          4.98,
          0,
          39.21,
          5.99,
          17.78,
          2.99,
          15.36,
          52.92,
          26.24,
          40.83,
          49.48,
          11.27,
          44.17,
          17.25,
          28.88,
          23.05,
          34.01,
          1.49,
          0,
          32.61,
          27.86,
          31.77,
          44.17,
          4.29,
          0,
          39.73,
          23.7,
          23.79,
          58.12,
          7.33,
          33.58,
          0,
          22.93,
          3.78,
          12.51,
          31.55,
          0,
          1.59,
          2.9,
          5,
          14.81,
          0,
          0,
          46.8,
          55.66,
          0.67,
          20.02,
          24,
          75.1,
          10.57,
          39.93,
          22.58,
          59.91,
          3.99,
          26.47,
          39.64,
          0,
          40.12,
          0,
          41.79,
          24.51,
          0,
          22.37,
          40.46,
          38.84,
          36.16,
          37.84,
          3.49,
          24.38,
          33.82,
          30.95,
          46.49,
          47.55,
          8.98,
          15.51,
          35.63,
          26.06,
          42.75,
          0,
          14.28,
          47.56,
          0,
          56.38,
          31.68,
          42.8,
          5.68,
          72.3,
          3.1,
          34.73,
          25.09,
          18.01,
          26.85,
          44.45,
          21.62,
          59.07,
          22.98,
          39.8,
          49.19,
          40.05,
          20.74,
          47.8,
          50.68,
          31.83,
          83.51,
          20.65,
          54.91,
          23.85,
          69.67,
          44.89,
          66.56,
          30.61,
          55.23,
          57.06,
          43.15
         ],
         "yaxis": "y"
        }
       ],
       "layout": {
        "legend": {
         "tracegroupgap": 0
        },
        "template": {
         "data": {
          "bar": [
           {
            "error_x": {
             "color": "#2a3f5f"
            },
            "error_y": {
             "color": "#2a3f5f"
            },
            "marker": {
             "line": {
              "color": "#E5ECF6",
              "width": 0.5
             },
             "pattern": {
              "fillmode": "overlay",
              "size": 10,
              "solidity": 0.2
             }
            },
            "type": "bar"
           }
          ],
          "barpolar": [
           {
            "marker": {
             "line": {
              "color": "#E5ECF6",
              "width": 0.5
             },
             "pattern": {
              "fillmode": "overlay",
              "size": 10,
              "solidity": 0.2
             }
            },
            "type": "barpolar"
           }
          ],
          "carpet": [
           {
            "aaxis": {
             "endlinecolor": "#2a3f5f",
             "gridcolor": "white",
             "linecolor": "white",
             "minorgridcolor": "white",
             "startlinecolor": "#2a3f5f"
            },
            "baxis": {
             "endlinecolor": "#2a3f5f",
             "gridcolor": "white",
             "linecolor": "white",
             "minorgridcolor": "white",
             "startlinecolor": "#2a3f5f"
            },
            "type": "carpet"
           }
          ],
          "choropleth": [
           {
            "colorbar": {
             "outlinewidth": 0,
             "ticks": ""
            },
            "type": "choropleth"
           }
          ],
          "contour": [
           {
            "colorbar": {
             "outlinewidth": 0,
             "ticks": ""
            },
            "colorscale": [
             [
              0,
              "#0d0887"
             ],
             [
              0.1111111111111111,
              "#46039f"
             ],
             [
              0.2222222222222222,
              "#7201a8"
             ],
             [
              0.3333333333333333,
              "#9c179e"
             ],
             [
              0.4444444444444444,
              "#bd3786"
             ],
             [
              0.5555555555555556,
              "#d8576b"
             ],
             [
              0.6666666666666666,
              "#ed7953"
             ],
             [
              0.7777777777777778,
              "#fb9f3a"
             ],
             [
              0.8888888888888888,
              "#fdca26"
             ],
             [
              1,
              "#f0f921"
             ]
            ],
            "type": "contour"
           }
          ],
          "contourcarpet": [
           {
            "colorbar": {
             "outlinewidth": 0,
             "ticks": ""
            },
            "type": "contourcarpet"
           }
          ],
          "heatmap": [
           {
            "colorbar": {
             "outlinewidth": 0,
             "ticks": ""
            },
            "colorscale": [
             [
              0,
              "#0d0887"
             ],
             [
              0.1111111111111111,
              "#46039f"
             ],
             [
              0.2222222222222222,
              "#7201a8"
             ],
             [
              0.3333333333333333,
              "#9c179e"
             ],
             [
              0.4444444444444444,
              "#bd3786"
             ],
             [
              0.5555555555555556,
              "#d8576b"
             ],
             [
              0.6666666666666666,
              "#ed7953"
             ],
             [
              0.7777777777777778,
              "#fb9f3a"
             ],
             [
              0.8888888888888888,
              "#fdca26"
             ],
             [
              1,
              "#f0f921"
             ]
            ],
            "type": "heatmap"
           }
          ],
          "heatmapgl": [
           {
            "colorbar": {
             "outlinewidth": 0,
             "ticks": ""
            },
            "colorscale": [
             [
              0,
              "#0d0887"
             ],
             [
              0.1111111111111111,
              "#46039f"
             ],
             [
              0.2222222222222222,
              "#7201a8"
             ],
             [
              0.3333333333333333,
              "#9c179e"
             ],
             [
              0.4444444444444444,
              "#bd3786"
             ],
             [
              0.5555555555555556,
              "#d8576b"
             ],
             [
              0.6666666666666666,
              "#ed7953"
             ],
             [
              0.7777777777777778,
              "#fb9f3a"
             ],
             [
              0.8888888888888888,
              "#fdca26"
             ],
             [
              1,
              "#f0f921"
             ]
            ],
            "type": "heatmapgl"
           }
          ],
          "histogram": [
           {
            "marker": {
             "pattern": {
              "fillmode": "overlay",
              "size": 10,
              "solidity": 0.2
             }
            },
            "type": "histogram"
           }
          ],
          "histogram2d": [
           {
            "colorbar": {
             "outlinewidth": 0,
             "ticks": ""
            },
            "colorscale": [
             [
              0,
              "#0d0887"
             ],
             [
              0.1111111111111111,
              "#46039f"
             ],
             [
              0.2222222222222222,
              "#7201a8"
             ],
             [
              0.3333333333333333,
              "#9c179e"
             ],
             [
              0.4444444444444444,
              "#bd3786"
             ],
             [
              0.5555555555555556,
              "#d8576b"
             ],
             [
              0.6666666666666666,
              "#ed7953"
             ],
             [
              0.7777777777777778,
              "#fb9f3a"
             ],
             [
              0.8888888888888888,
              "#fdca26"
             ],
             [
              1,
              "#f0f921"
             ]
            ],
            "type": "histogram2d"
           }
          ],
          "histogram2dcontour": [
           {
            "colorbar": {
             "outlinewidth": 0,
             "ticks": ""
            },
            "colorscale": [
             [
              0,
              "#0d0887"
             ],
             [
              0.1111111111111111,
              "#46039f"
             ],
             [
              0.2222222222222222,
              "#7201a8"
             ],
             [
              0.3333333333333333,
              "#9c179e"
             ],
             [
              0.4444444444444444,
              "#bd3786"
             ],
             [
              0.5555555555555556,
              "#d8576b"
             ],
             [
              0.6666666666666666,
              "#ed7953"
             ],
             [
              0.7777777777777778,
              "#fb9f3a"
             ],
             [
              0.8888888888888888,
              "#fdca26"
             ],
             [
              1,
              "#f0f921"
             ]
            ],
            "type": "histogram2dcontour"
           }
          ],
          "mesh3d": [
           {
            "colorbar": {
             "outlinewidth": 0,
             "ticks": ""
            },
            "type": "mesh3d"
           }
          ],
          "parcoords": [
           {
            "line": {
             "colorbar": {
              "outlinewidth": 0,
              "ticks": ""
             }
            },
            "type": "parcoords"
           }
          ],
          "pie": [
           {
            "automargin": true,
            "type": "pie"
           }
          ],
          "scatter": [
           {
            "marker": {
             "colorbar": {
              "outlinewidth": 0,
              "ticks": ""
             }
            },
            "type": "scatter"
           }
          ],
          "scatter3d": [
           {
            "line": {
             "colorbar": {
              "outlinewidth": 0,
              "ticks": ""
             }
            },
            "marker": {
             "colorbar": {
              "outlinewidth": 0,
              "ticks": ""
             }
            },
            "type": "scatter3d"
           }
          ],
          "scattercarpet": [
           {
            "marker": {
             "colorbar": {
              "outlinewidth": 0,
              "ticks": ""
             }
            },
            "type": "scattercarpet"
           }
          ],
          "scattergeo": [
           {
            "marker": {
             "colorbar": {
              "outlinewidth": 0,
              "ticks": ""
             }
            },
            "type": "scattergeo"
           }
          ],
          "scattergl": [
           {
            "marker": {
             "colorbar": {
              "outlinewidth": 0,
              "ticks": ""
             }
            },
            "type": "scattergl"
           }
          ],
          "scattermapbox": [
           {
            "marker": {
             "colorbar": {
              "outlinewidth": 0,
              "ticks": ""
             }
            },
            "type": "scattermapbox"
           }
          ],
          "scatterpolar": [
           {
            "marker": {
             "colorbar": {
              "outlinewidth": 0,
              "ticks": ""
             }
            },
            "type": "scatterpolar"
           }
          ],
          "scatterpolargl": [
           {
            "marker": {
             "colorbar": {
              "outlinewidth": 0,
              "ticks": ""
             }
            },
            "type": "scatterpolargl"
           }
          ],
          "scatterternary": [
           {
            "marker": {
             "colorbar": {
              "outlinewidth": 0,
              "ticks": ""
             }
            },
            "type": "scatterternary"
           }
          ],
          "surface": [
           {
            "colorbar": {
             "outlinewidth": 0,
             "ticks": ""
            },
            "colorscale": [
             [
              0,
              "#0d0887"
             ],
             [
              0.1111111111111111,
              "#46039f"
             ],
             [
              0.2222222222222222,
              "#7201a8"
             ],
             [
              0.3333333333333333,
              "#9c179e"
             ],
             [
              0.4444444444444444,
              "#bd3786"
             ],
             [
              0.5555555555555556,
              "#d8576b"
             ],
             [
              0.6666666666666666,
              "#ed7953"
             ],
             [
              0.7777777777777778,
              "#fb9f3a"
             ],
             [
              0.8888888888888888,
              "#fdca26"
             ],
             [
              1,
              "#f0f921"
             ]
            ],
            "type": "surface"
           }
          ],
          "table": [
           {
            "cells": {
             "fill": {
              "color": "#EBF0F8"
             },
             "line": {
              "color": "white"
             }
            },
            "header": {
             "fill": {
              "color": "#C8D4E3"
             },
             "line": {
              "color": "white"
             }
            },
            "type": "table"
           }
          ]
         },
         "layout": {
          "annotationdefaults": {
           "arrowcolor": "#2a3f5f",
           "arrowhead": 0,
           "arrowwidth": 1
          },
          "autotypenumbers": "strict",
          "coloraxis": {
           "colorbar": {
            "outlinewidth": 0,
            "ticks": ""
           }
          },
          "colorscale": {
           "diverging": [
            [
             0,
             "#8e0152"
            ],
            [
             0.1,
             "#c51b7d"
            ],
            [
             0.2,
             "#de77ae"
            ],
            [
             0.3,
             "#f1b6da"
            ],
            [
             0.4,
             "#fde0ef"
            ],
            [
             0.5,
             "#f7f7f7"
            ],
            [
             0.6,
             "#e6f5d0"
            ],
            [
             0.7,
             "#b8e186"
            ],
            [
             0.8,
             "#7fbc41"
            ],
            [
             0.9,
             "#4d9221"
            ],
            [
             1,
             "#276419"
            ]
           ],
           "sequential": [
            [
             0,
             "#0d0887"
            ],
            [
             0.1111111111111111,
             "#46039f"
            ],
            [
             0.2222222222222222,
             "#7201a8"
            ],
            [
             0.3333333333333333,
             "#9c179e"
            ],
            [
             0.4444444444444444,
             "#bd3786"
            ],
            [
             0.5555555555555556,
             "#d8576b"
            ],
            [
             0.6666666666666666,
             "#ed7953"
            ],
            [
             0.7777777777777778,
             "#fb9f3a"
            ],
            [
             0.8888888888888888,
             "#fdca26"
            ],
            [
             1,
             "#f0f921"
            ]
           ],
           "sequentialminus": [
            [
             0,
             "#0d0887"
            ],
            [
             0.1111111111111111,
             "#46039f"
            ],
            [
             0.2222222222222222,
             "#7201a8"
            ],
            [
             0.3333333333333333,
             "#9c179e"
            ],
            [
             0.4444444444444444,
             "#bd3786"
            ],
            [
             0.5555555555555556,
             "#d8576b"
            ],
            [
             0.6666666666666666,
             "#ed7953"
            ],
            [
             0.7777777777777778,
             "#fb9f3a"
            ],
            [
             0.8888888888888888,
             "#fdca26"
            ],
            [
             1,
             "#f0f921"
            ]
           ]
          },
          "colorway": [
           "#636efa",
           "#EF553B",
           "#00cc96",
           "#ab63fa",
           "#FFA15A",
           "#19d3f3",
           "#FF6692",
           "#B6E880",
           "#FF97FF",
           "#FECB52"
          ],
          "font": {
           "color": "#2a3f5f"
          },
          "geo": {
           "bgcolor": "white",
           "lakecolor": "white",
           "landcolor": "#E5ECF6",
           "showlakes": true,
           "showland": true,
           "subunitcolor": "white"
          },
          "hoverlabel": {
           "align": "left"
          },
          "hovermode": "closest",
          "mapbox": {
           "style": "light"
          },
          "paper_bgcolor": "white",
          "plot_bgcolor": "#E5ECF6",
          "polar": {
           "angularaxis": {
            "gridcolor": "white",
            "linecolor": "white",
            "ticks": ""
           },
           "bgcolor": "#E5ECF6",
           "radialaxis": {
            "gridcolor": "white",
            "linecolor": "white",
            "ticks": ""
           }
          },
          "scene": {
           "xaxis": {
            "backgroundcolor": "#E5ECF6",
            "gridcolor": "white",
            "gridwidth": 2,
            "linecolor": "white",
            "showbackground": true,
            "ticks": "",
            "zerolinecolor": "white"
           },
           "yaxis": {
            "backgroundcolor": "#E5ECF6",
            "gridcolor": "white",
            "gridwidth": 2,
            "linecolor": "white",
            "showbackground": true,
            "ticks": "",
            "zerolinecolor": "white"
           },
           "zaxis": {
            "backgroundcolor": "#E5ECF6",
            "gridcolor": "white",
            "gridwidth": 2,
            "linecolor": "white",
            "showbackground": true,
            "ticks": "",
            "zerolinecolor": "white"
           }
          },
          "shapedefaults": {
           "line": {
            "color": "#2a3f5f"
           }
          },
          "ternary": {
           "aaxis": {
            "gridcolor": "white",
            "linecolor": "white",
            "ticks": ""
           },
           "baxis": {
            "gridcolor": "white",
            "linecolor": "white",
            "ticks": ""
           },
           "bgcolor": "#E5ECF6",
           "caxis": {
            "gridcolor": "white",
            "linecolor": "white",
            "ticks": ""
           }
          },
          "title": {
           "x": 0.05
          },
          "xaxis": {
           "automargin": true,
           "gridcolor": "white",
           "linecolor": "white",
           "ticks": "",
           "title": {
            "standoff": 15
           },
           "zerolinecolor": "white",
           "zerolinewidth": 2
          },
          "yaxis": {
           "automargin": true,
           "gridcolor": "white",
           "linecolor": "white",
           "ticks": "",
           "title": {
            "standoff": 15
           },
           "zerolinecolor": "white",
           "zerolinewidth": 2
          }
         }
        },
        "title": {
         "text": "Cost of Grocery Over Time"
        },
        "xaxis": {
         "anchor": "y",
         "domain": [
          0,
          1
         ],
         "title": {
          "text": "Date"
         }
        },
        "yaxis": {
         "anchor": "x",
         "domain": [
          0,
          1
         ],
         "title": {
          "text": "Grocery cost"
         }
        }
       }
      },
      "text/html": [
       "<div>                            <div id=\"e7108317-57a6-408a-97eb-821a69fd6be0\" class=\"plotly-graph-div\" style=\"height:525px; width:100%;\"></div>            <script type=\"text/javascript\">                require([\"plotly\"], function(Plotly) {                    window.PLOTLYENV=window.PLOTLYENV || {};                                    if (document.getElementById(\"e7108317-57a6-408a-97eb-821a69fd6be0\")) {                    Plotly.newPlot(                        \"e7108317-57a6-408a-97eb-821a69fd6be0\",                        [{\"hovertemplate\":\"Date=%{x}<br>Grocery cost=%{y}<extra></extra>\",\"legendgroup\":\"\",\"line\":{\"color\":\"#636efa\",\"dash\":\"solid\"},\"marker\":{\"symbol\":\"circle\"},\"mode\":\"lines\",\"name\":\"\",\"orientation\":\"v\",\"showlegend\":false,\"x\":[\"5/7/1995\",\"5/16/1995\",\"9/15/2019\",\"12/22/2019\",\"1/7/2020\",\"1/12/2020\",\"1/19/2020\",\"1/26/2020\",\"2/2/2020\",\"2/9/2020\",\"3/14/2020\",\"3/22/2020\",\"4/19/2020\",\"4/22/2020\",\"4/29/2020\",\"5/3/2020\",\"5/4/2020\",\"5/10/2020\",\"5/17/2020\",\"5/31/2020\",\"6/2/2020\",\"6/7/2020\",\"6/21/2020\",\"6/28/2020\",\"7/3/2020\",\"7/4/2020\",\"7/4/2020\",\"7/12/2020\",\"7/19/2020\",\"7/25/2020\",\"7/25/2020\",\"7/26/2020\",\"7/29/2020\",\"8/2/2020\",\"8/2/2020\",\"8/4/2020\",\"8/9/2020\",\"8/14/2020\",\"8/16/2020\",\"8/21/2020\",\"8/23/2020\",\"8/23/2020\",\"8/30/2020\",\"9/6/2020\",\"9/7/2020\",\"9/13/2020\",\"9/20/2020\",\"10/4/2020\",\"10/11/2020\",\"10/14/2020\",\"10/18/2020\",\"10/21/2020\",\"10/21/2020\",\"10/25/2020\",\"10/31/2020\",\"11/8/2020\",\"11/15/2020\",\"11/20/2020\",\"11/21/2020\",\"11/22/2020\",\"11/29/2020\",\"12/6/2020\",\"12/13/2020\",\"12/18/2020\",\"12/20/2020\",\"12/21/2020\",\"12/27/2020\",\"1/2/2021\",\"1/3/2021\",\"1/10/2021\",\"1/24/2021\",\"1/26/2021\",\"1/29/2021\",\"1/31/2021\",\"1/31/2021\",\"1/31/2021\",\"2/2/2021\",\"2/7/2021\",\"2/14/2021\",\"2/16/2021\",\"2/21/2021\",\"2/28/2021\",\"3/7/2021\",\"3/14/2021\",\"3/21/2021\",\"3/28/2021\",\"4/18/2021\",\"4/26/2021\",\"5/2/2021\",\"5/9/2021\",\"5/16/2021\",\"5/23/2021\",\"5/27/2021\",\"5/30/2021\",\"6/20/2021\",\"6/23/2021\",\"7/4/2021\",\"7/11/2021\",\"7/18/2021\",\"8/1/2021\",\"8/8/2021\",\"8/12/2021\",\"8/15/2021\",\"8/22/2021\",\"8/29/2021\",\"9/5/2021\",\"9/19/2021\",\"9/30/2021\",\"10/10/2021\",\"10/17/2021\",\"10/31/2021\",\"11/7/2021\",\"11/14/2021\",\"11/14/2021\",\"11/21/2021\",\"11/23/2021\",\"11/28/2021\",\"12/5/2021\",\"12/12/2021\",\"12/15/2021\",\"12/19/2021\",\"12/21/2021\",\"12/26/2021\",\"1/2/2022\",\"1/16/2022\",\"1/23/2022\",\"1/30/2022\",\"2/6/2022\",\"2/13/2022\",\"2/27/2022\",\"3/6/2022\",\"3/13/2022\",\"3/20/2022\",\"3/27/2022\",\"4/3/2022\",\"4/10/2022\",\"4/17/2022\",\"4/24/2022\",\"5/1/2022\",\"5/8/2022\",\"5/15/2022\",\"5/22/2022\",\"5/29/2022\",\"6/5/2022\",\"6/12/2022\",\"6/19/2022\",\"6/26/2022\",\"7/3/2022\"],\"xaxis\":\"x\",\"y\":[79.29,51.3,8.99,36.18,8.62,21.46,46.01,20.01,13.86,20.94,55.28,40.68,43.51,24.82,14.0,64.39,40.96,43.3,50.63,49.5,16.46,31.57,25.4,54.12,4.89,2.08,12.98,12.91,54.4,0.0,38.08,23.54,19.16,25.85,4.98,0.0,39.21,5.99,17.78,2.99,15.36,52.92,26.24,40.83,49.48,11.27,44.17,17.25,28.88,23.05,34.01,1.49,0.0,32.61,27.86,31.77,44.17,4.29,0.0,39.73,23.7,23.79,58.12,7.33,33.58,0.0,22.93,3.78,12.51,31.55,0.0,1.59,2.9,5.0,14.81,0.0,0.0,46.8,55.66,0.67,20.02,24.0,75.1,10.57,39.93,22.58,59.91,3.99,26.47,39.64,0.0,40.12,0.0,41.79,24.51,0.0,22.37,40.46,38.84,36.16,37.84,3.49,24.38,33.82,30.95,46.49,47.55,8.98,15.51,35.63,26.06,42.75,0.0,14.28,47.56,0.0,56.38,31.68,42.8,5.68,72.3,3.1,34.73,25.09,18.01,26.85,44.45,21.62,59.07,22.98,39.8,49.19,40.05,20.74,47.8,50.68,31.83,83.51,20.65,54.91,23.85,69.67,44.89,66.56,30.61,55.23,57.06,43.15],\"yaxis\":\"y\",\"type\":\"scatter\"}],                        {\"template\":{\"data\":{\"bar\":[{\"error_x\":{\"color\":\"#2a3f5f\"},\"error_y\":{\"color\":\"#2a3f5f\"},\"marker\":{\"line\":{\"color\":\"#E5ECF6\",\"width\":0.5},\"pattern\":{\"fillmode\":\"overlay\",\"size\":10,\"solidity\":0.2}},\"type\":\"bar\"}],\"barpolar\":[{\"marker\":{\"line\":{\"color\":\"#E5ECF6\",\"width\":0.5},\"pattern\":{\"fillmode\":\"overlay\",\"size\":10,\"solidity\":0.2}},\"type\":\"barpolar\"}],\"carpet\":[{\"aaxis\":{\"endlinecolor\":\"#2a3f5f\",\"gridcolor\":\"white\",\"linecolor\":\"white\",\"minorgridcolor\":\"white\",\"startlinecolor\":\"#2a3f5f\"},\"baxis\":{\"endlinecolor\":\"#2a3f5f\",\"gridcolor\":\"white\",\"linecolor\":\"white\",\"minorgridcolor\":\"white\",\"startlinecolor\":\"#2a3f5f\"},\"type\":\"carpet\"}],\"choropleth\":[{\"colorbar\":{\"outlinewidth\":0,\"ticks\":\"\"},\"type\":\"choropleth\"}],\"contour\":[{\"colorbar\":{\"outlinewidth\":0,\"ticks\":\"\"},\"colorscale\":[[0.0,\"#0d0887\"],[0.1111111111111111,\"#46039f\"],[0.2222222222222222,\"#7201a8\"],[0.3333333333333333,\"#9c179e\"],[0.4444444444444444,\"#bd3786\"],[0.5555555555555556,\"#d8576b\"],[0.6666666666666666,\"#ed7953\"],[0.7777777777777778,\"#fb9f3a\"],[0.8888888888888888,\"#fdca26\"],[1.0,\"#f0f921\"]],\"type\":\"contour\"}],\"contourcarpet\":[{\"colorbar\":{\"outlinewidth\":0,\"ticks\":\"\"},\"type\":\"contourcarpet\"}],\"heatmap\":[{\"colorbar\":{\"outlinewidth\":0,\"ticks\":\"\"},\"colorscale\":[[0.0,\"#0d0887\"],[0.1111111111111111,\"#46039f\"],[0.2222222222222222,\"#7201a8\"],[0.3333333333333333,\"#9c179e\"],[0.4444444444444444,\"#bd3786\"],[0.5555555555555556,\"#d8576b\"],[0.6666666666666666,\"#ed7953\"],[0.7777777777777778,\"#fb9f3a\"],[0.8888888888888888,\"#fdca26\"],[1.0,\"#f0f921\"]],\"type\":\"heatmap\"}],\"heatmapgl\":[{\"colorbar\":{\"outlinewidth\":0,\"ticks\":\"\"},\"colorscale\":[[0.0,\"#0d0887\"],[0.1111111111111111,\"#46039f\"],[0.2222222222222222,\"#7201a8\"],[0.3333333333333333,\"#9c179e\"],[0.4444444444444444,\"#bd3786\"],[0.5555555555555556,\"#d8576b\"],[0.6666666666666666,\"#ed7953\"],[0.7777777777777778,\"#fb9f3a\"],[0.8888888888888888,\"#fdca26\"],[1.0,\"#f0f921\"]],\"type\":\"heatmapgl\"}],\"histogram\":[{\"marker\":{\"pattern\":{\"fillmode\":\"overlay\",\"size\":10,\"solidity\":0.2}},\"type\":\"histogram\"}],\"histogram2d\":[{\"colorbar\":{\"outlinewidth\":0,\"ticks\":\"\"},\"colorscale\":[[0.0,\"#0d0887\"],[0.1111111111111111,\"#46039f\"],[0.2222222222222222,\"#7201a8\"],[0.3333333333333333,\"#9c179e\"],[0.4444444444444444,\"#bd3786\"],[0.5555555555555556,\"#d8576b\"],[0.6666666666666666,\"#ed7953\"],[0.7777777777777778,\"#fb9f3a\"],[0.8888888888888888,\"#fdca26\"],[1.0,\"#f0f921\"]],\"type\":\"histogram2d\"}],\"histogram2dcontour\":[{\"colorbar\":{\"outlinewidth\":0,\"ticks\":\"\"},\"colorscale\":[[0.0,\"#0d0887\"],[0.1111111111111111,\"#46039f\"],[0.2222222222222222,\"#7201a8\"],[0.3333333333333333,\"#9c179e\"],[0.4444444444444444,\"#bd3786\"],[0.5555555555555556,\"#d8576b\"],[0.6666666666666666,\"#ed7953\"],[0.7777777777777778,\"#fb9f3a\"],[0.8888888888888888,\"#fdca26\"],[1.0,\"#f0f921\"]],\"type\":\"histogram2dcontour\"}],\"mesh3d\":[{\"colorbar\":{\"outlinewidth\":0,\"ticks\":\"\"},\"type\":\"mesh3d\"}],\"parcoords\":[{\"line\":{\"colorbar\":{\"outlinewidth\":0,\"ticks\":\"\"}},\"type\":\"parcoords\"}],\"pie\":[{\"automargin\":true,\"type\":\"pie\"}],\"scatter\":[{\"marker\":{\"colorbar\":{\"outlinewidth\":0,\"ticks\":\"\"}},\"type\":\"scatter\"}],\"scatter3d\":[{\"line\":{\"colorbar\":{\"outlinewidth\":0,\"ticks\":\"\"}},\"marker\":{\"colorbar\":{\"outlinewidth\":0,\"ticks\":\"\"}},\"type\":\"scatter3d\"}],\"scattercarpet\":[{\"marker\":{\"colorbar\":{\"outlinewidth\":0,\"ticks\":\"\"}},\"type\":\"scattercarpet\"}],\"scattergeo\":[{\"marker\":{\"colorbar\":{\"outlinewidth\":0,\"ticks\":\"\"}},\"type\":\"scattergeo\"}],\"scattergl\":[{\"marker\":{\"colorbar\":{\"outlinewidth\":0,\"ticks\":\"\"}},\"type\":\"scattergl\"}],\"scattermapbox\":[{\"marker\":{\"colorbar\":{\"outlinewidth\":0,\"ticks\":\"\"}},\"type\":\"scattermapbox\"}],\"scatterpolar\":[{\"marker\":{\"colorbar\":{\"outlinewidth\":0,\"ticks\":\"\"}},\"type\":\"scatterpolar\"}],\"scatterpolargl\":[{\"marker\":{\"colorbar\":{\"outlinewidth\":0,\"ticks\":\"\"}},\"type\":\"scatterpolargl\"}],\"scatterternary\":[{\"marker\":{\"colorbar\":{\"outlinewidth\":0,\"ticks\":\"\"}},\"type\":\"scatterternary\"}],\"surface\":[{\"colorbar\":{\"outlinewidth\":0,\"ticks\":\"\"},\"colorscale\":[[0.0,\"#0d0887\"],[0.1111111111111111,\"#46039f\"],[0.2222222222222222,\"#7201a8\"],[0.3333333333333333,\"#9c179e\"],[0.4444444444444444,\"#bd3786\"],[0.5555555555555556,\"#d8576b\"],[0.6666666666666666,\"#ed7953\"],[0.7777777777777778,\"#fb9f3a\"],[0.8888888888888888,\"#fdca26\"],[1.0,\"#f0f921\"]],\"type\":\"surface\"}],\"table\":[{\"cells\":{\"fill\":{\"color\":\"#EBF0F8\"},\"line\":{\"color\":\"white\"}},\"header\":{\"fill\":{\"color\":\"#C8D4E3\"},\"line\":{\"color\":\"white\"}},\"type\":\"table\"}]},\"layout\":{\"annotationdefaults\":{\"arrowcolor\":\"#2a3f5f\",\"arrowhead\":0,\"arrowwidth\":1},\"autotypenumbers\":\"strict\",\"coloraxis\":{\"colorbar\":{\"outlinewidth\":0,\"ticks\":\"\"}},\"colorscale\":{\"diverging\":[[0,\"#8e0152\"],[0.1,\"#c51b7d\"],[0.2,\"#de77ae\"],[0.3,\"#f1b6da\"],[0.4,\"#fde0ef\"],[0.5,\"#f7f7f7\"],[0.6,\"#e6f5d0\"],[0.7,\"#b8e186\"],[0.8,\"#7fbc41\"],[0.9,\"#4d9221\"],[1,\"#276419\"]],\"sequential\":[[0.0,\"#0d0887\"],[0.1111111111111111,\"#46039f\"],[0.2222222222222222,\"#7201a8\"],[0.3333333333333333,\"#9c179e\"],[0.4444444444444444,\"#bd3786\"],[0.5555555555555556,\"#d8576b\"],[0.6666666666666666,\"#ed7953\"],[0.7777777777777778,\"#fb9f3a\"],[0.8888888888888888,\"#fdca26\"],[1.0,\"#f0f921\"]],\"sequentialminus\":[[0.0,\"#0d0887\"],[0.1111111111111111,\"#46039f\"],[0.2222222222222222,\"#7201a8\"],[0.3333333333333333,\"#9c179e\"],[0.4444444444444444,\"#bd3786\"],[0.5555555555555556,\"#d8576b\"],[0.6666666666666666,\"#ed7953\"],[0.7777777777777778,\"#fb9f3a\"],[0.8888888888888888,\"#fdca26\"],[1.0,\"#f0f921\"]]},\"colorway\":[\"#636efa\",\"#EF553B\",\"#00cc96\",\"#ab63fa\",\"#FFA15A\",\"#19d3f3\",\"#FF6692\",\"#B6E880\",\"#FF97FF\",\"#FECB52\"],\"font\":{\"color\":\"#2a3f5f\"},\"geo\":{\"bgcolor\":\"white\",\"lakecolor\":\"white\",\"landcolor\":\"#E5ECF6\",\"showlakes\":true,\"showland\":true,\"subunitcolor\":\"white\"},\"hoverlabel\":{\"align\":\"left\"},\"hovermode\":\"closest\",\"mapbox\":{\"style\":\"light\"},\"paper_bgcolor\":\"white\",\"plot_bgcolor\":\"#E5ECF6\",\"polar\":{\"angularaxis\":{\"gridcolor\":\"white\",\"linecolor\":\"white\",\"ticks\":\"\"},\"bgcolor\":\"#E5ECF6\",\"radialaxis\":{\"gridcolor\":\"white\",\"linecolor\":\"white\",\"ticks\":\"\"}},\"scene\":{\"xaxis\":{\"backgroundcolor\":\"#E5ECF6\",\"gridcolor\":\"white\",\"gridwidth\":2,\"linecolor\":\"white\",\"showbackground\":true,\"ticks\":\"\",\"zerolinecolor\":\"white\"},\"yaxis\":{\"backgroundcolor\":\"#E5ECF6\",\"gridcolor\":\"white\",\"gridwidth\":2,\"linecolor\":\"white\",\"showbackground\":true,\"ticks\":\"\",\"zerolinecolor\":\"white\"},\"zaxis\":{\"backgroundcolor\":\"#E5ECF6\",\"gridcolor\":\"white\",\"gridwidth\":2,\"linecolor\":\"white\",\"showbackground\":true,\"ticks\":\"\",\"zerolinecolor\":\"white\"}},\"shapedefaults\":{\"line\":{\"color\":\"#2a3f5f\"}},\"ternary\":{\"aaxis\":{\"gridcolor\":\"white\",\"linecolor\":\"white\",\"ticks\":\"\"},\"baxis\":{\"gridcolor\":\"white\",\"linecolor\":\"white\",\"ticks\":\"\"},\"bgcolor\":\"#E5ECF6\",\"caxis\":{\"gridcolor\":\"white\",\"linecolor\":\"white\",\"ticks\":\"\"}},\"title\":{\"x\":0.05},\"xaxis\":{\"automargin\":true,\"gridcolor\":\"white\",\"linecolor\":\"white\",\"ticks\":\"\",\"title\":{\"standoff\":15},\"zerolinecolor\":\"white\",\"zerolinewidth\":2},\"yaxis\":{\"automargin\":true,\"gridcolor\":\"white\",\"linecolor\":\"white\",\"ticks\":\"\",\"title\":{\"standoff\":15},\"zerolinecolor\":\"white\",\"zerolinewidth\":2}}},\"xaxis\":{\"anchor\":\"y\",\"domain\":[0.0,1.0],\"title\":{\"text\":\"Date\"}},\"yaxis\":{\"anchor\":\"x\",\"domain\":[0.0,1.0],\"title\":{\"text\":\"Grocery cost\"}},\"legend\":{\"tracegroupgap\":0},\"title\":{\"text\":\"Cost of Grocery Over Time\"}},                        {\"responsive\": true}                    ).then(function(){\n",
       "                            \n",
       "var gd = document.getElementById('e7108317-57a6-408a-97eb-821a69fd6be0');\n",
       "var x = new MutationObserver(function (mutations, observer) {{\n",
       "        var display = window.getComputedStyle(gd).display;\n",
       "        if (!display || display === 'none') {{\n",
       "            console.log([gd, 'removed!']);\n",
       "            Plotly.purge(gd);\n",
       "            observer.disconnect();\n",
       "        }}\n",
       "}});\n",
       "\n",
       "// Listen for the removal of the full notebook cells\n",
       "var notebookContainer = gd.closest('#notebook-container');\n",
       "if (notebookContainer) {{\n",
       "    x.observe(notebookContainer, {childList: true});\n",
       "}}\n",
       "\n",
       "// Listen for the clearing of the current output cell\n",
       "var outputEl = gd.closest('.output');\n",
       "if (outputEl) {{\n",
       "    x.observe(outputEl, {childList: true});\n",
       "}}\n",
       "\n",
       "                        })                };                });            </script>        </div>"
      ]
     },
     "metadata": {},
     "output_type": "display_data"
    }
   ],
   "source": [
    "fig = px.line(groceries2_clean, x = 'Date', y = 'Grocery cost', title='Cost of Grocery Over Time')\n",
    "fig.show()"
   ]
  },
  {
   "cell_type": "code",
   "execution_count": 30,
   "id": "ba404226",
   "metadata": {},
   "outputs": [
    {
     "data": {
      "application/vnd.plotly.v1+json": {
       "config": {
        "plotlyServerURL": "https://plot.ly"
       },
       "data": [
        {
         "hovertemplate": "Date=%{x}<br>Item Total=%{y}<extra></extra>",
         "legendgroup": "",
         "line": {
          "color": "#636efa",
          "dash": "solid"
         },
         "marker": {
          "symbol": "circle"
         },
         "mode": "lines",
         "name": "",
         "orientation": "v",
         "showlegend": false,
         "type": "scatter",
         "x": [
          "5/7/1995",
          "5/16/1995",
          "9/15/2019",
          "12/22/2019",
          "1/7/2020",
          "1/12/2020",
          "1/19/2020",
          "1/26/2020",
          "2/2/2020",
          "2/9/2020",
          "3/14/2020",
          "3/22/2020",
          "4/19/2020",
          "4/22/2020",
          "4/29/2020",
          "5/3/2020",
          "5/4/2020",
          "5/10/2020",
          "5/17/2020",
          "5/31/2020",
          "6/2/2020",
          "6/7/2020",
          "6/21/2020",
          "6/28/2020",
          "7/3/2020",
          "7/4/2020",
          "7/4/2020",
          "7/12/2020",
          "7/19/2020",
          "7/25/2020",
          "7/25/2020",
          "7/26/2020",
          "7/29/2020",
          "8/2/2020",
          "8/2/2020",
          "8/4/2020",
          "8/9/2020",
          "8/14/2020",
          "8/16/2020",
          "8/21/2020",
          "8/23/2020",
          "8/23/2020",
          "8/30/2020",
          "9/6/2020",
          "9/7/2020",
          "9/13/2020",
          "9/20/2020",
          "10/4/2020",
          "10/11/2020",
          "10/14/2020",
          "10/18/2020",
          "10/21/2020",
          "10/21/2020",
          "10/25/2020",
          "10/31/2020",
          "11/8/2020",
          "11/15/2020",
          "11/20/2020",
          "11/21/2020",
          "11/22/2020",
          "11/29/2020",
          "12/6/2020",
          "12/13/2020",
          "12/18/2020",
          "12/20/2020",
          "12/21/2020",
          "12/27/2020",
          "1/2/2021",
          "1/3/2021",
          "1/10/2021",
          "1/24/2021",
          "1/26/2021",
          "1/29/2021",
          "1/31/2021",
          "1/31/2021",
          "1/31/2021",
          "2/2/2021",
          "2/7/2021",
          "2/14/2021",
          "2/16/2021",
          "2/21/2021",
          "2/28/2021",
          "3/7/2021",
          "3/14/2021",
          "3/21/2021",
          "3/28/2021",
          "4/18/2021",
          "4/26/2021",
          "5/2/2021",
          "5/9/2021",
          "5/16/2021",
          "5/23/2021",
          "5/27/2021",
          "5/30/2021",
          "6/20/2021",
          "6/23/2021",
          "7/4/2021",
          "7/11/2021",
          "7/18/2021",
          "8/1/2021",
          "8/8/2021",
          "8/12/2021",
          "8/15/2021",
          "8/22/2021",
          "8/29/2021",
          "9/5/2021",
          "9/19/2021",
          "9/30/2021",
          "10/10/2021",
          "10/17/2021",
          "10/31/2021",
          "11/7/2021",
          "11/14/2021",
          "11/14/2021",
          "11/21/2021",
          "11/23/2021",
          "11/28/2021",
          "12/5/2021",
          "12/12/2021",
          "12/15/2021",
          "12/19/2021",
          "12/21/2021",
          "12/26/2021",
          "1/2/2022",
          "1/16/2022",
          "1/23/2022",
          "1/30/2022",
          "2/6/2022",
          "2/13/2022",
          "2/27/2022",
          "3/6/2022",
          "3/13/2022",
          "3/20/2022",
          "3/27/2022",
          "4/3/2022",
          "4/10/2022",
          "4/17/2022",
          "4/24/2022",
          "5/1/2022",
          "5/8/2022",
          "5/15/2022",
          "5/22/2022",
          "5/29/2022",
          "6/5/2022",
          "6/12/2022",
          "6/19/2022",
          "6/26/2022",
          "7/3/2022"
         ],
         "xaxis": "x",
         "y": [
          23,
          22,
          19,
          31,
          5,
          26,
          44,
          27,
          19,
          25,
          36,
          35,
          30,
          12,
          8,
          46,
          40,
          28,
          32,
          39,
          18,
          32,
          27,
          40,
          8,
          6,
          13,
          36,
          39,
          4,
          12,
          45,
          7,
          38,
          2,
          5,
          42,
          3,
          38,
          8,
          4,
          34,
          40,
          38,
          41,
          29,
          44,
          37,
          40,
          7,
          37,
          3,
          2,
          36,
          30,
          33,
          41,
          2,
          1,
          35,
          38,
          33,
          42,
          7,
          47,
          1,
          28,
          2,
          26,
          36,
          41,
          9,
          3,
          3,
          23,
          1,
          4,
          30,
          37,
          5,
          33,
          43,
          46,
          23,
          33,
          32,
          43,
          2,
          30,
          32,
          1,
          36,
          4,
          32,
          26,
          2,
          36,
          33,
          37,
          32,
          34,
          10,
          35,
          38,
          35,
          37,
          37,
          11,
          37,
          47,
          34,
          37,
          1,
          29,
          35,
          3,
          41,
          35,
          43,
          5,
          49,
          5,
          54,
          31,
          30,
          32,
          40,
          39,
          36,
          37,
          39,
          35,
          35,
          38,
          28,
          30,
          42,
          45,
          40,
          36,
          32,
          46,
          32,
          30,
          31,
          41,
          45,
          44
         ],
         "yaxis": "y"
        }
       ],
       "layout": {
        "legend": {
         "tracegroupgap": 0
        },
        "template": {
         "data": {
          "bar": [
           {
            "error_x": {
             "color": "#2a3f5f"
            },
            "error_y": {
             "color": "#2a3f5f"
            },
            "marker": {
             "line": {
              "color": "#E5ECF6",
              "width": 0.5
             },
             "pattern": {
              "fillmode": "overlay",
              "size": 10,
              "solidity": 0.2
             }
            },
            "type": "bar"
           }
          ],
          "barpolar": [
           {
            "marker": {
             "line": {
              "color": "#E5ECF6",
              "width": 0.5
             },
             "pattern": {
              "fillmode": "overlay",
              "size": 10,
              "solidity": 0.2
             }
            },
            "type": "barpolar"
           }
          ],
          "carpet": [
           {
            "aaxis": {
             "endlinecolor": "#2a3f5f",
             "gridcolor": "white",
             "linecolor": "white",
             "minorgridcolor": "white",
             "startlinecolor": "#2a3f5f"
            },
            "baxis": {
             "endlinecolor": "#2a3f5f",
             "gridcolor": "white",
             "linecolor": "white",
             "minorgridcolor": "white",
             "startlinecolor": "#2a3f5f"
            },
            "type": "carpet"
           }
          ],
          "choropleth": [
           {
            "colorbar": {
             "outlinewidth": 0,
             "ticks": ""
            },
            "type": "choropleth"
           }
          ],
          "contour": [
           {
            "colorbar": {
             "outlinewidth": 0,
             "ticks": ""
            },
            "colorscale": [
             [
              0,
              "#0d0887"
             ],
             [
              0.1111111111111111,
              "#46039f"
             ],
             [
              0.2222222222222222,
              "#7201a8"
             ],
             [
              0.3333333333333333,
              "#9c179e"
             ],
             [
              0.4444444444444444,
              "#bd3786"
             ],
             [
              0.5555555555555556,
              "#d8576b"
             ],
             [
              0.6666666666666666,
              "#ed7953"
             ],
             [
              0.7777777777777778,
              "#fb9f3a"
             ],
             [
              0.8888888888888888,
              "#fdca26"
             ],
             [
              1,
              "#f0f921"
             ]
            ],
            "type": "contour"
           }
          ],
          "contourcarpet": [
           {
            "colorbar": {
             "outlinewidth": 0,
             "ticks": ""
            },
            "type": "contourcarpet"
           }
          ],
          "heatmap": [
           {
            "colorbar": {
             "outlinewidth": 0,
             "ticks": ""
            },
            "colorscale": [
             [
              0,
              "#0d0887"
             ],
             [
              0.1111111111111111,
              "#46039f"
             ],
             [
              0.2222222222222222,
              "#7201a8"
             ],
             [
              0.3333333333333333,
              "#9c179e"
             ],
             [
              0.4444444444444444,
              "#bd3786"
             ],
             [
              0.5555555555555556,
              "#d8576b"
             ],
             [
              0.6666666666666666,
              "#ed7953"
             ],
             [
              0.7777777777777778,
              "#fb9f3a"
             ],
             [
              0.8888888888888888,
              "#fdca26"
             ],
             [
              1,
              "#f0f921"
             ]
            ],
            "type": "heatmap"
           }
          ],
          "heatmapgl": [
           {
            "colorbar": {
             "outlinewidth": 0,
             "ticks": ""
            },
            "colorscale": [
             [
              0,
              "#0d0887"
             ],
             [
              0.1111111111111111,
              "#46039f"
             ],
             [
              0.2222222222222222,
              "#7201a8"
             ],
             [
              0.3333333333333333,
              "#9c179e"
             ],
             [
              0.4444444444444444,
              "#bd3786"
             ],
             [
              0.5555555555555556,
              "#d8576b"
             ],
             [
              0.6666666666666666,
              "#ed7953"
             ],
             [
              0.7777777777777778,
              "#fb9f3a"
             ],
             [
              0.8888888888888888,
              "#fdca26"
             ],
             [
              1,
              "#f0f921"
             ]
            ],
            "type": "heatmapgl"
           }
          ],
          "histogram": [
           {
            "marker": {
             "pattern": {
              "fillmode": "overlay",
              "size": 10,
              "solidity": 0.2
             }
            },
            "type": "histogram"
           }
          ],
          "histogram2d": [
           {
            "colorbar": {
             "outlinewidth": 0,
             "ticks": ""
            },
            "colorscale": [
             [
              0,
              "#0d0887"
             ],
             [
              0.1111111111111111,
              "#46039f"
             ],
             [
              0.2222222222222222,
              "#7201a8"
             ],
             [
              0.3333333333333333,
              "#9c179e"
             ],
             [
              0.4444444444444444,
              "#bd3786"
             ],
             [
              0.5555555555555556,
              "#d8576b"
             ],
             [
              0.6666666666666666,
              "#ed7953"
             ],
             [
              0.7777777777777778,
              "#fb9f3a"
             ],
             [
              0.8888888888888888,
              "#fdca26"
             ],
             [
              1,
              "#f0f921"
             ]
            ],
            "type": "histogram2d"
           }
          ],
          "histogram2dcontour": [
           {
            "colorbar": {
             "outlinewidth": 0,
             "ticks": ""
            },
            "colorscale": [
             [
              0,
              "#0d0887"
             ],
             [
              0.1111111111111111,
              "#46039f"
             ],
             [
              0.2222222222222222,
              "#7201a8"
             ],
             [
              0.3333333333333333,
              "#9c179e"
             ],
             [
              0.4444444444444444,
              "#bd3786"
             ],
             [
              0.5555555555555556,
              "#d8576b"
             ],
             [
              0.6666666666666666,
              "#ed7953"
             ],
             [
              0.7777777777777778,
              "#fb9f3a"
             ],
             [
              0.8888888888888888,
              "#fdca26"
             ],
             [
              1,
              "#f0f921"
             ]
            ],
            "type": "histogram2dcontour"
           }
          ],
          "mesh3d": [
           {
            "colorbar": {
             "outlinewidth": 0,
             "ticks": ""
            },
            "type": "mesh3d"
           }
          ],
          "parcoords": [
           {
            "line": {
             "colorbar": {
              "outlinewidth": 0,
              "ticks": ""
             }
            },
            "type": "parcoords"
           }
          ],
          "pie": [
           {
            "automargin": true,
            "type": "pie"
           }
          ],
          "scatter": [
           {
            "marker": {
             "colorbar": {
              "outlinewidth": 0,
              "ticks": ""
             }
            },
            "type": "scatter"
           }
          ],
          "scatter3d": [
           {
            "line": {
             "colorbar": {
              "outlinewidth": 0,
              "ticks": ""
             }
            },
            "marker": {
             "colorbar": {
              "outlinewidth": 0,
              "ticks": ""
             }
            },
            "type": "scatter3d"
           }
          ],
          "scattercarpet": [
           {
            "marker": {
             "colorbar": {
              "outlinewidth": 0,
              "ticks": ""
             }
            },
            "type": "scattercarpet"
           }
          ],
          "scattergeo": [
           {
            "marker": {
             "colorbar": {
              "outlinewidth": 0,
              "ticks": ""
             }
            },
            "type": "scattergeo"
           }
          ],
          "scattergl": [
           {
            "marker": {
             "colorbar": {
              "outlinewidth": 0,
              "ticks": ""
             }
            },
            "type": "scattergl"
           }
          ],
          "scattermapbox": [
           {
            "marker": {
             "colorbar": {
              "outlinewidth": 0,
              "ticks": ""
             }
            },
            "type": "scattermapbox"
           }
          ],
          "scatterpolar": [
           {
            "marker": {
             "colorbar": {
              "outlinewidth": 0,
              "ticks": ""
             }
            },
            "type": "scatterpolar"
           }
          ],
          "scatterpolargl": [
           {
            "marker": {
             "colorbar": {
              "outlinewidth": 0,
              "ticks": ""
             }
            },
            "type": "scatterpolargl"
           }
          ],
          "scatterternary": [
           {
            "marker": {
             "colorbar": {
              "outlinewidth": 0,
              "ticks": ""
             }
            },
            "type": "scatterternary"
           }
          ],
          "surface": [
           {
            "colorbar": {
             "outlinewidth": 0,
             "ticks": ""
            },
            "colorscale": [
             [
              0,
              "#0d0887"
             ],
             [
              0.1111111111111111,
              "#46039f"
             ],
             [
              0.2222222222222222,
              "#7201a8"
             ],
             [
              0.3333333333333333,
              "#9c179e"
             ],
             [
              0.4444444444444444,
              "#bd3786"
             ],
             [
              0.5555555555555556,
              "#d8576b"
             ],
             [
              0.6666666666666666,
              "#ed7953"
             ],
             [
              0.7777777777777778,
              "#fb9f3a"
             ],
             [
              0.8888888888888888,
              "#fdca26"
             ],
             [
              1,
              "#f0f921"
             ]
            ],
            "type": "surface"
           }
          ],
          "table": [
           {
            "cells": {
             "fill": {
              "color": "#EBF0F8"
             },
             "line": {
              "color": "white"
             }
            },
            "header": {
             "fill": {
              "color": "#C8D4E3"
             },
             "line": {
              "color": "white"
             }
            },
            "type": "table"
           }
          ]
         },
         "layout": {
          "annotationdefaults": {
           "arrowcolor": "#2a3f5f",
           "arrowhead": 0,
           "arrowwidth": 1
          },
          "autotypenumbers": "strict",
          "coloraxis": {
           "colorbar": {
            "outlinewidth": 0,
            "ticks": ""
           }
          },
          "colorscale": {
           "diverging": [
            [
             0,
             "#8e0152"
            ],
            [
             0.1,
             "#c51b7d"
            ],
            [
             0.2,
             "#de77ae"
            ],
            [
             0.3,
             "#f1b6da"
            ],
            [
             0.4,
             "#fde0ef"
            ],
            [
             0.5,
             "#f7f7f7"
            ],
            [
             0.6,
             "#e6f5d0"
            ],
            [
             0.7,
             "#b8e186"
            ],
            [
             0.8,
             "#7fbc41"
            ],
            [
             0.9,
             "#4d9221"
            ],
            [
             1,
             "#276419"
            ]
           ],
           "sequential": [
            [
             0,
             "#0d0887"
            ],
            [
             0.1111111111111111,
             "#46039f"
            ],
            [
             0.2222222222222222,
             "#7201a8"
            ],
            [
             0.3333333333333333,
             "#9c179e"
            ],
            [
             0.4444444444444444,
             "#bd3786"
            ],
            [
             0.5555555555555556,
             "#d8576b"
            ],
            [
             0.6666666666666666,
             "#ed7953"
            ],
            [
             0.7777777777777778,
             "#fb9f3a"
            ],
            [
             0.8888888888888888,
             "#fdca26"
            ],
            [
             1,
             "#f0f921"
            ]
           ],
           "sequentialminus": [
            [
             0,
             "#0d0887"
            ],
            [
             0.1111111111111111,
             "#46039f"
            ],
            [
             0.2222222222222222,
             "#7201a8"
            ],
            [
             0.3333333333333333,
             "#9c179e"
            ],
            [
             0.4444444444444444,
             "#bd3786"
            ],
            [
             0.5555555555555556,
             "#d8576b"
            ],
            [
             0.6666666666666666,
             "#ed7953"
            ],
            [
             0.7777777777777778,
             "#fb9f3a"
            ],
            [
             0.8888888888888888,
             "#fdca26"
            ],
            [
             1,
             "#f0f921"
            ]
           ]
          },
          "colorway": [
           "#636efa",
           "#EF553B",
           "#00cc96",
           "#ab63fa",
           "#FFA15A",
           "#19d3f3",
           "#FF6692",
           "#B6E880",
           "#FF97FF",
           "#FECB52"
          ],
          "font": {
           "color": "#2a3f5f"
          },
          "geo": {
           "bgcolor": "white",
           "lakecolor": "white",
           "landcolor": "#E5ECF6",
           "showlakes": true,
           "showland": true,
           "subunitcolor": "white"
          },
          "hoverlabel": {
           "align": "left"
          },
          "hovermode": "closest",
          "mapbox": {
           "style": "light"
          },
          "paper_bgcolor": "white",
          "plot_bgcolor": "#E5ECF6",
          "polar": {
           "angularaxis": {
            "gridcolor": "white",
            "linecolor": "white",
            "ticks": ""
           },
           "bgcolor": "#E5ECF6",
           "radialaxis": {
            "gridcolor": "white",
            "linecolor": "white",
            "ticks": ""
           }
          },
          "scene": {
           "xaxis": {
            "backgroundcolor": "#E5ECF6",
            "gridcolor": "white",
            "gridwidth": 2,
            "linecolor": "white",
            "showbackground": true,
            "ticks": "",
            "zerolinecolor": "white"
           },
           "yaxis": {
            "backgroundcolor": "#E5ECF6",
            "gridcolor": "white",
            "gridwidth": 2,
            "linecolor": "white",
            "showbackground": true,
            "ticks": "",
            "zerolinecolor": "white"
           },
           "zaxis": {
            "backgroundcolor": "#E5ECF6",
            "gridcolor": "white",
            "gridwidth": 2,
            "linecolor": "white",
            "showbackground": true,
            "ticks": "",
            "zerolinecolor": "white"
           }
          },
          "shapedefaults": {
           "line": {
            "color": "#2a3f5f"
           }
          },
          "ternary": {
           "aaxis": {
            "gridcolor": "white",
            "linecolor": "white",
            "ticks": ""
           },
           "baxis": {
            "gridcolor": "white",
            "linecolor": "white",
            "ticks": ""
           },
           "bgcolor": "#E5ECF6",
           "caxis": {
            "gridcolor": "white",
            "linecolor": "white",
            "ticks": ""
           }
          },
          "title": {
           "x": 0.05
          },
          "xaxis": {
           "automargin": true,
           "gridcolor": "white",
           "linecolor": "white",
           "ticks": "",
           "title": {
            "standoff": 15
           },
           "zerolinecolor": "white",
           "zerolinewidth": 2
          },
          "yaxis": {
           "automargin": true,
           "gridcolor": "white",
           "linecolor": "white",
           "ticks": "",
           "title": {
            "standoff": 15
           },
           "zerolinecolor": "white",
           "zerolinewidth": 2
          }
         }
        },
        "title": {
         "text": "Item totals over time"
        },
        "xaxis": {
         "anchor": "y",
         "domain": [
          0,
          1
         ],
         "title": {
          "text": "Date"
         }
        },
        "yaxis": {
         "anchor": "x",
         "domain": [
          0,
          1
         ],
         "title": {
          "text": "Item Total"
         }
        }
       }
      },
      "text/html": [
       "<div>                            <div id=\"9fddec69-b8c2-4452-a46c-f4e0c575d0a6\" class=\"plotly-graph-div\" style=\"height:525px; width:100%;\"></div>            <script type=\"text/javascript\">                require([\"plotly\"], function(Plotly) {                    window.PLOTLYENV=window.PLOTLYENV || {};                                    if (document.getElementById(\"9fddec69-b8c2-4452-a46c-f4e0c575d0a6\")) {                    Plotly.newPlot(                        \"9fddec69-b8c2-4452-a46c-f4e0c575d0a6\",                        [{\"hovertemplate\":\"Date=%{x}<br>Item Total=%{y}<extra></extra>\",\"legendgroup\":\"\",\"line\":{\"color\":\"#636efa\",\"dash\":\"solid\"},\"marker\":{\"symbol\":\"circle\"},\"mode\":\"lines\",\"name\":\"\",\"orientation\":\"v\",\"showlegend\":false,\"x\":[\"5/7/1995\",\"5/16/1995\",\"9/15/2019\",\"12/22/2019\",\"1/7/2020\",\"1/12/2020\",\"1/19/2020\",\"1/26/2020\",\"2/2/2020\",\"2/9/2020\",\"3/14/2020\",\"3/22/2020\",\"4/19/2020\",\"4/22/2020\",\"4/29/2020\",\"5/3/2020\",\"5/4/2020\",\"5/10/2020\",\"5/17/2020\",\"5/31/2020\",\"6/2/2020\",\"6/7/2020\",\"6/21/2020\",\"6/28/2020\",\"7/3/2020\",\"7/4/2020\",\"7/4/2020\",\"7/12/2020\",\"7/19/2020\",\"7/25/2020\",\"7/25/2020\",\"7/26/2020\",\"7/29/2020\",\"8/2/2020\",\"8/2/2020\",\"8/4/2020\",\"8/9/2020\",\"8/14/2020\",\"8/16/2020\",\"8/21/2020\",\"8/23/2020\",\"8/23/2020\",\"8/30/2020\",\"9/6/2020\",\"9/7/2020\",\"9/13/2020\",\"9/20/2020\",\"10/4/2020\",\"10/11/2020\",\"10/14/2020\",\"10/18/2020\",\"10/21/2020\",\"10/21/2020\",\"10/25/2020\",\"10/31/2020\",\"11/8/2020\",\"11/15/2020\",\"11/20/2020\",\"11/21/2020\",\"11/22/2020\",\"11/29/2020\",\"12/6/2020\",\"12/13/2020\",\"12/18/2020\",\"12/20/2020\",\"12/21/2020\",\"12/27/2020\",\"1/2/2021\",\"1/3/2021\",\"1/10/2021\",\"1/24/2021\",\"1/26/2021\",\"1/29/2021\",\"1/31/2021\",\"1/31/2021\",\"1/31/2021\",\"2/2/2021\",\"2/7/2021\",\"2/14/2021\",\"2/16/2021\",\"2/21/2021\",\"2/28/2021\",\"3/7/2021\",\"3/14/2021\",\"3/21/2021\",\"3/28/2021\",\"4/18/2021\",\"4/26/2021\",\"5/2/2021\",\"5/9/2021\",\"5/16/2021\",\"5/23/2021\",\"5/27/2021\",\"5/30/2021\",\"6/20/2021\",\"6/23/2021\",\"7/4/2021\",\"7/11/2021\",\"7/18/2021\",\"8/1/2021\",\"8/8/2021\",\"8/12/2021\",\"8/15/2021\",\"8/22/2021\",\"8/29/2021\",\"9/5/2021\",\"9/19/2021\",\"9/30/2021\",\"10/10/2021\",\"10/17/2021\",\"10/31/2021\",\"11/7/2021\",\"11/14/2021\",\"11/14/2021\",\"11/21/2021\",\"11/23/2021\",\"11/28/2021\",\"12/5/2021\",\"12/12/2021\",\"12/15/2021\",\"12/19/2021\",\"12/21/2021\",\"12/26/2021\",\"1/2/2022\",\"1/16/2022\",\"1/23/2022\",\"1/30/2022\",\"2/6/2022\",\"2/13/2022\",\"2/27/2022\",\"3/6/2022\",\"3/13/2022\",\"3/20/2022\",\"3/27/2022\",\"4/3/2022\",\"4/10/2022\",\"4/17/2022\",\"4/24/2022\",\"5/1/2022\",\"5/8/2022\",\"5/15/2022\",\"5/22/2022\",\"5/29/2022\",\"6/5/2022\",\"6/12/2022\",\"6/19/2022\",\"6/26/2022\",\"7/3/2022\"],\"xaxis\":\"x\",\"y\":[23,22,19,31,5,26,44,27,19,25,36,35,30,12,8,46,40,28,32,39,18,32,27,40,8,6,13,36,39,4,12,45,7,38,2,5,42,3,38,8,4,34,40,38,41,29,44,37,40,7,37,3,2,36,30,33,41,2,1,35,38,33,42,7,47,1,28,2,26,36,41,9,3,3,23,1,4,30,37,5,33,43,46,23,33,32,43,2,30,32,1,36,4,32,26,2,36,33,37,32,34,10,35,38,35,37,37,11,37,47,34,37,1,29,35,3,41,35,43,5,49,5,54,31,30,32,40,39,36,37,39,35,35,38,28,30,42,45,40,36,32,46,32,30,31,41,45,44],\"yaxis\":\"y\",\"type\":\"scatter\"}],                        {\"template\":{\"data\":{\"bar\":[{\"error_x\":{\"color\":\"#2a3f5f\"},\"error_y\":{\"color\":\"#2a3f5f\"},\"marker\":{\"line\":{\"color\":\"#E5ECF6\",\"width\":0.5},\"pattern\":{\"fillmode\":\"overlay\",\"size\":10,\"solidity\":0.2}},\"type\":\"bar\"}],\"barpolar\":[{\"marker\":{\"line\":{\"color\":\"#E5ECF6\",\"width\":0.5},\"pattern\":{\"fillmode\":\"overlay\",\"size\":10,\"solidity\":0.2}},\"type\":\"barpolar\"}],\"carpet\":[{\"aaxis\":{\"endlinecolor\":\"#2a3f5f\",\"gridcolor\":\"white\",\"linecolor\":\"white\",\"minorgridcolor\":\"white\",\"startlinecolor\":\"#2a3f5f\"},\"baxis\":{\"endlinecolor\":\"#2a3f5f\",\"gridcolor\":\"white\",\"linecolor\":\"white\",\"minorgridcolor\":\"white\",\"startlinecolor\":\"#2a3f5f\"},\"type\":\"carpet\"}],\"choropleth\":[{\"colorbar\":{\"outlinewidth\":0,\"ticks\":\"\"},\"type\":\"choropleth\"}],\"contour\":[{\"colorbar\":{\"outlinewidth\":0,\"ticks\":\"\"},\"colorscale\":[[0.0,\"#0d0887\"],[0.1111111111111111,\"#46039f\"],[0.2222222222222222,\"#7201a8\"],[0.3333333333333333,\"#9c179e\"],[0.4444444444444444,\"#bd3786\"],[0.5555555555555556,\"#d8576b\"],[0.6666666666666666,\"#ed7953\"],[0.7777777777777778,\"#fb9f3a\"],[0.8888888888888888,\"#fdca26\"],[1.0,\"#f0f921\"]],\"type\":\"contour\"}],\"contourcarpet\":[{\"colorbar\":{\"outlinewidth\":0,\"ticks\":\"\"},\"type\":\"contourcarpet\"}],\"heatmap\":[{\"colorbar\":{\"outlinewidth\":0,\"ticks\":\"\"},\"colorscale\":[[0.0,\"#0d0887\"],[0.1111111111111111,\"#46039f\"],[0.2222222222222222,\"#7201a8\"],[0.3333333333333333,\"#9c179e\"],[0.4444444444444444,\"#bd3786\"],[0.5555555555555556,\"#d8576b\"],[0.6666666666666666,\"#ed7953\"],[0.7777777777777778,\"#fb9f3a\"],[0.8888888888888888,\"#fdca26\"],[1.0,\"#f0f921\"]],\"type\":\"heatmap\"}],\"heatmapgl\":[{\"colorbar\":{\"outlinewidth\":0,\"ticks\":\"\"},\"colorscale\":[[0.0,\"#0d0887\"],[0.1111111111111111,\"#46039f\"],[0.2222222222222222,\"#7201a8\"],[0.3333333333333333,\"#9c179e\"],[0.4444444444444444,\"#bd3786\"],[0.5555555555555556,\"#d8576b\"],[0.6666666666666666,\"#ed7953\"],[0.7777777777777778,\"#fb9f3a\"],[0.8888888888888888,\"#fdca26\"],[1.0,\"#f0f921\"]],\"type\":\"heatmapgl\"}],\"histogram\":[{\"marker\":{\"pattern\":{\"fillmode\":\"overlay\",\"size\":10,\"solidity\":0.2}},\"type\":\"histogram\"}],\"histogram2d\":[{\"colorbar\":{\"outlinewidth\":0,\"ticks\":\"\"},\"colorscale\":[[0.0,\"#0d0887\"],[0.1111111111111111,\"#46039f\"],[0.2222222222222222,\"#7201a8\"],[0.3333333333333333,\"#9c179e\"],[0.4444444444444444,\"#bd3786\"],[0.5555555555555556,\"#d8576b\"],[0.6666666666666666,\"#ed7953\"],[0.7777777777777778,\"#fb9f3a\"],[0.8888888888888888,\"#fdca26\"],[1.0,\"#f0f921\"]],\"type\":\"histogram2d\"}],\"histogram2dcontour\":[{\"colorbar\":{\"outlinewidth\":0,\"ticks\":\"\"},\"colorscale\":[[0.0,\"#0d0887\"],[0.1111111111111111,\"#46039f\"],[0.2222222222222222,\"#7201a8\"],[0.3333333333333333,\"#9c179e\"],[0.4444444444444444,\"#bd3786\"],[0.5555555555555556,\"#d8576b\"],[0.6666666666666666,\"#ed7953\"],[0.7777777777777778,\"#fb9f3a\"],[0.8888888888888888,\"#fdca26\"],[1.0,\"#f0f921\"]],\"type\":\"histogram2dcontour\"}],\"mesh3d\":[{\"colorbar\":{\"outlinewidth\":0,\"ticks\":\"\"},\"type\":\"mesh3d\"}],\"parcoords\":[{\"line\":{\"colorbar\":{\"outlinewidth\":0,\"ticks\":\"\"}},\"type\":\"parcoords\"}],\"pie\":[{\"automargin\":true,\"type\":\"pie\"}],\"scatter\":[{\"marker\":{\"colorbar\":{\"outlinewidth\":0,\"ticks\":\"\"}},\"type\":\"scatter\"}],\"scatter3d\":[{\"line\":{\"colorbar\":{\"outlinewidth\":0,\"ticks\":\"\"}},\"marker\":{\"colorbar\":{\"outlinewidth\":0,\"ticks\":\"\"}},\"type\":\"scatter3d\"}],\"scattercarpet\":[{\"marker\":{\"colorbar\":{\"outlinewidth\":0,\"ticks\":\"\"}},\"type\":\"scattercarpet\"}],\"scattergeo\":[{\"marker\":{\"colorbar\":{\"outlinewidth\":0,\"ticks\":\"\"}},\"type\":\"scattergeo\"}],\"scattergl\":[{\"marker\":{\"colorbar\":{\"outlinewidth\":0,\"ticks\":\"\"}},\"type\":\"scattergl\"}],\"scattermapbox\":[{\"marker\":{\"colorbar\":{\"outlinewidth\":0,\"ticks\":\"\"}},\"type\":\"scattermapbox\"}],\"scatterpolar\":[{\"marker\":{\"colorbar\":{\"outlinewidth\":0,\"ticks\":\"\"}},\"type\":\"scatterpolar\"}],\"scatterpolargl\":[{\"marker\":{\"colorbar\":{\"outlinewidth\":0,\"ticks\":\"\"}},\"type\":\"scatterpolargl\"}],\"scatterternary\":[{\"marker\":{\"colorbar\":{\"outlinewidth\":0,\"ticks\":\"\"}},\"type\":\"scatterternary\"}],\"surface\":[{\"colorbar\":{\"outlinewidth\":0,\"ticks\":\"\"},\"colorscale\":[[0.0,\"#0d0887\"],[0.1111111111111111,\"#46039f\"],[0.2222222222222222,\"#7201a8\"],[0.3333333333333333,\"#9c179e\"],[0.4444444444444444,\"#bd3786\"],[0.5555555555555556,\"#d8576b\"],[0.6666666666666666,\"#ed7953\"],[0.7777777777777778,\"#fb9f3a\"],[0.8888888888888888,\"#fdca26\"],[1.0,\"#f0f921\"]],\"type\":\"surface\"}],\"table\":[{\"cells\":{\"fill\":{\"color\":\"#EBF0F8\"},\"line\":{\"color\":\"white\"}},\"header\":{\"fill\":{\"color\":\"#C8D4E3\"},\"line\":{\"color\":\"white\"}},\"type\":\"table\"}]},\"layout\":{\"annotationdefaults\":{\"arrowcolor\":\"#2a3f5f\",\"arrowhead\":0,\"arrowwidth\":1},\"autotypenumbers\":\"strict\",\"coloraxis\":{\"colorbar\":{\"outlinewidth\":0,\"ticks\":\"\"}},\"colorscale\":{\"diverging\":[[0,\"#8e0152\"],[0.1,\"#c51b7d\"],[0.2,\"#de77ae\"],[0.3,\"#f1b6da\"],[0.4,\"#fde0ef\"],[0.5,\"#f7f7f7\"],[0.6,\"#e6f5d0\"],[0.7,\"#b8e186\"],[0.8,\"#7fbc41\"],[0.9,\"#4d9221\"],[1,\"#276419\"]],\"sequential\":[[0.0,\"#0d0887\"],[0.1111111111111111,\"#46039f\"],[0.2222222222222222,\"#7201a8\"],[0.3333333333333333,\"#9c179e\"],[0.4444444444444444,\"#bd3786\"],[0.5555555555555556,\"#d8576b\"],[0.6666666666666666,\"#ed7953\"],[0.7777777777777778,\"#fb9f3a\"],[0.8888888888888888,\"#fdca26\"],[1.0,\"#f0f921\"]],\"sequentialminus\":[[0.0,\"#0d0887\"],[0.1111111111111111,\"#46039f\"],[0.2222222222222222,\"#7201a8\"],[0.3333333333333333,\"#9c179e\"],[0.4444444444444444,\"#bd3786\"],[0.5555555555555556,\"#d8576b\"],[0.6666666666666666,\"#ed7953\"],[0.7777777777777778,\"#fb9f3a\"],[0.8888888888888888,\"#fdca26\"],[1.0,\"#f0f921\"]]},\"colorway\":[\"#636efa\",\"#EF553B\",\"#00cc96\",\"#ab63fa\",\"#FFA15A\",\"#19d3f3\",\"#FF6692\",\"#B6E880\",\"#FF97FF\",\"#FECB52\"],\"font\":{\"color\":\"#2a3f5f\"},\"geo\":{\"bgcolor\":\"white\",\"lakecolor\":\"white\",\"landcolor\":\"#E5ECF6\",\"showlakes\":true,\"showland\":true,\"subunitcolor\":\"white\"},\"hoverlabel\":{\"align\":\"left\"},\"hovermode\":\"closest\",\"mapbox\":{\"style\":\"light\"},\"paper_bgcolor\":\"white\",\"plot_bgcolor\":\"#E5ECF6\",\"polar\":{\"angularaxis\":{\"gridcolor\":\"white\",\"linecolor\":\"white\",\"ticks\":\"\"},\"bgcolor\":\"#E5ECF6\",\"radialaxis\":{\"gridcolor\":\"white\",\"linecolor\":\"white\",\"ticks\":\"\"}},\"scene\":{\"xaxis\":{\"backgroundcolor\":\"#E5ECF6\",\"gridcolor\":\"white\",\"gridwidth\":2,\"linecolor\":\"white\",\"showbackground\":true,\"ticks\":\"\",\"zerolinecolor\":\"white\"},\"yaxis\":{\"backgroundcolor\":\"#E5ECF6\",\"gridcolor\":\"white\",\"gridwidth\":2,\"linecolor\":\"white\",\"showbackground\":true,\"ticks\":\"\",\"zerolinecolor\":\"white\"},\"zaxis\":{\"backgroundcolor\":\"#E5ECF6\",\"gridcolor\":\"white\",\"gridwidth\":2,\"linecolor\":\"white\",\"showbackground\":true,\"ticks\":\"\",\"zerolinecolor\":\"white\"}},\"shapedefaults\":{\"line\":{\"color\":\"#2a3f5f\"}},\"ternary\":{\"aaxis\":{\"gridcolor\":\"white\",\"linecolor\":\"white\",\"ticks\":\"\"},\"baxis\":{\"gridcolor\":\"white\",\"linecolor\":\"white\",\"ticks\":\"\"},\"bgcolor\":\"#E5ECF6\",\"caxis\":{\"gridcolor\":\"white\",\"linecolor\":\"white\",\"ticks\":\"\"}},\"title\":{\"x\":0.05},\"xaxis\":{\"automargin\":true,\"gridcolor\":\"white\",\"linecolor\":\"white\",\"ticks\":\"\",\"title\":{\"standoff\":15},\"zerolinecolor\":\"white\",\"zerolinewidth\":2},\"yaxis\":{\"automargin\":true,\"gridcolor\":\"white\",\"linecolor\":\"white\",\"ticks\":\"\",\"title\":{\"standoff\":15},\"zerolinecolor\":\"white\",\"zerolinewidth\":2}}},\"xaxis\":{\"anchor\":\"y\",\"domain\":[0.0,1.0],\"title\":{\"text\":\"Date\"}},\"yaxis\":{\"anchor\":\"x\",\"domain\":[0.0,1.0],\"title\":{\"text\":\"Item Total\"}},\"legend\":{\"tracegroupgap\":0},\"title\":{\"text\":\"Item totals over time\"}},                        {\"responsive\": true}                    ).then(function(){\n",
       "                            \n",
       "var gd = document.getElementById('9fddec69-b8c2-4452-a46c-f4e0c575d0a6');\n",
       "var x = new MutationObserver(function (mutations, observer) {{\n",
       "        var display = window.getComputedStyle(gd).display;\n",
       "        if (!display || display === 'none') {{\n",
       "            console.log([gd, 'removed!']);\n",
       "            Plotly.purge(gd);\n",
       "            observer.disconnect();\n",
       "        }}\n",
       "}});\n",
       "\n",
       "// Listen for the removal of the full notebook cells\n",
       "var notebookContainer = gd.closest('#notebook-container');\n",
       "if (notebookContainer) {{\n",
       "    x.observe(notebookContainer, {childList: true});\n",
       "}}\n",
       "\n",
       "// Listen for the clearing of the current output cell\n",
       "var outputEl = gd.closest('.output');\n",
       "if (outputEl) {{\n",
       "    x.observe(outputEl, {childList: true});\n",
       "}}\n",
       "\n",
       "                        })                };                });            </script>        </div>"
      ]
     },
     "metadata": {},
     "output_type": "display_data"
    }
   ],
   "source": [
    "fig = px.line(groceries2_clean, x = 'Date', y = 'Item Total', title='Item totals over time')\n",
    "fig.show()"
   ]
  },
  {
   "cell_type": "code",
   "execution_count": 31,
   "id": "9474db39",
   "metadata": {},
   "outputs": [
    {
     "name": "stdout",
     "output_type": "stream",
     "text": [
      "-0.6864511290784572\n"
     ]
    },
    {
     "data": {
      "text/plain": [
       "count    148.000000\n",
       "mean     103.211959\n",
       "std       52.371033\n",
       "min        2.390000\n",
       "25%       58.050000\n",
       "50%      123.800000\n",
       "75%      138.420000\n",
       "max      192.830000\n",
       "Name: Cost (total), dtype: float64"
      ]
     },
     "execution_count": 31,
     "metadata": {},
     "output_type": "execute_result"
    }
   ],
   "source": [
    "#Checking skew of cost. I know the lower number of items are important to the data as a whole but I want the bigger trips, not the smaller ones.\n",
    "\n",
    "print(groceries2_clean['Cost (total)'].skew())\n",
    "groceries2_clean['Cost (total)'].describe()"
   ]
  },
  {
   "cell_type": "markdown",
   "id": "dc1468e1",
   "metadata": {},
   "source": [
    "# Box plots? Box plots."
   ]
  },
  {
   "cell_type": "code",
   "execution_count": 32,
   "id": "0343195e",
   "metadata": {},
   "outputs": [
    {
     "data": {
      "image/png": "[encoded data removed]",
      "text/plain": [
       "<Figure size 432x288 with 1 Axes>"
      ]
     },
     "metadata": {
      "needs_background": "light"
     },
     "output_type": "display_data"
    }
   ],
   "source": [
    "sns.boxplot(y=groceries2_clean[\"Cost (total)\"])\n",
    "plt.show()"
   ]
  },
  {
   "cell_type": "code",
   "execution_count": 33,
   "id": "aad1dcf7",
   "metadata": {},
   "outputs": [
    {
     "data": {
      "image/png": "[encoded data removed]",
      "text/plain": [
       "<Figure size 432x288 with 1 Axes>"
      ]
     },
     "metadata": {
      "needs_background": "light"
     },
     "output_type": "display_data"
    }
   ],
   "source": [
    "sns.boxplot(y=groceries2_clean[\"Item Total\"])\n",
    "plt.show()"
   ]
  },
  {
   "cell_type": "markdown",
   "id": "39b79a53",
   "metadata": {},
   "source": [
    "# No outliers showing. If I want to drop the receipts that have the lower items/cost, I can, but it won't be dropping outliers, just the receipts where there aren't as many items, or where the items don't pass a certain number/threshold."
   ]
  },
  {
   "cell_type": "markdown",
   "id": "57880266",
   "metadata": {},
   "source": [
    "# Learned how to sort in Python. Let's do that."
   ]
  },
  {
   "cell_type": "code",
   "execution_count": 37,
   "id": "d0fb1a3d",
   "metadata": {},
   "outputs": [
    {
     "data": {
      "text/html": [
       "<div>\n",
       "<style scoped>\n",
       "    .dataframe tbody tr th:only-of-type {\n",
       "        vertical-align: middle;\n",
       "    }\n",
       "\n",
       "    .dataframe tbody tr th {\n",
       "        vertical-align: top;\n",
       "    }\n",
       "\n",
       "    .dataframe thead th {\n",
       "        text-align: right;\n",
       "    }\n",
       "</style>\n",
       "<table border=\"1\" class=\"dataframe\">\n",
       "  <thead>\n",
       "    <tr style=\"text-align: right;\">\n",
       "      <th></th>\n",
       "      <th>Date</th>\n",
       "      <th>Item Total</th>\n",
       "      <th>Baked Goods qty</th>\n",
       "      <th>Alcohol qty</th>\n",
       "      <th>Grocery qty</th>\n",
       "      <th>Produce qty</th>\n",
       "      <th>Meat qty</th>\n",
       "      <th>Service deli qty</th>\n",
       "      <th>Dairy-Deli (frz/refrig) qty</th>\n",
       "      <th>Gen Merch qty</th>\n",
       "      <th>...</th>\n",
       "      <th>Dairy-Deli cost</th>\n",
       "      <th>Gen Merch cost</th>\n",
       "      <th>Coupon Cost</th>\n",
       "      <th>Cost (total)</th>\n",
       "      <th>Taxes</th>\n",
       "      <th>Checkout Time</th>\n",
       "      <th>Cashier</th>\n",
       "      <th>Day of the Week</th>\n",
       "      <th>Total Savings</th>\n",
       "      <th>Terminal</th>\n",
       "    </tr>\n",
       "  </thead>\n",
       "  <tbody>\n",
       "    <tr>\n",
       "      <th>64</th>\n",
       "      <td>12/20/2020</td>\n",
       "      <td>47</td>\n",
       "      <td>0.0</td>\n",
       "      <td>0.0</td>\n",
       "      <td>15.0</td>\n",
       "      <td>6.0</td>\n",
       "      <td>5.0</td>\n",
       "      <td>0.0</td>\n",
       "      <td>16.0</td>\n",
       "      <td>5.0</td>\n",
       "      <td>...</td>\n",
       "      <td>61.45</td>\n",
       "      <td>28.95</td>\n",
       "      <td>0.0</td>\n",
       "      <td>192.83</td>\n",
       "      <td>3.09</td>\n",
       "      <td>8:45:42 AM</td>\n",
       "      <td>Jacqui</td>\n",
       "      <td>Sunday</td>\n",
       "      <td>50.27</td>\n",
       "      <td>7</td>\n",
       "    </tr>\n",
       "    <tr>\n",
       "      <th>120</th>\n",
       "      <td>12/19/2021</td>\n",
       "      <td>49</td>\n",
       "      <td>1.0</td>\n",
       "      <td>0.0</td>\n",
       "      <td>20.0</td>\n",
       "      <td>9.0</td>\n",
       "      <td>6.0</td>\n",
       "      <td>0.0</td>\n",
       "      <td>13.0</td>\n",
       "      <td>0.0</td>\n",
       "      <td>...</td>\n",
       "      <td>40.41</td>\n",
       "      <td>0.00</td>\n",
       "      <td>0.0</td>\n",
       "      <td>189.71</td>\n",
       "      <td>0.54</td>\n",
       "      <td>8:36:23 AM</td>\n",
       "      <td>Dawn</td>\n",
       "      <td>Sunday</td>\n",
       "      <td>19.98</td>\n",
       "      <td>7</td>\n",
       "    </tr>\n",
       "    <tr>\n",
       "      <th>15</th>\n",
       "      <td>5/3/2020</td>\n",
       "      <td>46</td>\n",
       "      <td>0.0</td>\n",
       "      <td>0.0</td>\n",
       "      <td>24.0</td>\n",
       "      <td>6.0</td>\n",
       "      <td>7.0</td>\n",
       "      <td>0.0</td>\n",
       "      <td>8.0</td>\n",
       "      <td>1.0</td>\n",
       "      <td>...</td>\n",
       "      <td>42.25</td>\n",
       "      <td>3.39</td>\n",
       "      <td>0.0</td>\n",
       "      <td>186.38</td>\n",
       "      <td>0.00</td>\n",
       "      <td>8:18:39 AM</td>\n",
       "      <td>Theresa</td>\n",
       "      <td>Sunday</td>\n",
       "      <td>13.07</td>\n",
       "      <td>7</td>\n",
       "    </tr>\n",
       "    <tr>\n",
       "      <th>10</th>\n",
       "      <td>3/14/2020</td>\n",
       "      <td>36</td>\n",
       "      <td>1.0</td>\n",
       "      <td>0.0</td>\n",
       "      <td>14.0</td>\n",
       "      <td>5.0</td>\n",
       "      <td>7.0</td>\n",
       "      <td>0.0</td>\n",
       "      <td>3.0</td>\n",
       "      <td>6.0</td>\n",
       "      <td>...</td>\n",
       "      <td>22.67</td>\n",
       "      <td>27.34</td>\n",
       "      <td>0.0</td>\n",
       "      <td>182.19</td>\n",
       "      <td>4.81</td>\n",
       "      <td>9:25:08 PM</td>\n",
       "      <td>Richard R</td>\n",
       "      <td>Saturday</td>\n",
       "      <td>14.26</td>\n",
       "      <td>2</td>\n",
       "    </tr>\n",
       "    <tr>\n",
       "      <th>122</th>\n",
       "      <td>12/26/2021</td>\n",
       "      <td>54</td>\n",
       "      <td>0.0</td>\n",
       "      <td>0.0</td>\n",
       "      <td>17.0</td>\n",
       "      <td>10.0</td>\n",
       "      <td>7.0</td>\n",
       "      <td>0.0</td>\n",
       "      <td>13.0</td>\n",
       "      <td>5.0</td>\n",
       "      <td>...</td>\n",
       "      <td>41.63</td>\n",
       "      <td>20.91</td>\n",
       "      <td>0.0</td>\n",
       "      <td>176.47</td>\n",
       "      <td>3.53</td>\n",
       "      <td>9:38:59 PM</td>\n",
       "      <td>Emma</td>\n",
       "      <td>Sunday</td>\n",
       "      <td>15.55</td>\n",
       "      <td>6</td>\n",
       "    </tr>\n",
       "    <tr>\n",
       "      <th>...</th>\n",
       "      <td>...</td>\n",
       "      <td>...</td>\n",
       "      <td>...</td>\n",
       "      <td>...</td>\n",
       "      <td>...</td>\n",
       "      <td>...</td>\n",
       "      <td>...</td>\n",
       "      <td>...</td>\n",
       "      <td>...</td>\n",
       "      <td>...</td>\n",
       "      <td>...</td>\n",
       "      <td>...</td>\n",
       "      <td>...</td>\n",
       "      <td>...</td>\n",
       "      <td>...</td>\n",
       "      <td>...</td>\n",
       "      <td>...</td>\n",
       "      <td>...</td>\n",
       "      <td>...</td>\n",
       "      <td>...</td>\n",
       "      <td>...</td>\n",
       "    </tr>\n",
       "    <tr>\n",
       "      <th>90</th>\n",
       "      <td>5/16/2021</td>\n",
       "      <td>1</td>\n",
       "      <td>0.0</td>\n",
       "      <td>0.0</td>\n",
       "      <td>0.0</td>\n",
       "      <td>0.0</td>\n",
       "      <td>1.0</td>\n",
       "      <td>0.0</td>\n",
       "      <td>0.0</td>\n",
       "      <td>0.0</td>\n",
       "      <td>...</td>\n",
       "      <td>0.00</td>\n",
       "      <td>0.00</td>\n",
       "      <td>0.0</td>\n",
       "      <td>8.69</td>\n",
       "      <td>0.00</td>\n",
       "      <td>8:20:39 AM</td>\n",
       "      <td>Fastlane3</td>\n",
       "      <td>Sunday</td>\n",
       "      <td>0.00</td>\n",
       "      <td>Self</td>\n",
       "    </tr>\n",
       "    <tr>\n",
       "      <th>34</th>\n",
       "      <td>8/2/2020</td>\n",
       "      <td>2</td>\n",
       "      <td>0.0</td>\n",
       "      <td>0.0</td>\n",
       "      <td>2.0</td>\n",
       "      <td>0.0</td>\n",
       "      <td>0.0</td>\n",
       "      <td>0.0</td>\n",
       "      <td>0.0</td>\n",
       "      <td>0.0</td>\n",
       "      <td>...</td>\n",
       "      <td>0.00</td>\n",
       "      <td>0.00</td>\n",
       "      <td>0.0</td>\n",
       "      <td>4.98</td>\n",
       "      <td>0.00</td>\n",
       "      <td>8:31:58 PM</td>\n",
       "      <td>FastLane 2</td>\n",
       "      <td>Sunday</td>\n",
       "      <td>0.00</td>\n",
       "      <td>Self</td>\n",
       "    </tr>\n",
       "    <tr>\n",
       "      <th>67</th>\n",
       "      <td>1/2/2021</td>\n",
       "      <td>2</td>\n",
       "      <td>0.0</td>\n",
       "      <td>0.0</td>\n",
       "      <td>2.0</td>\n",
       "      <td>0.0</td>\n",
       "      <td>0.0</td>\n",
       "      <td>0.0</td>\n",
       "      <td>0.0</td>\n",
       "      <td>0.0</td>\n",
       "      <td>...</td>\n",
       "      <td>0.00</td>\n",
       "      <td>0.00</td>\n",
       "      <td>0.0</td>\n",
       "      <td>3.78</td>\n",
       "      <td>0.00</td>\n",
       "      <td>1:35:00 PM</td>\n",
       "      <td>Dean</td>\n",
       "      <td>Saturday</td>\n",
       "      <td>0.00</td>\n",
       "      <td>0</td>\n",
       "    </tr>\n",
       "    <tr>\n",
       "      <th>65</th>\n",
       "      <td>12/21/2020</td>\n",
       "      <td>1</td>\n",
       "      <td>0.0</td>\n",
       "      <td>0.0</td>\n",
       "      <td>0.0</td>\n",
       "      <td>0.0</td>\n",
       "      <td>0.0</td>\n",
       "      <td>0.0</td>\n",
       "      <td>1.0</td>\n",
       "      <td>0.0</td>\n",
       "      <td>...</td>\n",
       "      <td>3.29</td>\n",
       "      <td>0.00</td>\n",
       "      <td>0.0</td>\n",
       "      <td>3.29</td>\n",
       "      <td>0.00</td>\n",
       "      <td>8:37:37 AM</td>\n",
       "      <td>FastLane1</td>\n",
       "      <td>Monday</td>\n",
       "      <td>0.00</td>\n",
       "      <td>0</td>\n",
       "    </tr>\n",
       "    <tr>\n",
       "      <th>75</th>\n",
       "      <td>1/31/2021</td>\n",
       "      <td>1</td>\n",
       "      <td>0.0</td>\n",
       "      <td>0.0</td>\n",
       "      <td>0.0</td>\n",
       "      <td>0.0</td>\n",
       "      <td>0.0</td>\n",
       "      <td>0.0</td>\n",
       "      <td>0.0</td>\n",
       "      <td>1.0</td>\n",
       "      <td>...</td>\n",
       "      <td>0.00</td>\n",
       "      <td>2.19</td>\n",
       "      <td>0.0</td>\n",
       "      <td>2.39</td>\n",
       "      <td>0.20</td>\n",
       "      <td>8:29:00 AM</td>\n",
       "      <td>FastLane1</td>\n",
       "      <td>Sunday</td>\n",
       "      <td>0.40</td>\n",
       "      <td>Self</td>\n",
       "    </tr>\n",
       "  </tbody>\n",
       "</table>\n",
       "<p>148 rows × 31 columns</p>\n",
       "</div>"
      ],
      "text/plain": [
       "           Date  Item Total  Baked Goods qty  Alcohol qty  Grocery qty  \\\n",
       "64   12/20/2020          47              0.0          0.0         15.0   \n",
       "120  12/19/2021          49              1.0          0.0         20.0   \n",
       "15     5/3/2020          46              0.0          0.0         24.0   \n",
       "10    3/14/2020          36              1.0          0.0         14.0   \n",
       "122  12/26/2021          54              0.0          0.0         17.0   \n",
       "..          ...         ...              ...          ...          ...   \n",
       "90    5/16/2021           1              0.0          0.0          0.0   \n",
       "34     8/2/2020           2              0.0          0.0          2.0   \n",
       "67     1/2/2021           2              0.0          0.0          2.0   \n",
       "65   12/21/2020           1              0.0          0.0          0.0   \n",
       "75    1/31/2021           1              0.0          0.0          0.0   \n",
       "\n",
       "     Produce qty  Meat qty  Service deli qty  Dairy-Deli (frz/refrig) qty  \\\n",
       "64           6.0       5.0               0.0                         16.0   \n",
       "120          9.0       6.0               0.0                         13.0   \n",
       "15           6.0       7.0               0.0                          8.0   \n",
       "10           5.0       7.0               0.0                          3.0   \n",
       "122         10.0       7.0               0.0                         13.0   \n",
       "..           ...       ...               ...                          ...   \n",
       "90           0.0       1.0               0.0                          0.0   \n",
       "34           0.0       0.0               0.0                          0.0   \n",
       "67           0.0       0.0               0.0                          0.0   \n",
       "65           0.0       0.0               0.0                          1.0   \n",
       "75           0.0       0.0               0.0                          0.0   \n",
       "\n",
       "     Gen Merch qty  ...  Dairy-Deli cost  Gen Merch cost  Coupon Cost  \\\n",
       "64             5.0  ...            61.45           28.95          0.0   \n",
       "120            0.0  ...            40.41            0.00          0.0   \n",
       "15             1.0  ...            42.25            3.39          0.0   \n",
       "10             6.0  ...            22.67           27.34          0.0   \n",
       "122            5.0  ...            41.63           20.91          0.0   \n",
       "..             ...  ...              ...             ...          ...   \n",
       "90             0.0  ...             0.00            0.00          0.0   \n",
       "34             0.0  ...             0.00            0.00          0.0   \n",
       "67             0.0  ...             0.00            0.00          0.0   \n",
       "65             0.0  ...             3.29            0.00          0.0   \n",
       "75             1.0  ...             0.00            2.19          0.0   \n",
       "\n",
       "    Cost (total)  Taxes  Checkout Time     Cashier  Day of the Week  \\\n",
       "64        192.83   3.09     8:45:42 AM      Jacqui           Sunday   \n",
       "120       189.71   0.54     8:36:23 AM        Dawn           Sunday   \n",
       "15        186.38   0.00     8:18:39 AM     Theresa           Sunday   \n",
       "10        182.19   4.81     9:25:08 PM   Richard R         Saturday   \n",
       "122       176.47   3.53     9:38:59 PM        Emma           Sunday   \n",
       "..           ...    ...            ...         ...              ...   \n",
       "90          8.69   0.00     8:20:39 AM   Fastlane3           Sunday   \n",
       "34          4.98   0.00     8:31:58 PM  FastLane 2           Sunday   \n",
       "67          3.78   0.00     1:35:00 PM        Dean         Saturday   \n",
       "65          3.29   0.00     8:37:37 AM   FastLane1           Monday   \n",
       "75          2.39   0.20     8:29:00 AM   FastLane1           Sunday   \n",
       "\n",
       "     Total Savings  Terminal  \n",
       "64           50.27         7  \n",
       "120          19.98         7  \n",
       "15           13.07         7  \n",
       "10           14.26         2  \n",
       "122          15.55         6  \n",
       "..             ...       ...  \n",
       "90            0.00      Self  \n",
       "34            0.00      Self  \n",
       "67            0.00         0  \n",
       "65            0.00         0  \n",
       "75            0.40      Self  \n",
       "\n",
       "[148 rows x 31 columns]"
      ]
     },
     "execution_count": 37,
     "metadata": {},
     "output_type": "execute_result"
    }
   ],
   "source": [
    "groceries2_clean.sort_values('Cost (total)', ascending=False)"
   ]
  },
  {
   "cell_type": "code",
   "execution_count": 39,
   "id": "b7475cbd",
   "metadata": {},
   "outputs": [
    {
     "data": {
      "text/html": [
       "<div>\n",
       "<style scoped>\n",
       "    .dataframe tbody tr th:only-of-type {\n",
       "        vertical-align: middle;\n",
       "    }\n",
       "\n",
       "    .dataframe tbody tr th {\n",
       "        vertical-align: top;\n",
       "    }\n",
       "\n",
       "    .dataframe thead th {\n",
       "        text-align: right;\n",
       "    }\n",
       "</style>\n",
       "<table border=\"1\" class=\"dataframe\">\n",
       "  <thead>\n",
       "    <tr style=\"text-align: right;\">\n",
       "      <th></th>\n",
       "      <th>Date</th>\n",
       "      <th>Item Total</th>\n",
       "      <th>Baked Goods qty</th>\n",
       "      <th>Alcohol qty</th>\n",
       "      <th>Grocery qty</th>\n",
       "      <th>Produce qty</th>\n",
       "      <th>Meat qty</th>\n",
       "      <th>Service deli qty</th>\n",
       "      <th>Dairy-Deli (frz/refrig) qty</th>\n",
       "      <th>Gen Merch qty</th>\n",
       "      <th>...</th>\n",
       "      <th>Dairy-Deli cost</th>\n",
       "      <th>Gen Merch cost</th>\n",
       "      <th>Coupon Cost</th>\n",
       "      <th>Cost (total)</th>\n",
       "      <th>Taxes</th>\n",
       "      <th>Checkout Time</th>\n",
       "      <th>Cashier</th>\n",
       "      <th>Day of the Week</th>\n",
       "      <th>Total Savings</th>\n",
       "      <th>Terminal</th>\n",
       "    </tr>\n",
       "  </thead>\n",
       "  <tbody>\n",
       "    <tr>\n",
       "      <th>64</th>\n",
       "      <td>12/20/2020</td>\n",
       "      <td>47</td>\n",
       "      <td>0.0</td>\n",
       "      <td>0.0</td>\n",
       "      <td>15.0</td>\n",
       "      <td>6.0</td>\n",
       "      <td>5.0</td>\n",
       "      <td>0.0</td>\n",
       "      <td>16.0</td>\n",
       "      <td>5.0</td>\n",
       "      <td>...</td>\n",
       "      <td>61.45</td>\n",
       "      <td>28.95</td>\n",
       "      <td>0.00</td>\n",
       "      <td>192.83</td>\n",
       "      <td>3.09</td>\n",
       "      <td>8:45:42 AM</td>\n",
       "      <td>Jacqui</td>\n",
       "      <td>Sunday</td>\n",
       "      <td>50.27</td>\n",
       "      <td>7</td>\n",
       "    </tr>\n",
       "    <tr>\n",
       "      <th>120</th>\n",
       "      <td>12/19/2021</td>\n",
       "      <td>49</td>\n",
       "      <td>1.0</td>\n",
       "      <td>0.0</td>\n",
       "      <td>20.0</td>\n",
       "      <td>9.0</td>\n",
       "      <td>6.0</td>\n",
       "      <td>0.0</td>\n",
       "      <td>13.0</td>\n",
       "      <td>0.0</td>\n",
       "      <td>...</td>\n",
       "      <td>40.41</td>\n",
       "      <td>0.00</td>\n",
       "      <td>0.00</td>\n",
       "      <td>189.71</td>\n",
       "      <td>0.54</td>\n",
       "      <td>8:36:23 AM</td>\n",
       "      <td>Dawn</td>\n",
       "      <td>Sunday</td>\n",
       "      <td>19.98</td>\n",
       "      <td>7</td>\n",
       "    </tr>\n",
       "    <tr>\n",
       "      <th>15</th>\n",
       "      <td>5/3/2020</td>\n",
       "      <td>46</td>\n",
       "      <td>0.0</td>\n",
       "      <td>0.0</td>\n",
       "      <td>24.0</td>\n",
       "      <td>6.0</td>\n",
       "      <td>7.0</td>\n",
       "      <td>0.0</td>\n",
       "      <td>8.0</td>\n",
       "      <td>1.0</td>\n",
       "      <td>...</td>\n",
       "      <td>42.25</td>\n",
       "      <td>3.39</td>\n",
       "      <td>0.00</td>\n",
       "      <td>186.38</td>\n",
       "      <td>0.00</td>\n",
       "      <td>8:18:39 AM</td>\n",
       "      <td>Theresa</td>\n",
       "      <td>Sunday</td>\n",
       "      <td>13.07</td>\n",
       "      <td>7</td>\n",
       "    </tr>\n",
       "    <tr>\n",
       "      <th>10</th>\n",
       "      <td>3/14/2020</td>\n",
       "      <td>36</td>\n",
       "      <td>1.0</td>\n",
       "      <td>0.0</td>\n",
       "      <td>14.0</td>\n",
       "      <td>5.0</td>\n",
       "      <td>7.0</td>\n",
       "      <td>0.0</td>\n",
       "      <td>3.0</td>\n",
       "      <td>6.0</td>\n",
       "      <td>...</td>\n",
       "      <td>22.67</td>\n",
       "      <td>27.34</td>\n",
       "      <td>0.00</td>\n",
       "      <td>182.19</td>\n",
       "      <td>4.81</td>\n",
       "      <td>9:25:08 PM</td>\n",
       "      <td>Richard R</td>\n",
       "      <td>Saturday</td>\n",
       "      <td>14.26</td>\n",
       "      <td>2</td>\n",
       "    </tr>\n",
       "    <tr>\n",
       "      <th>122</th>\n",
       "      <td>12/26/2021</td>\n",
       "      <td>54</td>\n",
       "      <td>0.0</td>\n",
       "      <td>0.0</td>\n",
       "      <td>17.0</td>\n",
       "      <td>10.0</td>\n",
       "      <td>7.0</td>\n",
       "      <td>0.0</td>\n",
       "      <td>13.0</td>\n",
       "      <td>5.0</td>\n",
       "      <td>...</td>\n",
       "      <td>41.63</td>\n",
       "      <td>20.91</td>\n",
       "      <td>0.00</td>\n",
       "      <td>176.47</td>\n",
       "      <td>3.53</td>\n",
       "      <td>9:38:59 PM</td>\n",
       "      <td>Emma</td>\n",
       "      <td>Sunday</td>\n",
       "      <td>15.55</td>\n",
       "      <td>6</td>\n",
       "    </tr>\n",
       "    <tr>\n",
       "      <th>...</th>\n",
       "      <td>...</td>\n",
       "      <td>...</td>\n",
       "      <td>...</td>\n",
       "      <td>...</td>\n",
       "      <td>...</td>\n",
       "      <td>...</td>\n",
       "      <td>...</td>\n",
       "      <td>...</td>\n",
       "      <td>...</td>\n",
       "      <td>...</td>\n",
       "      <td>...</td>\n",
       "      <td>...</td>\n",
       "      <td>...</td>\n",
       "      <td>...</td>\n",
       "      <td>...</td>\n",
       "      <td>...</td>\n",
       "      <td>...</td>\n",
       "      <td>...</td>\n",
       "      <td>...</td>\n",
       "      <td>...</td>\n",
       "      <td>...</td>\n",
       "    </tr>\n",
       "    <tr>\n",
       "      <th>35</th>\n",
       "      <td>8/4/2020</td>\n",
       "      <td>5</td>\n",
       "      <td>0.0</td>\n",
       "      <td>0.0</td>\n",
       "      <td>0.0</td>\n",
       "      <td>0.0</td>\n",
       "      <td>0.0</td>\n",
       "      <td>0.0</td>\n",
       "      <td>0.0</td>\n",
       "      <td>5.0</td>\n",
       "      <td>...</td>\n",
       "      <td>0.00</td>\n",
       "      <td>53.77</td>\n",
       "      <td>0.00</td>\n",
       "      <td>59.00</td>\n",
       "      <td>0.00</td>\n",
       "      <td>6:36:00 AM</td>\n",
       "      <td>Erwin</td>\n",
       "      <td>Tuesday</td>\n",
       "      <td>0.00</td>\n",
       "      <td>1</td>\n",
       "    </tr>\n",
       "    <tr>\n",
       "      <th>20</th>\n",
       "      <td>6/2/2020</td>\n",
       "      <td>18</td>\n",
       "      <td>0.0</td>\n",
       "      <td>0.0</td>\n",
       "      <td>5.0</td>\n",
       "      <td>0.0</td>\n",
       "      <td>1.0</td>\n",
       "      <td>0.0</td>\n",
       "      <td>12.0</td>\n",
       "      <td>0.0</td>\n",
       "      <td>...</td>\n",
       "      <td>34.81</td>\n",
       "      <td>0.00</td>\n",
       "      <td>0.00</td>\n",
       "      <td>55.20</td>\n",
       "      <td>0.00</td>\n",
       "      <td>9:36:48 AM</td>\n",
       "      <td>Alisha(Leigh)</td>\n",
       "      <td>Tuesday</td>\n",
       "      <td>7.88</td>\n",
       "      <td>5</td>\n",
       "    </tr>\n",
       "    <tr>\n",
       "      <th>107</th>\n",
       "      <td>9/30/2021</td>\n",
       "      <td>11</td>\n",
       "      <td>0.0</td>\n",
       "      <td>0.0</td>\n",
       "      <td>2.0</td>\n",
       "      <td>2.0</td>\n",
       "      <td>2.0</td>\n",
       "      <td>0.0</td>\n",
       "      <td>3.0</td>\n",
       "      <td>0.0</td>\n",
       "      <td>...</td>\n",
       "      <td>21.97</td>\n",
       "      <td>0.00</td>\n",
       "      <td>0.00</td>\n",
       "      <td>50.53</td>\n",
       "      <td>0.00</td>\n",
       "      <td>2:01:00 PM</td>\n",
       "      <td>Kai</td>\n",
       "      <td>Thursday</td>\n",
       "      <td>0.00</td>\n",
       "      <td>6</td>\n",
       "    </tr>\n",
       "    <tr>\n",
       "      <th>1</th>\n",
       "      <td>5/16/1995</td>\n",
       "      <td>22</td>\n",
       "      <td>0.0</td>\n",
       "      <td>0.0</td>\n",
       "      <td>22.0</td>\n",
       "      <td>0.0</td>\n",
       "      <td>0.0</td>\n",
       "      <td>0.0</td>\n",
       "      <td>0.0</td>\n",
       "      <td>0.0</td>\n",
       "      <td>...</td>\n",
       "      <td>0.00</td>\n",
       "      <td>0.00</td>\n",
       "      <td>1.57</td>\n",
       "      <td>50.51</td>\n",
       "      <td>1.63</td>\n",
       "      <td>11:50:07 PM</td>\n",
       "      <td>0</td>\n",
       "      <td>Tuesday</td>\n",
       "      <td>0.00</td>\n",
       "      <td>0</td>\n",
       "    </tr>\n",
       "    <tr>\n",
       "      <th>30</th>\n",
       "      <td>7/25/2020</td>\n",
       "      <td>12</td>\n",
       "      <td>0.0</td>\n",
       "      <td>0.0</td>\n",
       "      <td>8.0</td>\n",
       "      <td>0.0</td>\n",
       "      <td>0.0</td>\n",
       "      <td>0.0</td>\n",
       "      <td>1.0</td>\n",
       "      <td>3.0</td>\n",
       "      <td>...</td>\n",
       "      <td>6.11</td>\n",
       "      <td>3.19</td>\n",
       "      <td>0.00</td>\n",
       "      <td>47.66</td>\n",
       "      <td>0.00</td>\n",
       "      <td>11:01:44 AM</td>\n",
       "      <td>Self Serve</td>\n",
       "      <td>Saturday</td>\n",
       "      <td>1.00</td>\n",
       "      <td>0</td>\n",
       "    </tr>\n",
       "  </tbody>\n",
       "</table>\n",
       "<p>115 rows × 31 columns</p>\n",
       "</div>"
      ],
      "text/plain": [
       "           Date  Item Total  Baked Goods qty  Alcohol qty  Grocery qty  \\\n",
       "64   12/20/2020          47              0.0          0.0         15.0   \n",
       "120  12/19/2021          49              1.0          0.0         20.0   \n",
       "15     5/3/2020          46              0.0          0.0         24.0   \n",
       "10    3/14/2020          36              1.0          0.0         14.0   \n",
       "122  12/26/2021          54              0.0          0.0         17.0   \n",
       "..          ...         ...              ...          ...          ...   \n",
       "35     8/4/2020           5              0.0          0.0          0.0   \n",
       "20     6/2/2020          18              0.0          0.0          5.0   \n",
       "107   9/30/2021          11              0.0          0.0          2.0   \n",
       "1     5/16/1995          22              0.0          0.0         22.0   \n",
       "30    7/25/2020          12              0.0          0.0          8.0   \n",
       "\n",
       "     Produce qty  Meat qty  Service deli qty  Dairy-Deli (frz/refrig) qty  \\\n",
       "64           6.0       5.0               0.0                         16.0   \n",
       "120          9.0       6.0               0.0                         13.0   \n",
       "15           6.0       7.0               0.0                          8.0   \n",
       "10           5.0       7.0               0.0                          3.0   \n",
       "122         10.0       7.0               0.0                         13.0   \n",
       "..           ...       ...               ...                          ...   \n",
       "35           0.0       0.0               0.0                          0.0   \n",
       "20           0.0       1.0               0.0                         12.0   \n",
       "107          2.0       2.0               0.0                          3.0   \n",
       "1            0.0       0.0               0.0                          0.0   \n",
       "30           0.0       0.0               0.0                          1.0   \n",
       "\n",
       "     Gen Merch qty  ...  Dairy-Deli cost  Gen Merch cost  Coupon Cost  \\\n",
       "64             5.0  ...            61.45           28.95         0.00   \n",
       "120            0.0  ...            40.41            0.00         0.00   \n",
       "15             1.0  ...            42.25            3.39         0.00   \n",
       "10             6.0  ...            22.67           27.34         0.00   \n",
       "122            5.0  ...            41.63           20.91         0.00   \n",
       "..             ...  ...              ...             ...          ...   \n",
       "35             5.0  ...             0.00           53.77         0.00   \n",
       "20             0.0  ...            34.81            0.00         0.00   \n",
       "107            0.0  ...            21.97            0.00         0.00   \n",
       "1              0.0  ...             0.00            0.00         1.57   \n",
       "30             3.0  ...             6.11            3.19         0.00   \n",
       "\n",
       "    Cost (total)  Taxes  Checkout Time        Cashier  Day of the Week  \\\n",
       "64        192.83   3.09     8:45:42 AM         Jacqui           Sunday   \n",
       "120       189.71   0.54     8:36:23 AM           Dawn           Sunday   \n",
       "15        186.38   0.00     8:18:39 AM        Theresa           Sunday   \n",
       "10        182.19   4.81     9:25:08 PM      Richard R         Saturday   \n",
       "122       176.47   3.53     9:38:59 PM           Emma           Sunday   \n",
       "..           ...    ...            ...            ...              ...   \n",
       "35         59.00   0.00     6:36:00 AM          Erwin          Tuesday   \n",
       "20         55.20   0.00     9:36:48 AM  Alisha(Leigh)          Tuesday   \n",
       "107        50.53   0.00     2:01:00 PM            Kai         Thursday   \n",
       "1          50.51   1.63    11:50:07 PM              0          Tuesday   \n",
       "30         47.66   0.00    11:01:44 AM     Self Serve         Saturday   \n",
       "\n",
       "     Total Savings  Terminal  \n",
       "64           50.27         7  \n",
       "120          19.98         7  \n",
       "15           13.07         7  \n",
       "10           14.26         2  \n",
       "122          15.55         6  \n",
       "..             ...       ...  \n",
       "35            0.00         1  \n",
       "20            7.88         5  \n",
       "107           0.00         6  \n",
       "1             0.00         0  \n",
       "30            1.00         0  \n",
       "\n",
       "[115 rows x 31 columns]"
      ]
     },
     "execution_count": 39,
     "metadata": {},
     "output_type": "execute_result"
    }
   ],
   "source": [
    "larger_grocery_bills=groceries2_clean.sort_values('Cost (total)', ascending=False)[:115]\n",
    "larger_grocery_bills"
   ]
  },
  {
   "cell_type": "code",
   "execution_count": null,
   "id": "77fcfd96",
   "metadata": {},
   "outputs": [],
   "source": []
  }
 ],
 "metadata": {
  "kernelspec": {
   "display_name": "Python 3 (ipykernel)",
   "language": "python",
   "name": "python3"
  },
  "language_info": {
   "codemirror_mode": {
    "name": "ipython",
    "version": 3
   },
   "file_extension": ".py",
   "mimetype": "text/x-python",
   "name": "python",
   "nbconvert_exporter": "python",
   "pygments_lexer": "ipython3",
   "version": "3.9.12"
  }
 },
 "nbformat": 4,
 "nbformat_minor": 5
}
